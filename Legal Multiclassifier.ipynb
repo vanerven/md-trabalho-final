{
  "cells": [
    {
      "cell_type": "markdown",
      "metadata": {
        "id": "view-in-github",
        "colab_type": "text"
      },
      "source": [
        "<a href=\"https://colab.research.google.com/github/vanerven/md-trabalho-final/blob/master/Legal%20Multiclassifier.ipynb\" target=\"_parent\"><img src=\"https://colab.research.google.com/assets/colab-badge.svg\" alt=\"Open In Colab\"/></a>"
      ]
    },
    {
      "cell_type": "markdown",
      "metadata": {
        "collapsed": false,
        "pycharm": {
          "name": "#%% md\n"
        },
        "id": "N64w8fMh-W3Y"
      },
      "source": [
        "# Trabalho Final de Mineração de Dados"
      ]
    },
    {
      "cell_type": "markdown",
      "metadata": {
        "collapsed": false,
        "pycharm": {
          "name": "#%% md\n"
        },
        "id": "87urLhmE-W3m"
      },
      "source": [
        "## Importando bibliotecas"
      ]
    },
    {
      "cell_type": "code",
      "source": [
        "!pip install pydot scikit-plot  graphviz xgboost xgboost test \n",
        "from urllib.parse import urlencode\n",
        "# six.moves six.moves.urllib"
      ],
      "metadata": {
        "colab": {
          "base_uri": "https://localhost:8080/"
        },
        "id": "JHOD13wJCdc5",
        "outputId": "1b0856ba-9c23-4a8f-b8b0-e46acc0a3dd0"
      },
      "execution_count": 34,
      "outputs": [
        {
          "output_type": "stream",
          "name": "stdout",
          "text": [
            "Looking in indexes: https://pypi.org/simple, https://us-python.pkg.dev/colab-wheels/public/simple/\n",
            "Requirement already satisfied: pydot in /usr/local/lib/python3.7/dist-packages (1.3.0)\n",
            "Collecting scikit-plot\n",
            "  Using cached scikit_plot-0.3.7-py3-none-any.whl (33 kB)\n",
            "Requirement already satisfied: graphviz in /usr/local/lib/python3.7/dist-packages (0.10.1)\n",
            "Requirement already satisfied: xgboost in /usr/local/lib/python3.7/dist-packages (0.90)\n",
            "\u001b[31mERROR: Could not find a version that satisfies the requirement test (from versions: none)\u001b[0m\n",
            "\u001b[31mERROR: No matching distribution found for test\u001b[0m\n"
          ]
        }
      ]
    },
    {
      "cell_type": "code",
      "execution_count": 35,
      "metadata": {
        "pycharm": {
          "name": "#%%\n"
        },
        "colab": {
          "base_uri": "https://localhost:8080/"
        },
        "id": "4likbz2i-W3p",
        "outputId": "eb31fb5b-e3f7-47f5-a911-2062f98b233c"
      },
      "outputs": [
        {
          "output_type": "stream",
          "name": "stderr",
          "text": [
            "[nltk_data] Downloading package punkt to /root/nltk_data...\n",
            "[nltk_data]   Package punkt is already up-to-date!\n",
            "[nltk_data] Downloading package stopwords to /root/nltk_data...\n",
            "[nltk_data]   Package stopwords is already up-to-date!\n"
          ]
        },
        {
          "output_type": "execute_result",
          "data": {
            "text/plain": [
              "True"
            ]
          },
          "metadata": {},
          "execution_count": 35
        }
      ],
      "source": [
        "from gensim.models import KeyedVectors\n",
        "from sklearn.model_selection import train_test_split\n",
        "from sklearn.linear_model import LogisticRegression\n",
        "from sklearn.metrics import classification_report\n",
        "from sklearn.dummy import DummyClassifier\n",
        "from sklearn import metrics\n",
        "from collections import Counter\n",
        "import pandas as pd\n",
        "import numpy as np\n",
        "import nltk\n",
        "import string\n",
        "nltk.download(\"punkt\")\n",
        "nltk.download(\"stopwords\")"
      ]
    },
    {
      "cell_type": "markdown",
      "metadata": {
        "collapsed": false,
        "pycharm": {
          "name": "#%% md\n"
        },
        "id": "1cWbIAtX-W3t"
      },
      "source": [
        "## 1 - Fase de Preparação dos Dados\n",
        "---"
      ]
    },
    {
      "cell_type": "markdown",
      "metadata": {
        "collapsed": false,
        "pycharm": {
          "name": "#%% md\n"
        },
        "id": "4mAzX9Ac-W3v"
      },
      "source": [
        "Carregando o arquivo original de classes."
      ]
    },
    {
      "cell_type": "code",
      "execution_count": 36,
      "metadata": {
        "pycharm": {
          "name": "#%%\n"
        },
        "colab": {
          "base_uri": "https://localhost:8080/",
          "height": 548
        },
        "id": "XJ-Mq42T-W3w",
        "outputId": "8877c04f-bfd7-4eb7-b10d-43188e3f73b6"
      },
      "outputs": [
        {
          "output_type": "execute_result",
          "data": {
            "text/plain": [
              "        COD_CLASSE                          DES_NOME_PREFERIDO  \\\n",
              "0    1    33254494            Classificação Temática Unificada   \n",
              "1    2    33809814         Temas Exclusivos de Pronunciamentos   \n",
              "2    3    33809634                               Meio Ambiente   \n",
              "3    4    33809514  Soberania, Defesa Nacional e Ordem Pública   \n",
              "4    5    33808912                             Política Social   \n",
              "\n",
              "   COD_CLASSE_PAI  NUM_NIVEL  CYCLE  \\\n",
              "0             NaN          1      0   \n",
              "1      33254494.0          2      0   \n",
              "2      33254494.0          2      0   \n",
              "3      33254494.0          2      0   \n",
              "4      33254494.0          2      0   \n",
              "\n",
              "                                            TREE  \\\n",
              "0               Classificação Temática Unificada   \n",
              "1         -- Temas Exclusivos de Pronunciamentos   \n",
              "2                               -- Meio Ambiente   \n",
              "3  -- Soberania, Defesa Nacional e Ordem Pública   \n",
              "4                             -- Política Social   \n",
              "\n",
              "                                                PATH  QTD_FILHOS  \\\n",
              "0                   Classificação Temática Unificada         202   \n",
              "1  Classificação Temática Unificada / Temas Exclu...          22   \n",
              "2   Classificação Temática Unificada / Meio Ambiente          11   \n",
              "3  Classificação Temática Unificada / Soberania, ...           7   \n",
              "4  Classificação Temática Unificada / Política So...          37   \n",
              "\n",
              "                                   DES_NIVEL1 DES_NIVEL2 DES_NIVEL3  \\\n",
              "0                                         NaN        NaN        NaN   \n",
              "1         Temas Exclusivos de Pronunciamentos        NaN        NaN   \n",
              "2                               Meio Ambiente        NaN        NaN   \n",
              "3  Soberania, Defesa Nacional e Ordem Pública        NaN        NaN   \n",
              "4                             Política Social        NaN        NaN   \n",
              "\n",
              "   DES_NIVEL4  \n",
              "0         NaN  \n",
              "1         NaN  \n",
              "2         NaN  \n",
              "3         NaN  \n",
              "4         NaN  "
            ],
            "text/html": [
              "\n",
              "  <div id=\"df-f8021394-b711-455d-8d3c-02d549fcdca2\">\n",
              "    <div class=\"colab-df-container\">\n",
              "      <div>\n",
              "<style scoped>\n",
              "    .dataframe tbody tr th:only-of-type {\n",
              "        vertical-align: middle;\n",
              "    }\n",
              "\n",
              "    .dataframe tbody tr th {\n",
              "        vertical-align: top;\n",
              "    }\n",
              "\n",
              "    .dataframe thead th {\n",
              "        text-align: right;\n",
              "    }\n",
              "</style>\n",
              "<table border=\"1\" class=\"dataframe\">\n",
              "  <thead>\n",
              "    <tr style=\"text-align: right;\">\n",
              "      <th></th>\n",
              "      <th></th>\n",
              "      <th>COD_CLASSE</th>\n",
              "      <th>DES_NOME_PREFERIDO</th>\n",
              "      <th>COD_CLASSE_PAI</th>\n",
              "      <th>NUM_NIVEL</th>\n",
              "      <th>CYCLE</th>\n",
              "      <th>TREE</th>\n",
              "      <th>PATH</th>\n",
              "      <th>QTD_FILHOS</th>\n",
              "      <th>DES_NIVEL1</th>\n",
              "      <th>DES_NIVEL2</th>\n",
              "      <th>DES_NIVEL3</th>\n",
              "      <th>DES_NIVEL4</th>\n",
              "    </tr>\n",
              "  </thead>\n",
              "  <tbody>\n",
              "    <tr>\n",
              "      <th>0</th>\n",
              "      <td>1</td>\n",
              "      <td>33254494</td>\n",
              "      <td>Classificação Temática Unificada</td>\n",
              "      <td>NaN</td>\n",
              "      <td>1</td>\n",
              "      <td>0</td>\n",
              "      <td>Classificação Temática Unificada</td>\n",
              "      <td>Classificação Temática Unificada</td>\n",
              "      <td>202</td>\n",
              "      <td>NaN</td>\n",
              "      <td>NaN</td>\n",
              "      <td>NaN</td>\n",
              "      <td>NaN</td>\n",
              "    </tr>\n",
              "    <tr>\n",
              "      <th>1</th>\n",
              "      <td>2</td>\n",
              "      <td>33809814</td>\n",
              "      <td>Temas Exclusivos de Pronunciamentos</td>\n",
              "      <td>33254494.0</td>\n",
              "      <td>2</td>\n",
              "      <td>0</td>\n",
              "      <td>-- Temas Exclusivos de Pronunciamentos</td>\n",
              "      <td>Classificação Temática Unificada / Temas Exclu...</td>\n",
              "      <td>22</td>\n",
              "      <td>Temas Exclusivos de Pronunciamentos</td>\n",
              "      <td>NaN</td>\n",
              "      <td>NaN</td>\n",
              "      <td>NaN</td>\n",
              "    </tr>\n",
              "    <tr>\n",
              "      <th>2</th>\n",
              "      <td>3</td>\n",
              "      <td>33809634</td>\n",
              "      <td>Meio Ambiente</td>\n",
              "      <td>33254494.0</td>\n",
              "      <td>2</td>\n",
              "      <td>0</td>\n",
              "      <td>-- Meio Ambiente</td>\n",
              "      <td>Classificação Temática Unificada / Meio Ambiente</td>\n",
              "      <td>11</td>\n",
              "      <td>Meio Ambiente</td>\n",
              "      <td>NaN</td>\n",
              "      <td>NaN</td>\n",
              "      <td>NaN</td>\n",
              "    </tr>\n",
              "    <tr>\n",
              "      <th>3</th>\n",
              "      <td>4</td>\n",
              "      <td>33809514</td>\n",
              "      <td>Soberania, Defesa Nacional e Ordem Pública</td>\n",
              "      <td>33254494.0</td>\n",
              "      <td>2</td>\n",
              "      <td>0</td>\n",
              "      <td>-- Soberania, Defesa Nacional e Ordem Pública</td>\n",
              "      <td>Classificação Temática Unificada / Soberania, ...</td>\n",
              "      <td>7</td>\n",
              "      <td>Soberania, Defesa Nacional e Ordem Pública</td>\n",
              "      <td>NaN</td>\n",
              "      <td>NaN</td>\n",
              "      <td>NaN</td>\n",
              "    </tr>\n",
              "    <tr>\n",
              "      <th>4</th>\n",
              "      <td>5</td>\n",
              "      <td>33808912</td>\n",
              "      <td>Política Social</td>\n",
              "      <td>33254494.0</td>\n",
              "      <td>2</td>\n",
              "      <td>0</td>\n",
              "      <td>-- Política Social</td>\n",
              "      <td>Classificação Temática Unificada / Política So...</td>\n",
              "      <td>37</td>\n",
              "      <td>Política Social</td>\n",
              "      <td>NaN</td>\n",
              "      <td>NaN</td>\n",
              "      <td>NaN</td>\n",
              "    </tr>\n",
              "  </tbody>\n",
              "</table>\n",
              "</div>\n",
              "      <button class=\"colab-df-convert\" onclick=\"convertToInteractive('df-f8021394-b711-455d-8d3c-02d549fcdca2')\"\n",
              "              title=\"Convert this dataframe to an interactive table.\"\n",
              "              style=\"display:none;\">\n",
              "        \n",
              "  <svg xmlns=\"http://www.w3.org/2000/svg\" height=\"24px\"viewBox=\"0 0 24 24\"\n",
              "       width=\"24px\">\n",
              "    <path d=\"M0 0h24v24H0V0z\" fill=\"none\"/>\n",
              "    <path d=\"M18.56 5.44l.94 2.06.94-2.06 2.06-.94-2.06-.94-.94-2.06-.94 2.06-2.06.94zm-11 1L8.5 8.5l.94-2.06 2.06-.94-2.06-.94L8.5 2.5l-.94 2.06-2.06.94zm10 10l.94 2.06.94-2.06 2.06-.94-2.06-.94-.94-2.06-.94 2.06-2.06.94z\"/><path d=\"M17.41 7.96l-1.37-1.37c-.4-.4-.92-.59-1.43-.59-.52 0-1.04.2-1.43.59L10.3 9.45l-7.72 7.72c-.78.78-.78 2.05 0 2.83L4 21.41c.39.39.9.59 1.41.59.51 0 1.02-.2 1.41-.59l7.78-7.78 2.81-2.81c.8-.78.8-2.07 0-2.86zM5.41 20L4 18.59l7.72-7.72 1.47 1.35L5.41 20z\"/>\n",
              "  </svg>\n",
              "      </button>\n",
              "      \n",
              "  <style>\n",
              "    .colab-df-container {\n",
              "      display:flex;\n",
              "      flex-wrap:wrap;\n",
              "      gap: 12px;\n",
              "    }\n",
              "\n",
              "    .colab-df-convert {\n",
              "      background-color: #E8F0FE;\n",
              "      border: none;\n",
              "      border-radius: 50%;\n",
              "      cursor: pointer;\n",
              "      display: none;\n",
              "      fill: #1967D2;\n",
              "      height: 32px;\n",
              "      padding: 0 0 0 0;\n",
              "      width: 32px;\n",
              "    }\n",
              "\n",
              "    .colab-df-convert:hover {\n",
              "      background-color: #E2EBFA;\n",
              "      box-shadow: 0px 1px 2px rgba(60, 64, 67, 0.3), 0px 1px 3px 1px rgba(60, 64, 67, 0.15);\n",
              "      fill: #174EA6;\n",
              "    }\n",
              "\n",
              "    [theme=dark] .colab-df-convert {\n",
              "      background-color: #3B4455;\n",
              "      fill: #D2E3FC;\n",
              "    }\n",
              "\n",
              "    [theme=dark] .colab-df-convert:hover {\n",
              "      background-color: #434B5C;\n",
              "      box-shadow: 0px 1px 3px 1px rgba(0, 0, 0, 0.15);\n",
              "      filter: drop-shadow(0px 1px 2px rgba(0, 0, 0, 0.3));\n",
              "      fill: #FFFFFF;\n",
              "    }\n",
              "  </style>\n",
              "\n",
              "      <script>\n",
              "        const buttonEl =\n",
              "          document.querySelector('#df-f8021394-b711-455d-8d3c-02d549fcdca2 button.colab-df-convert');\n",
              "        buttonEl.style.display =\n",
              "          google.colab.kernel.accessAllowed ? 'block' : 'none';\n",
              "\n",
              "        async function convertToInteractive(key) {\n",
              "          const element = document.querySelector('#df-f8021394-b711-455d-8d3c-02d549fcdca2');\n",
              "          const dataTable =\n",
              "            await google.colab.kernel.invokeFunction('convertToInteractive',\n",
              "                                                     [key], {});\n",
              "          if (!dataTable) return;\n",
              "\n",
              "          const docLinkHtml = 'Like what you see? Visit the ' +\n",
              "            '<a target=\"_blank\" href=https://colab.research.google.com/notebooks/data_table.ipynb>data table notebook</a>'\n",
              "            + ' to learn more about interactive tables.';\n",
              "          element.innerHTML = '';\n",
              "          dataTable['output_type'] = 'display_data';\n",
              "          await google.colab.output.renderOutput(dataTable, element);\n",
              "          const docLink = document.createElement('div');\n",
              "          docLink.innerHTML = docLinkHtml;\n",
              "          element.appendChild(docLink);\n",
              "        }\n",
              "      </script>\n",
              "    </div>\n",
              "  </div>\n",
              "  "
            ]
          },
          "metadata": {},
          "execution_count": 36
        }
      ],
      "source": [
        "classes_original = pd.read_excel(\"dados/SistemaDeClassificacao.xlsx\", \"Select viw_classificacao_arvore\")\n",
        "classes_original.head()"
      ]
    },
    {
      "cell_type": "markdown",
      "metadata": {
        "collapsed": false,
        "pycharm": {
          "name": "#%% md\n"
        },
        "id": "AOwa7iTg-W3y"
      },
      "source": [
        "Filtra o arquivo de classes original para exibir apenas aquelas que serão raiz na classificação da ementa.\n",
        "Essa classes possuem nível 2 na tabela original."
      ]
    },
    {
      "cell_type": "code",
      "execution_count": 37,
      "metadata": {
        "pycharm": {
          "name": "#%%\n"
        },
        "colab": {
          "base_uri": "https://localhost:8080/",
          "height": 394
        },
        "id": "14abx75D-W30",
        "outputId": "0d2ed8d2-8c80-4829-e053-25c2468f22a7"
      },
      "outputs": [
        {
          "output_type": "execute_result",
          "data": {
            "text/plain": [
              "    COD_CLASSE                                  DES_CLASSE\n",
              "1     33809814         Temas Exclusivos de Pronunciamentos\n",
              "2     33809634                               Meio Ambiente\n",
              "3     33809514  Soberania, Defesa Nacional e Ordem Pública\n",
              "4     33808912                             Política Social\n",
              "5     33805362                                    Jurídico\n",
              "6     33805317                                  Honorífico\n",
              "7     33805137                              Infraestrutura\n",
              "8     33769167                  Economia e Desenvolvimento\n",
              "9     33768972                       Organização do Estado\n",
              "10    33685789                       Administração Pública\n",
              "11    33260515                           Orçamento Público"
            ],
            "text/html": [
              "\n",
              "  <div id=\"df-e985856e-ab04-445e-9248-83432d2eb97b\">\n",
              "    <div class=\"colab-df-container\">\n",
              "      <div>\n",
              "<style scoped>\n",
              "    .dataframe tbody tr th:only-of-type {\n",
              "        vertical-align: middle;\n",
              "    }\n",
              "\n",
              "    .dataframe tbody tr th {\n",
              "        vertical-align: top;\n",
              "    }\n",
              "\n",
              "    .dataframe thead th {\n",
              "        text-align: right;\n",
              "    }\n",
              "</style>\n",
              "<table border=\"1\" class=\"dataframe\">\n",
              "  <thead>\n",
              "    <tr style=\"text-align: right;\">\n",
              "      <th></th>\n",
              "      <th>COD_CLASSE</th>\n",
              "      <th>DES_CLASSE</th>\n",
              "    </tr>\n",
              "  </thead>\n",
              "  <tbody>\n",
              "    <tr>\n",
              "      <th>1</th>\n",
              "      <td>33809814</td>\n",
              "      <td>Temas Exclusivos de Pronunciamentos</td>\n",
              "    </tr>\n",
              "    <tr>\n",
              "      <th>2</th>\n",
              "      <td>33809634</td>\n",
              "      <td>Meio Ambiente</td>\n",
              "    </tr>\n",
              "    <tr>\n",
              "      <th>3</th>\n",
              "      <td>33809514</td>\n",
              "      <td>Soberania, Defesa Nacional e Ordem Pública</td>\n",
              "    </tr>\n",
              "    <tr>\n",
              "      <th>4</th>\n",
              "      <td>33808912</td>\n",
              "      <td>Política Social</td>\n",
              "    </tr>\n",
              "    <tr>\n",
              "      <th>5</th>\n",
              "      <td>33805362</td>\n",
              "      <td>Jurídico</td>\n",
              "    </tr>\n",
              "    <tr>\n",
              "      <th>6</th>\n",
              "      <td>33805317</td>\n",
              "      <td>Honorífico</td>\n",
              "    </tr>\n",
              "    <tr>\n",
              "      <th>7</th>\n",
              "      <td>33805137</td>\n",
              "      <td>Infraestrutura</td>\n",
              "    </tr>\n",
              "    <tr>\n",
              "      <th>8</th>\n",
              "      <td>33769167</td>\n",
              "      <td>Economia e Desenvolvimento</td>\n",
              "    </tr>\n",
              "    <tr>\n",
              "      <th>9</th>\n",
              "      <td>33768972</td>\n",
              "      <td>Organização do Estado</td>\n",
              "    </tr>\n",
              "    <tr>\n",
              "      <th>10</th>\n",
              "      <td>33685789</td>\n",
              "      <td>Administração Pública</td>\n",
              "    </tr>\n",
              "    <tr>\n",
              "      <th>11</th>\n",
              "      <td>33260515</td>\n",
              "      <td>Orçamento Público</td>\n",
              "    </tr>\n",
              "  </tbody>\n",
              "</table>\n",
              "</div>\n",
              "      <button class=\"colab-df-convert\" onclick=\"convertToInteractive('df-e985856e-ab04-445e-9248-83432d2eb97b')\"\n",
              "              title=\"Convert this dataframe to an interactive table.\"\n",
              "              style=\"display:none;\">\n",
              "        \n",
              "  <svg xmlns=\"http://www.w3.org/2000/svg\" height=\"24px\"viewBox=\"0 0 24 24\"\n",
              "       width=\"24px\">\n",
              "    <path d=\"M0 0h24v24H0V0z\" fill=\"none\"/>\n",
              "    <path d=\"M18.56 5.44l.94 2.06.94-2.06 2.06-.94-2.06-.94-.94-2.06-.94 2.06-2.06.94zm-11 1L8.5 8.5l.94-2.06 2.06-.94-2.06-.94L8.5 2.5l-.94 2.06-2.06.94zm10 10l.94 2.06.94-2.06 2.06-.94-2.06-.94-.94-2.06-.94 2.06-2.06.94z\"/><path d=\"M17.41 7.96l-1.37-1.37c-.4-.4-.92-.59-1.43-.59-.52 0-1.04.2-1.43.59L10.3 9.45l-7.72 7.72c-.78.78-.78 2.05 0 2.83L4 21.41c.39.39.9.59 1.41.59.51 0 1.02-.2 1.41-.59l7.78-7.78 2.81-2.81c.8-.78.8-2.07 0-2.86zM5.41 20L4 18.59l7.72-7.72 1.47 1.35L5.41 20z\"/>\n",
              "  </svg>\n",
              "      </button>\n",
              "      \n",
              "  <style>\n",
              "    .colab-df-container {\n",
              "      display:flex;\n",
              "      flex-wrap:wrap;\n",
              "      gap: 12px;\n",
              "    }\n",
              "\n",
              "    .colab-df-convert {\n",
              "      background-color: #E8F0FE;\n",
              "      border: none;\n",
              "      border-radius: 50%;\n",
              "      cursor: pointer;\n",
              "      display: none;\n",
              "      fill: #1967D2;\n",
              "      height: 32px;\n",
              "      padding: 0 0 0 0;\n",
              "      width: 32px;\n",
              "    }\n",
              "\n",
              "    .colab-df-convert:hover {\n",
              "      background-color: #E2EBFA;\n",
              "      box-shadow: 0px 1px 2px rgba(60, 64, 67, 0.3), 0px 1px 3px 1px rgba(60, 64, 67, 0.15);\n",
              "      fill: #174EA6;\n",
              "    }\n",
              "\n",
              "    [theme=dark] .colab-df-convert {\n",
              "      background-color: #3B4455;\n",
              "      fill: #D2E3FC;\n",
              "    }\n",
              "\n",
              "    [theme=dark] .colab-df-convert:hover {\n",
              "      background-color: #434B5C;\n",
              "      box-shadow: 0px 1px 3px 1px rgba(0, 0, 0, 0.15);\n",
              "      filter: drop-shadow(0px 1px 2px rgba(0, 0, 0, 0.3));\n",
              "      fill: #FFFFFF;\n",
              "    }\n",
              "  </style>\n",
              "\n",
              "      <script>\n",
              "        const buttonEl =\n",
              "          document.querySelector('#df-e985856e-ab04-445e-9248-83432d2eb97b button.colab-df-convert');\n",
              "        buttonEl.style.display =\n",
              "          google.colab.kernel.accessAllowed ? 'block' : 'none';\n",
              "\n",
              "        async function convertToInteractive(key) {\n",
              "          const element = document.querySelector('#df-e985856e-ab04-445e-9248-83432d2eb97b');\n",
              "          const dataTable =\n",
              "            await google.colab.kernel.invokeFunction('convertToInteractive',\n",
              "                                                     [key], {});\n",
              "          if (!dataTable) return;\n",
              "\n",
              "          const docLinkHtml = 'Like what you see? Visit the ' +\n",
              "            '<a target=\"_blank\" href=https://colab.research.google.com/notebooks/data_table.ipynb>data table notebook</a>'\n",
              "            + ' to learn more about interactive tables.';\n",
              "          element.innerHTML = '';\n",
              "          dataTable['output_type'] = 'display_data';\n",
              "          await google.colab.output.renderOutput(dataTable, element);\n",
              "          const docLink = document.createElement('div');\n",
              "          docLink.innerHTML = docLinkHtml;\n",
              "          element.appendChild(docLink);\n",
              "        }\n",
              "      </script>\n",
              "    </div>\n",
              "  </div>\n",
              "  "
            ]
          },
          "metadata": {},
          "execution_count": 37
        }
      ],
      "source": [
        "classes_raiz = classes_original.query(\"NUM_NIVEL == 2\").filter([\"COD_CLASSE\", \"DES_NOME_PREFERIDO\"])\n",
        "classes_raiz.rename(columns={\"DES_NOME_PREFERIDO\": \"DES_CLASSE\"}, inplace=True)\n",
        "classes_raiz"
      ]
    },
    {
      "cell_type": "markdown",
      "metadata": {
        "collapsed": false,
        "pycharm": {
          "name": "#%% md\n"
        },
        "id": "NVoIqffw-W33"
      },
      "source": [
        "Carrega o dataset contendo as leis que já foram classificadas. Com os dados carregados, cria uma coluna derivada (DES_CLASSE_RAIZ) a partir da árvore de classes (DES_CLASSE_HIERARQUIA), da qual a informação de classe raiz é extraída."
      ]
    },
    {
      "cell_type": "code",
      "execution_count": 38,
      "metadata": {
        "pycharm": {
          "name": "#%%\n"
        },
        "colab": {
          "base_uri": "https://localhost:8080/",
          "height": 206
        },
        "id": "Pb7bsLLm-W35",
        "outputId": "80c5bb41-7452-4791-ff93-1dbec6d7d49b"
      },
      "outputs": [
        {
          "output_type": "execute_result",
          "data": {
            "text/plain": [
              "        COD_PRC_DOC_TEMA  COD_PROCESSO_DOCUMENTO  COD_CLASSE  \\\n",
              "0    1          36155183                  386343    33805827   \n",
              "1    2          36192020                  386579    33805287   \n",
              "2    3          36155185                  387419    33805827   \n",
              "3    4          36192056                  387832    33805287   \n",
              "4    5          36155187                  388197    33805827   \n",
              "\n",
              "            DES_CLASSE                              DES_CLASSE_HIERARQUIA  \\\n",
              "0  Crédito Suplementar  Classificação Temática Unificada / Orçamento P...   \n",
              "1           Rádio e TV  Classificação Temática Unificada / Infraestrut...   \n",
              "2  Crédito Suplementar  Classificação Temática Unificada / Orçamento P...   \n",
              "3           Rádio e TV  Classificação Temática Unificada / Infraestrut...   \n",
              "4  Crédito Suplementar  Classificação Temática Unificada / Orçamento P...   \n",
              "\n",
              "     DES_CLASSE_RAIZ  \n",
              "0  Orçamento Público  \n",
              "1     Infraestrutura  \n",
              "2  Orçamento Público  \n",
              "3     Infraestrutura  \n",
              "4  Orçamento Público  "
            ],
            "text/html": [
              "\n",
              "  <div id=\"df-13273731-a43c-49c0-b4ef-388a85e3652b\">\n",
              "    <div class=\"colab-df-container\">\n",
              "      <div>\n",
              "<style scoped>\n",
              "    .dataframe tbody tr th:only-of-type {\n",
              "        vertical-align: middle;\n",
              "    }\n",
              "\n",
              "    .dataframe tbody tr th {\n",
              "        vertical-align: top;\n",
              "    }\n",
              "\n",
              "    .dataframe thead th {\n",
              "        text-align: right;\n",
              "    }\n",
              "</style>\n",
              "<table border=\"1\" class=\"dataframe\">\n",
              "  <thead>\n",
              "    <tr style=\"text-align: right;\">\n",
              "      <th></th>\n",
              "      <th></th>\n",
              "      <th>COD_PRC_DOC_TEMA</th>\n",
              "      <th>COD_PROCESSO_DOCUMENTO</th>\n",
              "      <th>COD_CLASSE</th>\n",
              "      <th>DES_CLASSE</th>\n",
              "      <th>DES_CLASSE_HIERARQUIA</th>\n",
              "      <th>DES_CLASSE_RAIZ</th>\n",
              "    </tr>\n",
              "  </thead>\n",
              "  <tbody>\n",
              "    <tr>\n",
              "      <th>0</th>\n",
              "      <td>1</td>\n",
              "      <td>36155183</td>\n",
              "      <td>386343</td>\n",
              "      <td>33805827</td>\n",
              "      <td>Crédito Suplementar</td>\n",
              "      <td>Classificação Temática Unificada / Orçamento P...</td>\n",
              "      <td>Orçamento Público</td>\n",
              "    </tr>\n",
              "    <tr>\n",
              "      <th>1</th>\n",
              "      <td>2</td>\n",
              "      <td>36192020</td>\n",
              "      <td>386579</td>\n",
              "      <td>33805287</td>\n",
              "      <td>Rádio e TV</td>\n",
              "      <td>Classificação Temática Unificada / Infraestrut...</td>\n",
              "      <td>Infraestrutura</td>\n",
              "    </tr>\n",
              "    <tr>\n",
              "      <th>2</th>\n",
              "      <td>3</td>\n",
              "      <td>36155185</td>\n",
              "      <td>387419</td>\n",
              "      <td>33805827</td>\n",
              "      <td>Crédito Suplementar</td>\n",
              "      <td>Classificação Temática Unificada / Orçamento P...</td>\n",
              "      <td>Orçamento Público</td>\n",
              "    </tr>\n",
              "    <tr>\n",
              "      <th>3</th>\n",
              "      <td>4</td>\n",
              "      <td>36192056</td>\n",
              "      <td>387832</td>\n",
              "      <td>33805287</td>\n",
              "      <td>Rádio e TV</td>\n",
              "      <td>Classificação Temática Unificada / Infraestrut...</td>\n",
              "      <td>Infraestrutura</td>\n",
              "    </tr>\n",
              "    <tr>\n",
              "      <th>4</th>\n",
              "      <td>5</td>\n",
              "      <td>36155187</td>\n",
              "      <td>388197</td>\n",
              "      <td>33805827</td>\n",
              "      <td>Crédito Suplementar</td>\n",
              "      <td>Classificação Temática Unificada / Orçamento P...</td>\n",
              "      <td>Orçamento Público</td>\n",
              "    </tr>\n",
              "  </tbody>\n",
              "</table>\n",
              "</div>\n",
              "      <button class=\"colab-df-convert\" onclick=\"convertToInteractive('df-13273731-a43c-49c0-b4ef-388a85e3652b')\"\n",
              "              title=\"Convert this dataframe to an interactive table.\"\n",
              "              style=\"display:none;\">\n",
              "        \n",
              "  <svg xmlns=\"http://www.w3.org/2000/svg\" height=\"24px\"viewBox=\"0 0 24 24\"\n",
              "       width=\"24px\">\n",
              "    <path d=\"M0 0h24v24H0V0z\" fill=\"none\"/>\n",
              "    <path d=\"M18.56 5.44l.94 2.06.94-2.06 2.06-.94-2.06-.94-.94-2.06-.94 2.06-2.06.94zm-11 1L8.5 8.5l.94-2.06 2.06-.94-2.06-.94L8.5 2.5l-.94 2.06-2.06.94zm10 10l.94 2.06.94-2.06 2.06-.94-2.06-.94-.94-2.06-.94 2.06-2.06.94z\"/><path d=\"M17.41 7.96l-1.37-1.37c-.4-.4-.92-.59-1.43-.59-.52 0-1.04.2-1.43.59L10.3 9.45l-7.72 7.72c-.78.78-.78 2.05 0 2.83L4 21.41c.39.39.9.59 1.41.59.51 0 1.02-.2 1.41-.59l7.78-7.78 2.81-2.81c.8-.78.8-2.07 0-2.86zM5.41 20L4 18.59l7.72-7.72 1.47 1.35L5.41 20z\"/>\n",
              "  </svg>\n",
              "      </button>\n",
              "      \n",
              "  <style>\n",
              "    .colab-df-container {\n",
              "      display:flex;\n",
              "      flex-wrap:wrap;\n",
              "      gap: 12px;\n",
              "    }\n",
              "\n",
              "    .colab-df-convert {\n",
              "      background-color: #E8F0FE;\n",
              "      border: none;\n",
              "      border-radius: 50%;\n",
              "      cursor: pointer;\n",
              "      display: none;\n",
              "      fill: #1967D2;\n",
              "      height: 32px;\n",
              "      padding: 0 0 0 0;\n",
              "      width: 32px;\n",
              "    }\n",
              "\n",
              "    .colab-df-convert:hover {\n",
              "      background-color: #E2EBFA;\n",
              "      box-shadow: 0px 1px 2px rgba(60, 64, 67, 0.3), 0px 1px 3px 1px rgba(60, 64, 67, 0.15);\n",
              "      fill: #174EA6;\n",
              "    }\n",
              "\n",
              "    [theme=dark] .colab-df-convert {\n",
              "      background-color: #3B4455;\n",
              "      fill: #D2E3FC;\n",
              "    }\n",
              "\n",
              "    [theme=dark] .colab-df-convert:hover {\n",
              "      background-color: #434B5C;\n",
              "      box-shadow: 0px 1px 3px 1px rgba(0, 0, 0, 0.15);\n",
              "      filter: drop-shadow(0px 1px 2px rgba(0, 0, 0, 0.3));\n",
              "      fill: #FFFFFF;\n",
              "    }\n",
              "  </style>\n",
              "\n",
              "      <script>\n",
              "        const buttonEl =\n",
              "          document.querySelector('#df-13273731-a43c-49c0-b4ef-388a85e3652b button.colab-df-convert');\n",
              "        buttonEl.style.display =\n",
              "          google.colab.kernel.accessAllowed ? 'block' : 'none';\n",
              "\n",
              "        async function convertToInteractive(key) {\n",
              "          const element = document.querySelector('#df-13273731-a43c-49c0-b4ef-388a85e3652b');\n",
              "          const dataTable =\n",
              "            await google.colab.kernel.invokeFunction('convertToInteractive',\n",
              "                                                     [key], {});\n",
              "          if (!dataTable) return;\n",
              "\n",
              "          const docLinkHtml = 'Like what you see? Visit the ' +\n",
              "            '<a target=\"_blank\" href=https://colab.research.google.com/notebooks/data_table.ipynb>data table notebook</a>'\n",
              "            + ' to learn more about interactive tables.';\n",
              "          element.innerHTML = '';\n",
              "          dataTable['output_type'] = 'display_data';\n",
              "          await google.colab.output.renderOutput(dataTable, element);\n",
              "          const docLink = document.createElement('div');\n",
              "          docLink.innerHTML = docLinkHtml;\n",
              "          element.appendChild(docLink);\n",
              "        }\n",
              "      </script>\n",
              "    </div>\n",
              "  </div>\n",
              "  "
            ]
          },
          "metadata": {},
          "execution_count": 38
        }
      ],
      "source": [
        "leis_classificadas_original = pd.read_excel(\"dados/ClassificacaoDeLeisOrdinarias-LeisComplementares-e-DecretosNumerados-Desde1900.xlsx\", \"Select mvw_u03_prc_doc_tema\")\n",
        "leis_classificadas_original[\"DES_CLASSE_RAIZ\"] = leis_classificadas_original[\"DES_CLASSE_HIERARQUIA\"].apply(lambda hierarquia : hierarquia.split(\" / \")[1])\n",
        "leis_classificadas_original.head()"
      ]
    },
    {
      "cell_type": "markdown",
      "metadata": {
        "collapsed": false,
        "pycharm": {
          "name": "#%% md\n"
        },
        "id": "aoywk4vY-W37"
      },
      "source": [
        "Carrega os dados de todas as leis (classificadas e não classificadas) e aplica as transformações iniciais."
      ]
    },
    {
      "cell_type": "code",
      "execution_count": 39,
      "metadata": {
        "pycharm": {
          "name": "#%%\n"
        },
        "colab": {
          "base_uri": "https://localhost:8080/",
          "height": 206
        },
        "id": "99WcT2xr-W37",
        "outputId": "0a4c5a9f-7b05-475e-e725-847a897aff52"
      },
      "outputs": [
        {
          "output_type": "execute_result",
          "data": {
            "text/plain": [
              "   COD_DOCUMENTO           DES_NOME_PREFERIDO DES_NOMES_ALTERNATIVOS  \\\n",
              "0       35345364  Lei nº 14.263 de 22/12/2021   LEI-14263-2021-12-22   \n",
              "1       26247104  Lei nº 13.486 de 03/10/2017   LEI-13486-2017-10-03   \n",
              "2       27445746  Lei nº 13.701 de 06/08/2018   LEI-13701-2018-08-06   \n",
              "3       36348502  Lei nº 14.447 de 09/09/2022   LEI-14447-2022-09-09   \n",
              "4       32103727  Lei nº 13.988 de 14/04/2020   LEI-13988-2020-04-14   \n",
              "\n",
              "                                          TXT_EMENTA  \n",
              "0  Abre ao Orçamento da Seguridade Social da Uniã...  \n",
              "1  Altera o art. 8º da Lei nº 8.078, de 11 de set...  \n",
              "2  Cria o cargo de natureza especial de Intervent...  \n",
              "3  Altera os limites da Floresta Nacional de Bras...  \n",
              "4  Dispõe sobre a transação nas hipóteses que esp...  "
            ],
            "text/html": [
              "\n",
              "  <div id=\"df-ded73f70-4527-419c-bfc7-8e59a41a8d2f\">\n",
              "    <div class=\"colab-df-container\">\n",
              "      <div>\n",
              "<style scoped>\n",
              "    .dataframe tbody tr th:only-of-type {\n",
              "        vertical-align: middle;\n",
              "    }\n",
              "\n",
              "    .dataframe tbody tr th {\n",
              "        vertical-align: top;\n",
              "    }\n",
              "\n",
              "    .dataframe thead th {\n",
              "        text-align: right;\n",
              "    }\n",
              "</style>\n",
              "<table border=\"1\" class=\"dataframe\">\n",
              "  <thead>\n",
              "    <tr style=\"text-align: right;\">\n",
              "      <th></th>\n",
              "      <th>COD_DOCUMENTO</th>\n",
              "      <th>DES_NOME_PREFERIDO</th>\n",
              "      <th>DES_NOMES_ALTERNATIVOS</th>\n",
              "      <th>TXT_EMENTA</th>\n",
              "    </tr>\n",
              "  </thead>\n",
              "  <tbody>\n",
              "    <tr>\n",
              "      <th>0</th>\n",
              "      <td>35345364</td>\n",
              "      <td>Lei nº 14.263 de 22/12/2021</td>\n",
              "      <td>LEI-14263-2021-12-22</td>\n",
              "      <td>Abre ao Orçamento da Seguridade Social da Uniã...</td>\n",
              "    </tr>\n",
              "    <tr>\n",
              "      <th>1</th>\n",
              "      <td>26247104</td>\n",
              "      <td>Lei nº 13.486 de 03/10/2017</td>\n",
              "      <td>LEI-13486-2017-10-03</td>\n",
              "      <td>Altera o art. 8º da Lei nº 8.078, de 11 de set...</td>\n",
              "    </tr>\n",
              "    <tr>\n",
              "      <th>2</th>\n",
              "      <td>27445746</td>\n",
              "      <td>Lei nº 13.701 de 06/08/2018</td>\n",
              "      <td>LEI-13701-2018-08-06</td>\n",
              "      <td>Cria o cargo de natureza especial de Intervent...</td>\n",
              "    </tr>\n",
              "    <tr>\n",
              "      <th>3</th>\n",
              "      <td>36348502</td>\n",
              "      <td>Lei nº 14.447 de 09/09/2022</td>\n",
              "      <td>LEI-14447-2022-09-09</td>\n",
              "      <td>Altera os limites da Floresta Nacional de Bras...</td>\n",
              "    </tr>\n",
              "    <tr>\n",
              "      <th>4</th>\n",
              "      <td>32103727</td>\n",
              "      <td>Lei nº 13.988 de 14/04/2020</td>\n",
              "      <td>LEI-13988-2020-04-14</td>\n",
              "      <td>Dispõe sobre a transação nas hipóteses que esp...</td>\n",
              "    </tr>\n",
              "  </tbody>\n",
              "</table>\n",
              "</div>\n",
              "      <button class=\"colab-df-convert\" onclick=\"convertToInteractive('df-ded73f70-4527-419c-bfc7-8e59a41a8d2f')\"\n",
              "              title=\"Convert this dataframe to an interactive table.\"\n",
              "              style=\"display:none;\">\n",
              "        \n",
              "  <svg xmlns=\"http://www.w3.org/2000/svg\" height=\"24px\"viewBox=\"0 0 24 24\"\n",
              "       width=\"24px\">\n",
              "    <path d=\"M0 0h24v24H0V0z\" fill=\"none\"/>\n",
              "    <path d=\"M18.56 5.44l.94 2.06.94-2.06 2.06-.94-2.06-.94-.94-2.06-.94 2.06-2.06.94zm-11 1L8.5 8.5l.94-2.06 2.06-.94-2.06-.94L8.5 2.5l-.94 2.06-2.06.94zm10 10l.94 2.06.94-2.06 2.06-.94-2.06-.94-.94-2.06-.94 2.06-2.06.94z\"/><path d=\"M17.41 7.96l-1.37-1.37c-.4-.4-.92-.59-1.43-.59-.52 0-1.04.2-1.43.59L10.3 9.45l-7.72 7.72c-.78.78-.78 2.05 0 2.83L4 21.41c.39.39.9.59 1.41.59.51 0 1.02-.2 1.41-.59l7.78-7.78 2.81-2.81c.8-.78.8-2.07 0-2.86zM5.41 20L4 18.59l7.72-7.72 1.47 1.35L5.41 20z\"/>\n",
              "  </svg>\n",
              "      </button>\n",
              "      \n",
              "  <style>\n",
              "    .colab-df-container {\n",
              "      display:flex;\n",
              "      flex-wrap:wrap;\n",
              "      gap: 12px;\n",
              "    }\n",
              "\n",
              "    .colab-df-convert {\n",
              "      background-color: #E8F0FE;\n",
              "      border: none;\n",
              "      border-radius: 50%;\n",
              "      cursor: pointer;\n",
              "      display: none;\n",
              "      fill: #1967D2;\n",
              "      height: 32px;\n",
              "      padding: 0 0 0 0;\n",
              "      width: 32px;\n",
              "    }\n",
              "\n",
              "    .colab-df-convert:hover {\n",
              "      background-color: #E2EBFA;\n",
              "      box-shadow: 0px 1px 2px rgba(60, 64, 67, 0.3), 0px 1px 3px 1px rgba(60, 64, 67, 0.15);\n",
              "      fill: #174EA6;\n",
              "    }\n",
              "\n",
              "    [theme=dark] .colab-df-convert {\n",
              "      background-color: #3B4455;\n",
              "      fill: #D2E3FC;\n",
              "    }\n",
              "\n",
              "    [theme=dark] .colab-df-convert:hover {\n",
              "      background-color: #434B5C;\n",
              "      box-shadow: 0px 1px 3px 1px rgba(0, 0, 0, 0.15);\n",
              "      filter: drop-shadow(0px 1px 2px rgba(0, 0, 0, 0.3));\n",
              "      fill: #FFFFFF;\n",
              "    }\n",
              "  </style>\n",
              "\n",
              "      <script>\n",
              "        const buttonEl =\n",
              "          document.querySelector('#df-ded73f70-4527-419c-bfc7-8e59a41a8d2f button.colab-df-convert');\n",
              "        buttonEl.style.display =\n",
              "          google.colab.kernel.accessAllowed ? 'block' : 'none';\n",
              "\n",
              "        async function convertToInteractive(key) {\n",
              "          const element = document.querySelector('#df-ded73f70-4527-419c-bfc7-8e59a41a8d2f');\n",
              "          const dataTable =\n",
              "            await google.colab.kernel.invokeFunction('convertToInteractive',\n",
              "                                                     [key], {});\n",
              "          if (!dataTable) return;\n",
              "\n",
              "          const docLinkHtml = 'Like what you see? Visit the ' +\n",
              "            '<a target=\"_blank\" href=https://colab.research.google.com/notebooks/data_table.ipynb>data table notebook</a>'\n",
              "            + ' to learn more about interactive tables.';\n",
              "          element.innerHTML = '';\n",
              "          dataTable['output_type'] = 'display_data';\n",
              "          await google.colab.output.renderOutput(dataTable, element);\n",
              "          const docLink = document.createElement('div');\n",
              "          docLink.innerHTML = docLinkHtml;\n",
              "          element.appendChild(docLink);\n",
              "        }\n",
              "      </script>\n",
              "    </div>\n",
              "  </div>\n",
              "  "
            ]
          },
          "metadata": {},
          "execution_count": 39
        }
      ],
      "source": [
        "leis_original = pd.read_excel(\"dados/LeisOrdinarias-LeisComplementare-e-DecretosNumeradosComClassificacaoDesde1900.xlsx\", \"Select mvw_s01_documento\")\n",
        "leis_original.rename(columns={\"DBMS_LOB.SUBSTR(S01.TXT_EMENTA\": \"TXT_EMENTA\"}, inplace=True)\n",
        "leis_original.drop(columns=\"   \", inplace=True)\n",
        "leis_original.head()"
      ]
    },
    {
      "cell_type": "code",
      "execution_count": 40,
      "metadata": {
        "pycharm": {
          "name": "#%%\n"
        },
        "colab": {
          "base_uri": "https://localhost:8080/"
        },
        "id": "uA3a-dLW-W39",
        "outputId": "6450d935-a977-4165-8007-c8ec65b17cd6"
      },
      "outputs": [
        {
          "output_type": "execute_result",
          "data": {
            "text/plain": [
              "26959"
            ]
          },
          "metadata": {},
          "execution_count": 40
        }
      ],
      "source": [
        "leis_original.shape[0]"
      ]
    },
    {
      "cell_type": "markdown",
      "metadata": {
        "collapsed": false,
        "pycharm": {
          "name": "#%% md\n"
        },
        "id": "iZdcAWfz-W3-"
      },
      "source": [
        "Com os datasets necessários já carregados, cria-se um novo dataset a partir do dataset contendo todas as leis, incluindo-se a informação das classes contidadas nas leis do dataset de leis classificadas."
      ]
    },
    {
      "cell_type": "code",
      "execution_count": 41,
      "metadata": {
        "pycharm": {
          "name": "#%%\n"
        },
        "colab": {
          "base_uri": "https://localhost:8080/",
          "height": 206
        },
        "id": "It8d5H_k-W3-",
        "outputId": "cc221ca0-abf0-48c9-e45e-fcaed3f7e73f"
      },
      "outputs": [
        {
          "output_type": "execute_result",
          "data": {
            "text/plain": [
              "   COD_DOCUMENTO           DES_NOME_PREFERIDO DES_NOMES_ALTERNATIVOS  \\\n",
              "0       35345364  Lei nº 14.263 de 22/12/2021   LEI-14263-2021-12-22   \n",
              "1       26247104  Lei nº 13.486 de 03/10/2017   LEI-13486-2017-10-03   \n",
              "2       27445746  Lei nº 13.701 de 06/08/2018   LEI-13701-2018-08-06   \n",
              "3       36348502  Lei nº 14.447 de 09/09/2022   LEI-14447-2022-09-09   \n",
              "4       36348502  Lei nº 14.447 de 09/09/2022   LEI-14447-2022-09-09   \n",
              "\n",
              "                                          TXT_EMENTA  COD_CLASSE  \\\n",
              "0  Abre ao Orçamento da Seguridade Social da Uniã...  33260515.0   \n",
              "1  Altera o art. 8º da Lei nº 8.078, de 11 de set...  33808912.0   \n",
              "2  Cria o cargo de natureza especial de Intervent...  33768972.0   \n",
              "3  Altera os limites da Floresta Nacional de Bras...  33685789.0   \n",
              "4  Altera os limites da Floresta Nacional de Bras...  33809634.0   \n",
              "\n",
              "              DES_CLASSE  \n",
              "0      Orçamento Público  \n",
              "1        Política Social  \n",
              "2  Organização do Estado  \n",
              "3  Administração Pública  \n",
              "4          Meio Ambiente  "
            ],
            "text/html": [
              "\n",
              "  <div id=\"df-0eff67b4-41bf-41ba-9eb4-3ff144325393\">\n",
              "    <div class=\"colab-df-container\">\n",
              "      <div>\n",
              "<style scoped>\n",
              "    .dataframe tbody tr th:only-of-type {\n",
              "        vertical-align: middle;\n",
              "    }\n",
              "\n",
              "    .dataframe tbody tr th {\n",
              "        vertical-align: top;\n",
              "    }\n",
              "\n",
              "    .dataframe thead th {\n",
              "        text-align: right;\n",
              "    }\n",
              "</style>\n",
              "<table border=\"1\" class=\"dataframe\">\n",
              "  <thead>\n",
              "    <tr style=\"text-align: right;\">\n",
              "      <th></th>\n",
              "      <th>COD_DOCUMENTO</th>\n",
              "      <th>DES_NOME_PREFERIDO</th>\n",
              "      <th>DES_NOMES_ALTERNATIVOS</th>\n",
              "      <th>TXT_EMENTA</th>\n",
              "      <th>COD_CLASSE</th>\n",
              "      <th>DES_CLASSE</th>\n",
              "    </tr>\n",
              "  </thead>\n",
              "  <tbody>\n",
              "    <tr>\n",
              "      <th>0</th>\n",
              "      <td>35345364</td>\n",
              "      <td>Lei nº 14.263 de 22/12/2021</td>\n",
              "      <td>LEI-14263-2021-12-22</td>\n",
              "      <td>Abre ao Orçamento da Seguridade Social da Uniã...</td>\n",
              "      <td>33260515.0</td>\n",
              "      <td>Orçamento Público</td>\n",
              "    </tr>\n",
              "    <tr>\n",
              "      <th>1</th>\n",
              "      <td>26247104</td>\n",
              "      <td>Lei nº 13.486 de 03/10/2017</td>\n",
              "      <td>LEI-13486-2017-10-03</td>\n",
              "      <td>Altera o art. 8º da Lei nº 8.078, de 11 de set...</td>\n",
              "      <td>33808912.0</td>\n",
              "      <td>Política Social</td>\n",
              "    </tr>\n",
              "    <tr>\n",
              "      <th>2</th>\n",
              "      <td>27445746</td>\n",
              "      <td>Lei nº 13.701 de 06/08/2018</td>\n",
              "      <td>LEI-13701-2018-08-06</td>\n",
              "      <td>Cria o cargo de natureza especial de Intervent...</td>\n",
              "      <td>33768972.0</td>\n",
              "      <td>Organização do Estado</td>\n",
              "    </tr>\n",
              "    <tr>\n",
              "      <th>3</th>\n",
              "      <td>36348502</td>\n",
              "      <td>Lei nº 14.447 de 09/09/2022</td>\n",
              "      <td>LEI-14447-2022-09-09</td>\n",
              "      <td>Altera os limites da Floresta Nacional de Bras...</td>\n",
              "      <td>33685789.0</td>\n",
              "      <td>Administração Pública</td>\n",
              "    </tr>\n",
              "    <tr>\n",
              "      <th>4</th>\n",
              "      <td>36348502</td>\n",
              "      <td>Lei nº 14.447 de 09/09/2022</td>\n",
              "      <td>LEI-14447-2022-09-09</td>\n",
              "      <td>Altera os limites da Floresta Nacional de Bras...</td>\n",
              "      <td>33809634.0</td>\n",
              "      <td>Meio Ambiente</td>\n",
              "    </tr>\n",
              "  </tbody>\n",
              "</table>\n",
              "</div>\n",
              "      <button class=\"colab-df-convert\" onclick=\"convertToInteractive('df-0eff67b4-41bf-41ba-9eb4-3ff144325393')\"\n",
              "              title=\"Convert this dataframe to an interactive table.\"\n",
              "              style=\"display:none;\">\n",
              "        \n",
              "  <svg xmlns=\"http://www.w3.org/2000/svg\" height=\"24px\"viewBox=\"0 0 24 24\"\n",
              "       width=\"24px\">\n",
              "    <path d=\"M0 0h24v24H0V0z\" fill=\"none\"/>\n",
              "    <path d=\"M18.56 5.44l.94 2.06.94-2.06 2.06-.94-2.06-.94-.94-2.06-.94 2.06-2.06.94zm-11 1L8.5 8.5l.94-2.06 2.06-.94-2.06-.94L8.5 2.5l-.94 2.06-2.06.94zm10 10l.94 2.06.94-2.06 2.06-.94-2.06-.94-.94-2.06-.94 2.06-2.06.94z\"/><path d=\"M17.41 7.96l-1.37-1.37c-.4-.4-.92-.59-1.43-.59-.52 0-1.04.2-1.43.59L10.3 9.45l-7.72 7.72c-.78.78-.78 2.05 0 2.83L4 21.41c.39.39.9.59 1.41.59.51 0 1.02-.2 1.41-.59l7.78-7.78 2.81-2.81c.8-.78.8-2.07 0-2.86zM5.41 20L4 18.59l7.72-7.72 1.47 1.35L5.41 20z\"/>\n",
              "  </svg>\n",
              "      </button>\n",
              "      \n",
              "  <style>\n",
              "    .colab-df-container {\n",
              "      display:flex;\n",
              "      flex-wrap:wrap;\n",
              "      gap: 12px;\n",
              "    }\n",
              "\n",
              "    .colab-df-convert {\n",
              "      background-color: #E8F0FE;\n",
              "      border: none;\n",
              "      border-radius: 50%;\n",
              "      cursor: pointer;\n",
              "      display: none;\n",
              "      fill: #1967D2;\n",
              "      height: 32px;\n",
              "      padding: 0 0 0 0;\n",
              "      width: 32px;\n",
              "    }\n",
              "\n",
              "    .colab-df-convert:hover {\n",
              "      background-color: #E2EBFA;\n",
              "      box-shadow: 0px 1px 2px rgba(60, 64, 67, 0.3), 0px 1px 3px 1px rgba(60, 64, 67, 0.15);\n",
              "      fill: #174EA6;\n",
              "    }\n",
              "\n",
              "    [theme=dark] .colab-df-convert {\n",
              "      background-color: #3B4455;\n",
              "      fill: #D2E3FC;\n",
              "    }\n",
              "\n",
              "    [theme=dark] .colab-df-convert:hover {\n",
              "      background-color: #434B5C;\n",
              "      box-shadow: 0px 1px 3px 1px rgba(0, 0, 0, 0.15);\n",
              "      filter: drop-shadow(0px 1px 2px rgba(0, 0, 0, 0.3));\n",
              "      fill: #FFFFFF;\n",
              "    }\n",
              "  </style>\n",
              "\n",
              "      <script>\n",
              "        const buttonEl =\n",
              "          document.querySelector('#df-0eff67b4-41bf-41ba-9eb4-3ff144325393 button.colab-df-convert');\n",
              "        buttonEl.style.display =\n",
              "          google.colab.kernel.accessAllowed ? 'block' : 'none';\n",
              "\n",
              "        async function convertToInteractive(key) {\n",
              "          const element = document.querySelector('#df-0eff67b4-41bf-41ba-9eb4-3ff144325393');\n",
              "          const dataTable =\n",
              "            await google.colab.kernel.invokeFunction('convertToInteractive',\n",
              "                                                     [key], {});\n",
              "          if (!dataTable) return;\n",
              "\n",
              "          const docLinkHtml = 'Like what you see? Visit the ' +\n",
              "            '<a target=\"_blank\" href=https://colab.research.google.com/notebooks/data_table.ipynb>data table notebook</a>'\n",
              "            + ' to learn more about interactive tables.';\n",
              "          element.innerHTML = '';\n",
              "          dataTable['output_type'] = 'display_data';\n",
              "          await google.colab.output.renderOutput(dataTable, element);\n",
              "          const docLink = document.createElement('div');\n",
              "          docLink.innerHTML = docLinkHtml;\n",
              "          element.appendChild(docLink);\n",
              "        }\n",
              "      </script>\n",
              "    </div>\n",
              "  </div>\n",
              "  "
            ]
          },
          "metadata": {},
          "execution_count": 41
        }
      ],
      "source": [
        "leis = leis_original.merge(leis_classificadas_original.filter([\"COD_PROCESSO_DOCUMENTO\",\"DES_CLASSE_RAIZ\"]), left_on=\"COD_DOCUMENTO\", right_on=\"COD_PROCESSO_DOCUMENTO\", how=\"left\")\n",
        "leis = leis.merge(classes_raiz, left_on=\"DES_CLASSE_RAIZ\", right_on=\"DES_CLASSE\", how=\"left\")\n",
        "leis.drop(columns=[\"COD_PROCESSO_DOCUMENTO\", \"DES_CLASSE_RAIZ\"], inplace=True)\n",
        "leis.head()"
      ]
    },
    {
      "cell_type": "code",
      "execution_count": 42,
      "metadata": {
        "pycharm": {
          "name": "#%%\n"
        },
        "colab": {
          "base_uri": "https://localhost:8080/"
        },
        "id": "OvJPhgFL-W3_",
        "outputId": "5acba3be-941a-4017-b077-73844f210f1e"
      },
      "outputs": [
        {
          "output_type": "execute_result",
          "data": {
            "text/plain": [
              "27743"
            ]
          },
          "metadata": {},
          "execution_count": 42
        }
      ],
      "source": [
        "leis.shape[0]"
      ]
    },
    {
      "cell_type": "markdown",
      "metadata": {
        "collapsed": false,
        "pycharm": {
          "name": "#%% md\n"
        },
        "id": "EMchuNd0-W4A"
      },
      "source": [
        "Limpa os registros duplicados de leis que possuem mais de uma classe folha, mas que tenham mesma classe raiz e exibe as leis que possuem mais de uma classe folha, mas que tenham classes raiz diferentes."
      ]
    },
    {
      "cell_type": "code",
      "execution_count": 43,
      "metadata": {
        "pycharm": {
          "name": "#%%\n"
        },
        "colab": {
          "base_uri": "https://localhost:8080/",
          "height": 424
        },
        "id": "GlSS1zFx-W4C",
        "outputId": "42f653cd-66c8-4f4e-863f-358558ee5b67"
      },
      "outputs": [
        {
          "output_type": "execute_result",
          "data": {
            "text/plain": [
              "       COD_DOCUMENTO  COD_CLASSE                                  DES_CLASSE\n",
              "3           36348502  33685789.0                       Administração Pública\n",
              "4           36348502  33809634.0                               Meio Ambiente\n",
              "5           36348502  33769167.0                  Economia e Desenvolvimento\n",
              "20          36062349  33808912.0                             Política Social\n",
              "21          36062349  33769167.0                  Economia e Desenvolvimento\n",
              "...              ...         ...                                         ...\n",
              "27349       36032872  33808912.0                             Política Social\n",
              "27350       35556312  33685789.0                       Administração Pública\n",
              "27351       35556312  33808912.0                             Política Social\n",
              "27359       35396946  33809514.0  Soberania, Defesa Nacional e Ordem Pública\n",
              "27360       35396946  33769167.0                  Economia e Desenvolvimento\n",
              "\n",
              "[630 rows x 3 columns]"
            ],
            "text/html": [
              "\n",
              "  <div id=\"df-de5e83b1-7c08-448d-8d07-a4143ac18ff4\">\n",
              "    <div class=\"colab-df-container\">\n",
              "      <div>\n",
              "<style scoped>\n",
              "    .dataframe tbody tr th:only-of-type {\n",
              "        vertical-align: middle;\n",
              "    }\n",
              "\n",
              "    .dataframe tbody tr th {\n",
              "        vertical-align: top;\n",
              "    }\n",
              "\n",
              "    .dataframe thead th {\n",
              "        text-align: right;\n",
              "    }\n",
              "</style>\n",
              "<table border=\"1\" class=\"dataframe\">\n",
              "  <thead>\n",
              "    <tr style=\"text-align: right;\">\n",
              "      <th></th>\n",
              "      <th>COD_DOCUMENTO</th>\n",
              "      <th>COD_CLASSE</th>\n",
              "      <th>DES_CLASSE</th>\n",
              "    </tr>\n",
              "  </thead>\n",
              "  <tbody>\n",
              "    <tr>\n",
              "      <th>3</th>\n",
              "      <td>36348502</td>\n",
              "      <td>33685789.0</td>\n",
              "      <td>Administração Pública</td>\n",
              "    </tr>\n",
              "    <tr>\n",
              "      <th>4</th>\n",
              "      <td>36348502</td>\n",
              "      <td>33809634.0</td>\n",
              "      <td>Meio Ambiente</td>\n",
              "    </tr>\n",
              "    <tr>\n",
              "      <th>5</th>\n",
              "      <td>36348502</td>\n",
              "      <td>33769167.0</td>\n",
              "      <td>Economia e Desenvolvimento</td>\n",
              "    </tr>\n",
              "    <tr>\n",
              "      <th>20</th>\n",
              "      <td>36062349</td>\n",
              "      <td>33808912.0</td>\n",
              "      <td>Política Social</td>\n",
              "    </tr>\n",
              "    <tr>\n",
              "      <th>21</th>\n",
              "      <td>36062349</td>\n",
              "      <td>33769167.0</td>\n",
              "      <td>Economia e Desenvolvimento</td>\n",
              "    </tr>\n",
              "    <tr>\n",
              "      <th>...</th>\n",
              "      <td>...</td>\n",
              "      <td>...</td>\n",
              "      <td>...</td>\n",
              "    </tr>\n",
              "    <tr>\n",
              "      <th>27349</th>\n",
              "      <td>36032872</td>\n",
              "      <td>33808912.0</td>\n",
              "      <td>Política Social</td>\n",
              "    </tr>\n",
              "    <tr>\n",
              "      <th>27350</th>\n",
              "      <td>35556312</td>\n",
              "      <td>33685789.0</td>\n",
              "      <td>Administração Pública</td>\n",
              "    </tr>\n",
              "    <tr>\n",
              "      <th>27351</th>\n",
              "      <td>35556312</td>\n",
              "      <td>33808912.0</td>\n",
              "      <td>Política Social</td>\n",
              "    </tr>\n",
              "    <tr>\n",
              "      <th>27359</th>\n",
              "      <td>35396946</td>\n",
              "      <td>33809514.0</td>\n",
              "      <td>Soberania, Defesa Nacional e Ordem Pública</td>\n",
              "    </tr>\n",
              "    <tr>\n",
              "      <th>27360</th>\n",
              "      <td>35396946</td>\n",
              "      <td>33769167.0</td>\n",
              "      <td>Economia e Desenvolvimento</td>\n",
              "    </tr>\n",
              "  </tbody>\n",
              "</table>\n",
              "<p>630 rows × 3 columns</p>\n",
              "</div>\n",
              "      <button class=\"colab-df-convert\" onclick=\"convertToInteractive('df-de5e83b1-7c08-448d-8d07-a4143ac18ff4')\"\n",
              "              title=\"Convert this dataframe to an interactive table.\"\n",
              "              style=\"display:none;\">\n",
              "        \n",
              "  <svg xmlns=\"http://www.w3.org/2000/svg\" height=\"24px\"viewBox=\"0 0 24 24\"\n",
              "       width=\"24px\">\n",
              "    <path d=\"M0 0h24v24H0V0z\" fill=\"none\"/>\n",
              "    <path d=\"M18.56 5.44l.94 2.06.94-2.06 2.06-.94-2.06-.94-.94-2.06-.94 2.06-2.06.94zm-11 1L8.5 8.5l.94-2.06 2.06-.94-2.06-.94L8.5 2.5l-.94 2.06-2.06.94zm10 10l.94 2.06.94-2.06 2.06-.94-2.06-.94-.94-2.06-.94 2.06-2.06.94z\"/><path d=\"M17.41 7.96l-1.37-1.37c-.4-.4-.92-.59-1.43-.59-.52 0-1.04.2-1.43.59L10.3 9.45l-7.72 7.72c-.78.78-.78 2.05 0 2.83L4 21.41c.39.39.9.59 1.41.59.51 0 1.02-.2 1.41-.59l7.78-7.78 2.81-2.81c.8-.78.8-2.07 0-2.86zM5.41 20L4 18.59l7.72-7.72 1.47 1.35L5.41 20z\"/>\n",
              "  </svg>\n",
              "      </button>\n",
              "      \n",
              "  <style>\n",
              "    .colab-df-container {\n",
              "      display:flex;\n",
              "      flex-wrap:wrap;\n",
              "      gap: 12px;\n",
              "    }\n",
              "\n",
              "    .colab-df-convert {\n",
              "      background-color: #E8F0FE;\n",
              "      border: none;\n",
              "      border-radius: 50%;\n",
              "      cursor: pointer;\n",
              "      display: none;\n",
              "      fill: #1967D2;\n",
              "      height: 32px;\n",
              "      padding: 0 0 0 0;\n",
              "      width: 32px;\n",
              "    }\n",
              "\n",
              "    .colab-df-convert:hover {\n",
              "      background-color: #E2EBFA;\n",
              "      box-shadow: 0px 1px 2px rgba(60, 64, 67, 0.3), 0px 1px 3px 1px rgba(60, 64, 67, 0.15);\n",
              "      fill: #174EA6;\n",
              "    }\n",
              "\n",
              "    [theme=dark] .colab-df-convert {\n",
              "      background-color: #3B4455;\n",
              "      fill: #D2E3FC;\n",
              "    }\n",
              "\n",
              "    [theme=dark] .colab-df-convert:hover {\n",
              "      background-color: #434B5C;\n",
              "      box-shadow: 0px 1px 3px 1px rgba(0, 0, 0, 0.15);\n",
              "      filter: drop-shadow(0px 1px 2px rgba(0, 0, 0, 0.3));\n",
              "      fill: #FFFFFF;\n",
              "    }\n",
              "  </style>\n",
              "\n",
              "      <script>\n",
              "        const buttonEl =\n",
              "          document.querySelector('#df-de5e83b1-7c08-448d-8d07-a4143ac18ff4 button.colab-df-convert');\n",
              "        buttonEl.style.display =\n",
              "          google.colab.kernel.accessAllowed ? 'block' : 'none';\n",
              "\n",
              "        async function convertToInteractive(key) {\n",
              "          const element = document.querySelector('#df-de5e83b1-7c08-448d-8d07-a4143ac18ff4');\n",
              "          const dataTable =\n",
              "            await google.colab.kernel.invokeFunction('convertToInteractive',\n",
              "                                                     [key], {});\n",
              "          if (!dataTable) return;\n",
              "\n",
              "          const docLinkHtml = 'Like what you see? Visit the ' +\n",
              "            '<a target=\"_blank\" href=https://colab.research.google.com/notebooks/data_table.ipynb>data table notebook</a>'\n",
              "            + ' to learn more about interactive tables.';\n",
              "          element.innerHTML = '';\n",
              "          dataTable['output_type'] = 'display_data';\n",
              "          await google.colab.output.renderOutput(dataTable, element);\n",
              "          const docLink = document.createElement('div');\n",
              "          docLink.innerHTML = docLinkHtml;\n",
              "          element.appendChild(docLink);\n",
              "        }\n",
              "      </script>\n",
              "    </div>\n",
              "  </div>\n",
              "  "
            ]
          },
          "metadata": {},
          "execution_count": 43
        }
      ],
      "source": [
        "leis.drop_duplicates(inplace=True)\n",
        "temp = leis[[\"COD_DOCUMENTO\", \"COD_CLASSE\", \"DES_CLASSE\"]].groupby(\"COD_DOCUMENTO\")\n",
        "temp.filter(lambda x: len(x) > 1)"
      ]
    },
    {
      "cell_type": "markdown",
      "metadata": {
        "collapsed": false,
        "pycharm": {
          "name": "#%% md\n"
        },
        "id": "hd7pIQuI-W4E"
      },
      "source": [
        "Tamanho da base tratada de leis."
      ]
    },
    {
      "cell_type": "code",
      "execution_count": 44,
      "metadata": {
        "pycharm": {
          "name": "#%%\n"
        },
        "colab": {
          "base_uri": "https://localhost:8080/"
        },
        "id": "qcgon74c-W4F",
        "outputId": "3937a392-afa9-4144-d887-3dc36920a49b"
      },
      "outputs": [
        {
          "output_type": "execute_result",
          "data": {
            "text/plain": [
              "27294"
            ]
          },
          "metadata": {},
          "execution_count": 44
        }
      ],
      "source": [
        "leis.shape[0]"
      ]
    },
    {
      "cell_type": "markdown",
      "metadata": {
        "collapsed": false,
        "pycharm": {
          "name": "#%% md\n"
        },
        "id": "sAA3U1Yz-W4G"
      },
      "source": [
        "Total de classificações feitas em leis."
      ]
    },
    {
      "cell_type": "code",
      "execution_count": 45,
      "metadata": {
        "pycharm": {
          "name": "#%%\n"
        },
        "colab": {
          "base_uri": "https://localhost:8080/"
        },
        "id": "qZ7-vaV5-W4H",
        "outputId": "7ed4fd01-8b9a-460a-ed26-7b96409eefdc"
      },
      "outputs": [
        {
          "output_type": "execute_result",
          "data": {
            "text/plain": [
              "17438"
            ]
          },
          "metadata": {},
          "execution_count": 45
        }
      ],
      "source": [
        "leis_classificadas = leis.query(\"not COD_CLASSE.isnull()\", engine=\"python\")\n",
        "quantidade_classificacoes = leis_classificadas.shape[0]\n",
        "quantidade_classificacoes"
      ]
    },
    {
      "cell_type": "markdown",
      "metadata": {
        "collapsed": false,
        "pycharm": {
          "name": "#%% md\n"
        },
        "id": "3TJgvEFW-W4J"
      },
      "source": [
        "Número distinto de leis classificadas."
      ]
    },
    {
      "cell_type": "code",
      "execution_count": 46,
      "metadata": {
        "pycharm": {
          "name": "#%%\n"
        },
        "colab": {
          "base_uri": "https://localhost:8080/"
        },
        "id": "FFfNVkE_-W4L",
        "outputId": "977133af-c429-404b-f8d2-b6b6fa651859"
      },
      "outputs": [
        {
          "output_type": "execute_result",
          "data": {
            "text/plain": [
              "17103"
            ]
          },
          "metadata": {},
          "execution_count": 46
        }
      ],
      "source": [
        "len(leis_classificadas[\"COD_DOCUMENTO\"].unique())"
      ]
    },
    {
      "cell_type": "markdown",
      "metadata": {
        "collapsed": false,
        "pycharm": {
          "name": "#%% md\n"
        },
        "id": "fOJyuL06-W4M"
      },
      "source": [
        "Quantidade de leis a classificar."
      ]
    },
    {
      "cell_type": "code",
      "execution_count": 47,
      "metadata": {
        "pycharm": {
          "name": "#%%\n"
        },
        "colab": {
          "base_uri": "https://localhost:8080/"
        },
        "id": "1nZZtKLH-W4N",
        "outputId": "9da5d2a3-d530-4faa-d107-395a294ca378"
      },
      "outputs": [
        {
          "output_type": "execute_result",
          "data": {
            "text/plain": [
              "9856"
            ]
          },
          "metadata": {},
          "execution_count": 47
        }
      ],
      "source": [
        "leis_nao_classificadas = leis.query(\"COD_CLASSE.isnull()\", engine=\"python\")\n",
        "leis_nao_classificadas.shape[0]"
      ]
    },
    {
      "cell_type": "markdown",
      "metadata": {
        "collapsed": false,
        "pycharm": {
          "name": "#%% md\n"
        },
        "id": "tFthJkX4-W4N"
      },
      "source": [
        "Verificação da distribuição das classes (em %)."
      ]
    },
    {
      "cell_type": "code",
      "execution_count": 48,
      "metadata": {
        "pycharm": {
          "name": "#%%\n"
        },
        "colab": {
          "base_uri": "https://localhost:8080/",
          "height": 394
        },
        "id": "v-8cKPEg-W4O",
        "outputId": "2b295114-e988-4f25-8fd2-6a1ddb82636a"
      },
      "outputs": [
        {
          "output_type": "execute_result",
          "data": {
            "text/plain": [
              "                                            COD_CLASSE\n",
              "DES_CLASSE                                            \n",
              "Orçamento Público                            64.181672\n",
              "Infraestrutura                               14.382383\n",
              "Política Social                               5.029246\n",
              "Administração Pública                         4.490194\n",
              "Honorífico                                    3.847918\n",
              "Economia e Desenvolvimento                    3.693084\n",
              "Jurídico                                      2.184884\n",
              "Soberania, Defesa Nacional e Ordem Pública    0.951944\n",
              "Organização do Estado                         0.745498\n",
              "Meio Ambiente                                 0.493176"
            ],
            "text/html": [
              "\n",
              "  <div id=\"df-ecf633d7-82a1-45a9-a250-ed2423921edd\">\n",
              "    <div class=\"colab-df-container\">\n",
              "      <div>\n",
              "<style scoped>\n",
              "    .dataframe tbody tr th:only-of-type {\n",
              "        vertical-align: middle;\n",
              "    }\n",
              "\n",
              "    .dataframe tbody tr th {\n",
              "        vertical-align: top;\n",
              "    }\n",
              "\n",
              "    .dataframe thead th {\n",
              "        text-align: right;\n",
              "    }\n",
              "</style>\n",
              "<table border=\"1\" class=\"dataframe\">\n",
              "  <thead>\n",
              "    <tr style=\"text-align: right;\">\n",
              "      <th></th>\n",
              "      <th>COD_CLASSE</th>\n",
              "    </tr>\n",
              "    <tr>\n",
              "      <th>DES_CLASSE</th>\n",
              "      <th></th>\n",
              "    </tr>\n",
              "  </thead>\n",
              "  <tbody>\n",
              "    <tr>\n",
              "      <th>Orçamento Público</th>\n",
              "      <td>64.181672</td>\n",
              "    </tr>\n",
              "    <tr>\n",
              "      <th>Infraestrutura</th>\n",
              "      <td>14.382383</td>\n",
              "    </tr>\n",
              "    <tr>\n",
              "      <th>Política Social</th>\n",
              "      <td>5.029246</td>\n",
              "    </tr>\n",
              "    <tr>\n",
              "      <th>Administração Pública</th>\n",
              "      <td>4.490194</td>\n",
              "    </tr>\n",
              "    <tr>\n",
              "      <th>Honorífico</th>\n",
              "      <td>3.847918</td>\n",
              "    </tr>\n",
              "    <tr>\n",
              "      <th>Economia e Desenvolvimento</th>\n",
              "      <td>3.693084</td>\n",
              "    </tr>\n",
              "    <tr>\n",
              "      <th>Jurídico</th>\n",
              "      <td>2.184884</td>\n",
              "    </tr>\n",
              "    <tr>\n",
              "      <th>Soberania, Defesa Nacional e Ordem Pública</th>\n",
              "      <td>0.951944</td>\n",
              "    </tr>\n",
              "    <tr>\n",
              "      <th>Organização do Estado</th>\n",
              "      <td>0.745498</td>\n",
              "    </tr>\n",
              "    <tr>\n",
              "      <th>Meio Ambiente</th>\n",
              "      <td>0.493176</td>\n",
              "    </tr>\n",
              "  </tbody>\n",
              "</table>\n",
              "</div>\n",
              "      <button class=\"colab-df-convert\" onclick=\"convertToInteractive('df-ecf633d7-82a1-45a9-a250-ed2423921edd')\"\n",
              "              title=\"Convert this dataframe to an interactive table.\"\n",
              "              style=\"display:none;\">\n",
              "        \n",
              "  <svg xmlns=\"http://www.w3.org/2000/svg\" height=\"24px\"viewBox=\"0 0 24 24\"\n",
              "       width=\"24px\">\n",
              "    <path d=\"M0 0h24v24H0V0z\" fill=\"none\"/>\n",
              "    <path d=\"M18.56 5.44l.94 2.06.94-2.06 2.06-.94-2.06-.94-.94-2.06-.94 2.06-2.06.94zm-11 1L8.5 8.5l.94-2.06 2.06-.94-2.06-.94L8.5 2.5l-.94 2.06-2.06.94zm10 10l.94 2.06.94-2.06 2.06-.94-2.06-.94-.94-2.06-.94 2.06-2.06.94z\"/><path d=\"M17.41 7.96l-1.37-1.37c-.4-.4-.92-.59-1.43-.59-.52 0-1.04.2-1.43.59L10.3 9.45l-7.72 7.72c-.78.78-.78 2.05 0 2.83L4 21.41c.39.39.9.59 1.41.59.51 0 1.02-.2 1.41-.59l7.78-7.78 2.81-2.81c.8-.78.8-2.07 0-2.86zM5.41 20L4 18.59l7.72-7.72 1.47 1.35L5.41 20z\"/>\n",
              "  </svg>\n",
              "      </button>\n",
              "      \n",
              "  <style>\n",
              "    .colab-df-container {\n",
              "      display:flex;\n",
              "      flex-wrap:wrap;\n",
              "      gap: 12px;\n",
              "    }\n",
              "\n",
              "    .colab-df-convert {\n",
              "      background-color: #E8F0FE;\n",
              "      border: none;\n",
              "      border-radius: 50%;\n",
              "      cursor: pointer;\n",
              "      display: none;\n",
              "      fill: #1967D2;\n",
              "      height: 32px;\n",
              "      padding: 0 0 0 0;\n",
              "      width: 32px;\n",
              "    }\n",
              "\n",
              "    .colab-df-convert:hover {\n",
              "      background-color: #E2EBFA;\n",
              "      box-shadow: 0px 1px 2px rgba(60, 64, 67, 0.3), 0px 1px 3px 1px rgba(60, 64, 67, 0.15);\n",
              "      fill: #174EA6;\n",
              "    }\n",
              "\n",
              "    [theme=dark] .colab-df-convert {\n",
              "      background-color: #3B4455;\n",
              "      fill: #D2E3FC;\n",
              "    }\n",
              "\n",
              "    [theme=dark] .colab-df-convert:hover {\n",
              "      background-color: #434B5C;\n",
              "      box-shadow: 0px 1px 3px 1px rgba(0, 0, 0, 0.15);\n",
              "      filter: drop-shadow(0px 1px 2px rgba(0, 0, 0, 0.3));\n",
              "      fill: #FFFFFF;\n",
              "    }\n",
              "  </style>\n",
              "\n",
              "      <script>\n",
              "        const buttonEl =\n",
              "          document.querySelector('#df-ecf633d7-82a1-45a9-a250-ed2423921edd button.colab-df-convert');\n",
              "        buttonEl.style.display =\n",
              "          google.colab.kernel.accessAllowed ? 'block' : 'none';\n",
              "\n",
              "        async function convertToInteractive(key) {\n",
              "          const element = document.querySelector('#df-ecf633d7-82a1-45a9-a250-ed2423921edd');\n",
              "          const dataTable =\n",
              "            await google.colab.kernel.invokeFunction('convertToInteractive',\n",
              "                                                     [key], {});\n",
              "          if (!dataTable) return;\n",
              "\n",
              "          const docLinkHtml = 'Like what you see? Visit the ' +\n",
              "            '<a target=\"_blank\" href=https://colab.research.google.com/notebooks/data_table.ipynb>data table notebook</a>'\n",
              "            + ' to learn more about interactive tables.';\n",
              "          element.innerHTML = '';\n",
              "          dataTable['output_type'] = 'display_data';\n",
              "          await google.colab.output.renderOutput(dataTable, element);\n",
              "          const docLink = document.createElement('div');\n",
              "          docLink.innerHTML = docLinkHtml;\n",
              "          element.appendChild(docLink);\n",
              "        }\n",
              "      </script>\n",
              "    </div>\n",
              "  </div>\n",
              "  "
            ]
          },
          "metadata": {},
          "execution_count": 48
        }
      ],
      "source": [
        "distribuicao_classes = leis_classificadas[[\"COD_CLASSE\", \"DES_CLASSE\"]].groupby(\"DES_CLASSE\").count() / quantidade_classificacoes * 100\n",
        "distribuicao_classes.sort_values(by=\"COD_CLASSE\", ascending=False)"
      ]
    },
    {
      "cell_type": "code",
      "execution_count": 49,
      "metadata": {
        "colab": {
          "base_uri": "https://localhost:8080/"
        },
        "id": "mix3tWg0-W4R",
        "outputId": "76b85410-21c2-4433-8882-3d1d1b7114e4"
      },
      "outputs": [
        {
          "output_type": "stream",
          "name": "stdout",
          "text": [
            "4        Altera os limites da Floresta Nacional de Bras...\n",
            "16       Altera as Leis nºs 12.651, de 25 de maio de 20...\n",
            "200      Altera a categoria da unidade de conservação P...\n",
            "366      Altera o art. 25 da Lei nº 9.605, de 12 de fev...\n",
            "375      Altera a Lei nº 6.938, de 31 de agosto de 1981...\n",
            "                               ...                        \n",
            "25622    Dispõe sobre o Plano Nacional de Contingência ...\n",
            "25648    Determina a suspensão da permissão do emprego ...\n",
            "26889    Altera a Lei nº 9.605, de 12 de fevereiro de 1...\n",
            "27122    Altera a Lei nº 11.445, de 5 de janeiro de 200...\n",
            "27352    Altera o Decreto nº 9.888, de 27 de junho de 2...\n",
            "Name: TXT_EMENTA, Length: 86, dtype: object\n"
          ]
        }
      ],
      "source": [
        "leis_classificadas_aumentadas = leis_classificadas.copy()\n",
        "leis_meio_ambiente = leis_classificadas_aumentadas.query(\"DES_CLASSE == 'Meio Ambiente'\")\n",
        "print(leis_meio_ambiente[\"TXT_EMENTA\"])\n"
      ]
    },
    {
      "cell_type": "code",
      "execution_count": 50,
      "metadata": {
        "colab": {
          "base_uri": "https://localhost:8080/"
        },
        "id": "jFGKywIY-W4S",
        "outputId": "117d79da-cbed-45d3-e5c0-c02aa61de7ef"
      },
      "outputs": [
        {
          "output_type": "stream",
          "name": "stdout",
          "text": [
            "16       Altera as Leis nºs 12.651, de 25 de maio de 20...\n",
            "366      Altera o art. 25 da Lei nº 9.605, de 12 de fev...\n",
            "375      Altera a Lei nº 6.938, de 31 de agosto de 1981...\n",
            "2160     Altera a Lei nº 12.651, de 25 de maio de 2012,...\n",
            "4441     Altera o art. 2º da Lei nº 9.433, de 8 de jane...\n",
            "5323     Altera a Lei nº 8.001, de 13 de março de 1990,...\n",
            "7538     Altera o Decreto nº 6.514, de 22 de julho de 2...\n",
            "9621     Altera as Leis nºs 11.516, de 28 de agosto de ...\n",
            "10068    Altera o Decreto nº 8.772, de 11 de maio de 20...\n",
            "10597    Altera a Lei nº 11.445, de 5 de janeiro de 200...\n",
            "12160    Altera a Lei nº 9.795, de 27 de abril de 1999,...\n",
            "13005    Altera a Lei nº 12.651, de 25 de maio de 2012,...\n",
            "13384    Altera a Lei nº 6.938, de 31 de agosto de 1981...\n",
            "16874    Altera a Lei nº 12.651, de 25 de maio de 2012,...\n",
            "18506    Altera a Lei nº 11.445, de 5 de janeiro de 200...\n",
            "24278    Altera a Lei nº 12.651, de 25 de maio de 2012,...\n",
            "24779    Altera o Decreto nº 9.829, de 10 de junho de 2...\n",
            "26889    Altera a Lei nº 9.605, de 12 de fevereiro de 1...\n",
            "27122    Altera a Lei nº 11.445, de 5 de janeiro de 200...\n",
            "27352    Altera o Decreto nº 9.888, de 27 de junho de 2...\n",
            "Name: TXT_EMENTA, dtype: object\n"
          ]
        },
        {
          "output_type": "execute_result",
          "data": {
            "text/plain": [
              "20"
            ]
          },
          "metadata": {},
          "execution_count": 50
        }
      ],
      "source": [
        "leis_meio_ambiente_altera_lei = leis_meio_ambiente.query('TXT_EMENTA.str.contains(\"Altera a Lei\") or TXT_EMENTA.str.contains(\"Altera as Leis\") or TXT_EMENTA.str.contains(\"Altera o Decreto\") or TXT_EMENTA.str.contains(\"Altera o art.\")', engine=\"python\")\n",
        "print(leis_meio_ambiente_altera_lei[\"TXT_EMENTA\"])\n",
        "leis_meio_ambiente_altera_lei.shape[0]"
      ]
    },
    {
      "cell_type": "code",
      "execution_count": 51,
      "metadata": {
        "id": "GbmWX6Yh-W4T"
      },
      "outputs": [],
      "source": [
        "import re\n",
        "def cleanAlteraALei(ementa):\n",
        "    if re.search('', ementa):\n",
        " # Extract the position of beginning of pattern\n",
        "        pos = re.search('\\(.*', ementa).start()\n",
        "  \n",
        "        # return the cleaned name\n",
        "        return ementa[:pos]\n",
        "  \n",
        "    else:\n",
        "        # if clean up needed return the same name\n",
        "        return ementa  "
      ]
    },
    {
      "cell_type": "markdown",
      "metadata": {
        "collapsed": false,
        "pycharm": {
          "name": "#%% md\n"
        },
        "id": "2voJtyZt-W4V"
      },
      "source": [
        "## 2 - Estruturação do texto\n",
        "***"
      ]
    },
    {
      "cell_type": "markdown",
      "metadata": {
        "collapsed": false,
        "pycharm": {
          "name": "#%% md\n"
        },
        "id": "nQ5oqomB-W4V"
      },
      "source": [
        "Separação em datasets de treino e teste."
      ]
    },
    {
      "cell_type": "code",
      "execution_count": 52,
      "metadata": {
        "pycharm": {
          "name": "#%%\n"
        },
        "id": "rZqJEk5E-W4W"
      },
      "outputs": [],
      "source": [
        "from sklearn import preprocessing\n",
        "le = preprocessing.LabelEncoder()\n",
        "le.fit(leis_classificadas[\"DES_CLASSE\"])\n",
        "leis_classificadas.to_csv(\"dados/leis_classificadas.csv\", sep='|')\n",
        "X = leis_classificadas.drop(columns=[\"COD_CLASSE\", \"DES_CLASSE\"])\n",
        "y = le.transform(leis_classificadas[\"DES_CLASSE\"])\n",
        "y_meio_ambiente = leis_classificadas[\"DES_CLASSE\"].apply(lambda label: 1 if label.lower() == \"meio ambiente\" else 0)\n",
        "\n",
        "X_treino, X_teste, y_treino, y_teste = train_test_split(X, y_meio_ambiente, test_size=0.3, stratify=y_meio_ambiente, random_state=42)"
      ]
    },
    {
      "cell_type": "code",
      "source": [
        "y_teste.value_counts()\n",
        "y_treino.value_counts()"
      ],
      "metadata": {
        "colab": {
          "base_uri": "https://localhost:8080/"
        },
        "id": "XdxEOlBrlDUH",
        "outputId": "7ddafe2d-7b02-4154-abb3-c7637c814170"
      },
      "execution_count": 53,
      "outputs": [
        {
          "output_type": "execute_result",
          "data": {
            "text/plain": [
              "0    12146\n",
              "1       60\n",
              "Name: DES_CLASSE, dtype: int64"
            ]
          },
          "metadata": {},
          "execution_count": 53
        }
      ]
    },
    {
      "cell_type": "markdown",
      "metadata": {
        "id": "cULynAlt-W4P"
      },
      "source": [
        "# Desbalanceamento\n",
        "\n",
        "É possível verificar que há um desbalanceamento grande entre as classes, o que prejudica o processo de aprendizado. Vamos tentar atacá-lo utilizando a técnica SMOTE:"
      ]
    },
    {
      "cell_type": "code",
      "source": [
        "from sklearn.feature_extraction.text import TfidfVectorizer\n",
        "from nltk.corpus import stopwords\n",
        "vectorizer = TfidfVectorizer(stop_words=stopwords.words('portuguese'), ngram_range = (1,2))\n",
        "vectorizer.fit(X_treino['TXT_EMENTA'])\n",
        "X_tfidf_treino = vectorizer.transform(X_treino['TXT_EMENTA'])\n",
        "X_tfidf_teste = vectorizer.transform(X_teste['TXT_EMENTA'])\n",
        "print(X_tfidf_treino.shape)"
      ],
      "metadata": {
        "id": "8GglY4RFKjoL",
        "outputId": "d4e63da3-1750-413a-c2b0-7b7714860706",
        "colab": {
          "base_uri": "https://localhost:8080/"
        }
      },
      "execution_count": 54,
      "outputs": [
        {
          "output_type": "stream",
          "name": "stdout",
          "text": [
            "(12206, 57933)\n"
          ]
        }
      ]
    },
    {
      "cell_type": "code",
      "execution_count": 55,
      "metadata": {
        "colab": {
          "base_uri": "https://localhost:8080/"
        },
        "id": "ZMg8unJK-W4Q",
        "outputId": "018b7e6f-be26-4c16-e0b7-80c6d592d9db"
      },
      "outputs": [
        {
          "output_type": "stream",
          "name": "stdout",
          "text": [
            "Classe=Administração Pública, 0, n=12146 (50.000%)\n",
            "Classe=Economia e Desenvolvimento, 1, n=12146 (50.000%)\n"
          ]
        }
      ],
      "source": [
        "from imblearn.over_sampling import SMOTE\n",
        "from sklearn.preprocessing import LabelEncoder\n",
        "from numpy import where\n",
        "\n",
        "\n",
        "def printClasses(classes):\n",
        "\tcounter = Counter(classes)\n",
        "\tfor k,v in counter.items():\n",
        "\t\tper = v / len(classes) * 100\n",
        "\t\tprint('Classe=%s, %s, n=%d (%.3f%%)' % (le.inverse_transform([k])[0], k, v, per))\n",
        "\n",
        "oversample = SMOTE()\n",
        "X_smote_treino, y_smote_treino = oversample.fit_resample(X_tfidf_treino, y_treino)\n",
        "printClasses(y_smote_treino)\n"
      ]
    },
    {
      "cell_type": "code",
      "execution_count": 56,
      "metadata": {
        "colab": {
          "base_uri": "https://localhost:8080/"
        },
        "id": "HydtJ5iQ-W4X",
        "outputId": "5fcffca6-4a49-498c-e1de-88badecff2cb"
      },
      "outputs": [
        {
          "output_type": "execute_result",
          "data": {
            "text/plain": [
              "(24292, 57933)"
            ]
          },
          "metadata": {},
          "execution_count": 56
        }
      ],
      "source": [
        "X_smote_treino.shape\n",
        "\n"
      ]
    },
    {
      "cell_type": "code",
      "source": [
        "lr = LogisticRegression(max_iter=3000)\n",
        "lr.fit(X_smote_treino, y_smote_treino)\n",
        "classe_prevista_lr = lr.predict(X_tfidf_teste)"
      ],
      "metadata": {
        "id": "z8Db_10hQQPa"
      },
      "execution_count": 57,
      "outputs": []
    },
    {
      "cell_type": "code",
      "source": [
        "acuracia_lr = metrics.accuracy_score(y_teste, classe_prevista_lr)\n",
        "print(\"Acurácia LinearRegressor:\",  round(acuracia_lr, 2))\n",
        "\n",
        "cr_lr = classification_report(y_teste, classe_prevista_lr)\n",
        "\n",
        "print(cr_lr)"
      ],
      "metadata": {
        "id": "qFvIURd0VP_d",
        "outputId": "c775f164-0722-4fa7-ff7d-51e3bb7be020",
        "colab": {
          "base_uri": "https://localhost:8080/"
        }
      },
      "execution_count": 58,
      "outputs": [
        {
          "output_type": "stream",
          "name": "stdout",
          "text": [
            "Acurácia LinearRegressor: 0.99\n",
            "              precision    recall  f1-score   support\n",
            "\n",
            "           0       1.00      1.00      1.00      5206\n",
            "           1       0.42      0.54      0.47        26\n",
            "\n",
            "    accuracy                           0.99      5232\n",
            "   macro avg       0.71      0.77      0.74      5232\n",
            "weighted avg       0.99      0.99      0.99      5232\n",
            "\n"
          ]
        }
      ]
    },
    {
      "cell_type": "code",
      "source": [
        "from sklearn.ensemble import RandomForestClassifier\n",
        "from sklearn.datasets import make_classification\n",
        "rf = RandomForestClassifier(max_depth=50, n_estimators=100, random_state=0, n_jobs=10)\n",
        "rf.fit(X_smote_treino, y_smote_treino)\n",
        "classe_prevista_rf = rf.predict(X_tfidf_teste)\n",
        "\n"
      ],
      "metadata": {
        "id": "itT-CzUOZEOk"
      },
      "execution_count": 59,
      "outputs": []
    },
    {
      "cell_type": "code",
      "source": [
        "acuracia_rf = metrics.accuracy_score(y_teste, classe_prevista_rf)\n",
        "print(\"Acurácia RandomForest:\",  round(acuracia_rf, 2))\n",
        "\n",
        "cr_rf = classification_report(y_teste, classe_prevista_rf)\n",
        "\n",
        "print(cr_rf)"
      ],
      "metadata": {
        "id": "SrVbzZy3Zume",
        "outputId": "011e80be-b9ed-473e-e399-94ea441ff1d2",
        "colab": {
          "base_uri": "https://localhost:8080/"
        }
      },
      "execution_count": 60,
      "outputs": [
        {
          "output_type": "stream",
          "name": "stdout",
          "text": [
            "Acurácia RandomForest: 0.99\n",
            "              precision    recall  f1-score   support\n",
            "\n",
            "           0       1.00      1.00      1.00      5206\n",
            "           1       0.25      0.04      0.07        26\n",
            "\n",
            "    accuracy                           0.99      5232\n",
            "   macro avg       0.62      0.52      0.53      5232\n",
            "weighted avg       0.99      0.99      0.99      5232\n",
            "\n"
          ]
        }
      ]
    },
    {
      "cell_type": "code",
      "source": [
        "#import numpy as np\n",
        "#from sklearn.pipeline import make_pipeline\n",
        "#from sklearn.preprocessing import StandardScaler\n",
        "#from sklearn.svm import SVC\n",
        "#svc = SVC(gamma='auto')\n",
        "#svc.fit(X_smote_treino, y_smote_treino)\n",
        "#classe_prevista_svc = svc.predict(y_teste)"
      ],
      "metadata": {
        "id": "DEJbd0QHbpX-"
      },
      "execution_count": 61,
      "outputs": []
    },
    {
      "cell_type": "code",
      "source": [
        "#acuracia_svc = metrics.accuracy_score(y_teste, classe_prevista_svc)\n",
        "#print(\"Acurácia SVC:\",  round(acuracia_svc, 2))\n",
        "#\n",
        "#cr_svc = classification_report(y_teste, classe_prevista_svc)\n",
        "#\n",
        "#print(cr_svc)"
      ],
      "metadata": {
        "id": "mEijWsaXbrCc"
      },
      "execution_count": 62,
      "outputs": []
    },
    {
      "cell_type": "code",
      "source": [
        "from sklearn.neural_network import MLPClassifier\n",
        "from sklearn.datasets import make_classification\n",
        "from sklearn.model_selection import train_test_split\n",
        "mlp = MLPClassifier(random_state=1, max_iter=300).fit(X_smote_treino, y_smote_treino)\n",
        "classe_prevista_mlp = mlp.predict(X_tfidf_teste)\n"
      ],
      "metadata": {
        "id": "SXQjt2sJejXx"
      },
      "execution_count": 63,
      "outputs": []
    },
    {
      "cell_type": "code",
      "source": [
        "acuracia_mlp = metrics.accuracy_score(y_teste, classe_prevista_mlp)\n",
        "print(\"Acurácia MLP:\",  round(acuracia_mlp, 2))\n",
        "\n",
        "cr_mlp = classification_report(y_teste, classe_prevista_mlp)\n",
        "\n",
        "print(cr_mlp)"
      ],
      "metadata": {
        "id": "7DMFn2puejvm",
        "colab": {
          "base_uri": "https://localhost:8080/"
        },
        "outputId": "d380e2dd-6d82-4aa8-c38a-ded39973870a"
      },
      "execution_count": 64,
      "outputs": [
        {
          "output_type": "stream",
          "name": "stdout",
          "text": [
            "Acurácia MLP: 1.0\n",
            "              precision    recall  f1-score   support\n",
            "\n",
            "           0       1.00      1.00      1.00      5206\n",
            "           1       0.55      0.42      0.48        26\n",
            "\n",
            "    accuracy                           1.00      5232\n",
            "   macro avg       0.77      0.71      0.74      5232\n",
            "weighted avg       0.99      1.00      1.00      5232\n",
            "\n"
          ]
        }
      ]
    },
    {
      "cell_type": "code",
      "source": [
        "X_teste['Previsto_lr'] = classe_prevista_lr"
      ],
      "metadata": {
        "id": "ODYgz1zodeX4"
      },
      "execution_count": 65,
      "outputs": []
    },
    {
      "cell_type": "markdown",
      "source": [
        "Classe=Administração Pública, 0, n=7834 (10.000%)\n",
        "\n",
        "Classe=Economia e Desenvolvimento, 1, n=7834 (10.000%)\n",
        "\n",
        "Classe=Honorífico, 2, n=7834 (10.000%)\n",
        "\n",
        "Classe=Infraestrutura, 3, n=7834 (10.000%)\n",
        "\n",
        "Classe=Jurídico, 4, n=7834 (10.000%)\n",
        "\n",
        "Classe=Meio Ambiente, 5, n=7834 (10.000%)\n",
        "\n",
        "Classe=Organização do Estado, 6, n=7834 (10.000%)\n",
        "\n",
        "Classe=Orçamento Público, 7, n=7834 (10.000%)\n",
        "\n",
        "Classe=Política Social, 8, n=7834 (10.000%)\n",
        "\n",
        "Classe=Soberania, Defesa Nacional e Ordem Pública, 9, n=7834 (10.000%)\n",
        "\n",
        "Fim\n",
        "Acurácia DummyClassifier: 0.64\n",
        "Acurácia LinearRegressor: 0.9\n",
        "                                            precision    recall  f1-score   support\n",
        "\n",
        "                     Administração Pública       0.60      0.57      0.59       235\n",
        "                Economia e Desenvolvimento       0.57      0.53      0.55       193\n",
        "                                Honorífico       0.94      0.90      0.92       201\n",
        "                            Infraestrutura       0.94      0.97      0.95       753\n",
        "                                  Jurídico       0.50      0.47      0.48       114\n",
        "                             Meio Ambiente       0.45      0.38      0.42        26\n",
        "                     Organização do Estado       0.20      0.21      0.20        39\n",
        "                         Orçamento Público       0.99      0.99      0.99      3358\n",
        "                           Política Social       0.62      0.62      0.62       263\n",
        "Soberania, Defesa Nacional e Ordem Pública       0.29      0.30      0.29        50\n",
        "\n",
        "                                  accuracy                           0.90      5232\n",
        "                                 macro avg       0.61      0.59      0.60      5232\n",
        "                              weighted avg       0.90      0.90      0.90      5232"
      ],
      "metadata": {
        "id": "XnHnHyDQVSca"
      }
    },
    {
      "cell_type": "markdown",
      "metadata": {
        "collapsed": false,
        "pycharm": {
          "name": "#%% md\n"
        },
        "id": "3pYKybB4-W4X"
      },
      "source": [
        "Definição das funções para a tarefa de criação das matrizes de documentos (texto da ementa)"
      ]
    },
    {
      "cell_type": "markdown",
      "metadata": {
        "collapsed": false,
        "pycharm": {
          "name": "#%% md\n"
        },
        "id": "hFxKudoN-W4c"
      },
      "source": [
        "## 3 - Treinamento e predição do modelo de Machine Learning"
      ]
    },
    {
      "cell_type": "markdown",
      "metadata": {
        "collapsed": false,
        "pycharm": {
          "name": "#%% md\n"
        },
        "id": "uXYs1n3N-W4c"
      },
      "source": [
        "Treinamento e predição do classificador dummy."
      ]
    },
    {
      "cell_type": "code",
      "execution_count": 66,
      "metadata": {
        "pycharm": {
          "name": "#%%\n"
        },
        "id": "Nra4jLET-W4d"
      },
      "outputs": [],
      "source": [
        "from sklearn.dummy import DummyClassifier\n",
        "dc = DummyClassifier()\n",
        "dc.fit(X_smote_treino, y_smote_treino)\n",
        "classe_prevista_dc = dc.predict(X_teste)"
      ]
    },
    {
      "cell_type": "markdown",
      "metadata": {
        "collapsed": false,
        "pycharm": {
          "name": "#%% md\n"
        },
        "id": "3W69IAqM-W4d"
      },
      "source": [
        "Treinamento e predição do classificador por Regressão Logística."
      ]
    },
    {
      "cell_type": "markdown",
      "metadata": {
        "collapsed": false,
        "pycharm": {
          "name": "#%% md\n"
        },
        "id": "E6lIaRnJ-W4e"
      },
      "source": [
        "## 4 - Avaliando o modelo"
      ]
    },
    {
      "cell_type": "markdown",
      "metadata": {
        "collapsed": false,
        "pycharm": {
          "name": "#%% md\n"
        },
        "id": "pQrGmuBQ-W4e"
      },
      "source": [
        "Exibe os relatórios de desempenho do modelo do classificador dummy e do de Regressão Logística no dataset de testes"
      ]
    },
    {
      "cell_type": "code",
      "source": [
        "#def classifica(X, classificadores): \n",
        "#    for clf in classificadores: \n",
        "#        clf.predict(X) \n",
        "#        #pickel\n"
      ],
      "metadata": {
        "id": "9qipLL_Wl12_"
      },
      "execution_count": 67,
      "outputs": []
    }
  ],
  "metadata": {
    "kernelspec": {
      "display_name": "Python 3.9.12 ('mdenv')",
      "language": "python",
      "name": "python3"
    },
    "language_info": {
      "codemirror_mode": {
        "name": "ipython",
        "version": 3
      },
      "file_extension": ".py",
      "mimetype": "text/x-python",
      "name": "python",
      "nbconvert_exporter": "python",
      "pygments_lexer": "ipython3",
      "version": "3.9.12"
    },
    "vscode": {
      "interpreter": {
        "hash": "bb26a599782b3853c870df2c7a4979ed6ea3ce3b4ae25b1f6e4fc2e40113204d"
      }
    },
    "colab": {
      "provenance": [],
      "include_colab_link": true
    }
  },
  "nbformat": 4,
  "nbformat_minor": 0
}