{
  "cells": [
    {
      "cell_type": "markdown",
      "metadata": {
        "id": "view-in-github",
        "colab_type": "text"
      },
      "source": [
        "<a href=\"https://colab.research.google.com/github/vanerven/md-trabalho-final/blob/master/classificacao-leis-decretos-data-augmentation-one-classifier.ipynb\" target=\"_parent\"><img src=\"https://colab.research.google.com/assets/colab-badge.svg\" alt=\"Open In Colab\"/></a>"
      ]
    },
    {
      "cell_type": "markdown",
      "metadata": {
        "collapsed": false,
        "pycharm": {
          "name": "#%% md\n"
        },
        "id": "N64w8fMh-W3Y"
      },
      "source": [
        "# Trabalho Final de Mineração de Dados"
      ]
    },
    {
      "cell_type": "markdown",
      "metadata": {
        "collapsed": false,
        "pycharm": {
          "name": "#%% md\n"
        },
        "id": "87urLhmE-W3m"
      },
      "source": [
        "## Importando bibliotecas"
      ]
    },
    {
      "cell_type": "code",
      "source": [
        "!pip install pydot scikit-plot  graphviz xgboost xgboost test \n",
        "from urllib.parse import urlencode\n",
        "# six.moves six.moves.urllib"
      ],
      "metadata": {
        "colab": {
          "base_uri": "https://localhost:8080/"
        },
        "id": "JHOD13wJCdc5",
        "outputId": "bf011615-d104-443e-a737-263bf5987a58"
      },
      "execution_count": 52,
      "outputs": [
        {
          "output_type": "stream",
          "name": "stdout",
          "text": [
            "Looking in indexes: https://pypi.org/simple, https://us-python.pkg.dev/colab-wheels/public/simple/\n",
            "Requirement already satisfied: pydot in /usr/local/lib/python3.7/dist-packages (1.3.0)\n",
            "Collecting scikit-plot\n",
            "  Using cached scikit_plot-0.3.7-py3-none-any.whl (33 kB)\n",
            "Requirement already satisfied: graphviz in /usr/local/lib/python3.7/dist-packages (0.10.1)\n",
            "Requirement already satisfied: xgboost in /usr/local/lib/python3.7/dist-packages (0.90)\n",
            "\u001b[31mERROR: Could not find a version that satisfies the requirement test (from versions: none)\u001b[0m\n",
            "\u001b[31mERROR: No matching distribution found for test\u001b[0m\n"
          ]
        }
      ]
    },
    {
      "cell_type": "code",
      "execution_count": 23,
      "metadata": {
        "pycharm": {
          "name": "#%%\n"
        },
        "colab": {
          "base_uri": "https://localhost:8080/"
        },
        "id": "4likbz2i-W3p",
        "outputId": "2257dd99-7362-4462-f4c8-ada85743a0a5"
      },
      "outputs": [
        {
          "output_type": "stream",
          "name": "stderr",
          "text": [
            "[nltk_data] Downloading package punkt to /root/nltk_data...\n",
            "[nltk_data]   Package punkt is already up-to-date!\n",
            "[nltk_data] Downloading package stopwords to /root/nltk_data...\n",
            "[nltk_data]   Package stopwords is already up-to-date!\n"
          ]
        },
        {
          "output_type": "execute_result",
          "data": {
            "text/plain": [
              "True"
            ]
          },
          "metadata": {},
          "execution_count": 23
        }
      ],
      "source": [
        "from gensim.models import KeyedVectors\n",
        "from sklearn.model_selection import train_test_split\n",
        "from sklearn.linear_model import LogisticRegression\n",
        "from sklearn.metrics import classification_report\n",
        "from sklearn.dummy import DummyClassifier\n",
        "from sklearn import metrics\n",
        "from collections import Counter\n",
        "import pandas as pd\n",
        "import numpy as np\n",
        "import nltk\n",
        "import string\n",
        "nltk.download(\"punkt\")\n",
        "nltk.download(\"stopwords\")"
      ]
    },
    {
      "cell_type": "markdown",
      "metadata": {
        "collapsed": false,
        "pycharm": {
          "name": "#%% md\n"
        },
        "id": "1cWbIAtX-W3t"
      },
      "source": [
        "## 1 - Fase de Preparação dos Dados\n",
        "---"
      ]
    },
    {
      "cell_type": "markdown",
      "metadata": {
        "collapsed": false,
        "pycharm": {
          "name": "#%% md\n"
        },
        "id": "4mAzX9Ac-W3v"
      },
      "source": [
        "Carregando o arquivo original de classes."
      ]
    },
    {
      "cell_type": "code",
      "execution_count": 24,
      "metadata": {
        "pycharm": {
          "name": "#%%\n"
        },
        "colab": {
          "base_uri": "https://localhost:8080/",
          "height": 548
        },
        "id": "XJ-Mq42T-W3w",
        "outputId": "2dc1d434-bc31-4532-b596-032d4172df73"
      },
      "outputs": [
        {
          "output_type": "execute_result",
          "data": {
            "text/plain": [
              "        COD_CLASSE                          DES_NOME_PREFERIDO  \\\n",
              "0    1    33254494            Classificação Temática Unificada   \n",
              "1    2    33809814         Temas Exclusivos de Pronunciamentos   \n",
              "2    3    33809634                               Meio Ambiente   \n",
              "3    4    33809514  Soberania, Defesa Nacional e Ordem Pública   \n",
              "4    5    33808912                             Política Social   \n",
              "\n",
              "   COD_CLASSE_PAI  NUM_NIVEL  CYCLE  \\\n",
              "0             NaN          1      0   \n",
              "1      33254494.0          2      0   \n",
              "2      33254494.0          2      0   \n",
              "3      33254494.0          2      0   \n",
              "4      33254494.0          2      0   \n",
              "\n",
              "                                            TREE  \\\n",
              "0               Classificação Temática Unificada   \n",
              "1         -- Temas Exclusivos de Pronunciamentos   \n",
              "2                               -- Meio Ambiente   \n",
              "3  -- Soberania, Defesa Nacional e Ordem Pública   \n",
              "4                             -- Política Social   \n",
              "\n",
              "                                                PATH  QTD_FILHOS  \\\n",
              "0                   Classificação Temática Unificada         202   \n",
              "1  Classificação Temática Unificada / Temas Exclu...          22   \n",
              "2   Classificação Temática Unificada / Meio Ambiente          11   \n",
              "3  Classificação Temática Unificada / Soberania, ...           7   \n",
              "4  Classificação Temática Unificada / Política So...          37   \n",
              "\n",
              "                                   DES_NIVEL1 DES_NIVEL2 DES_NIVEL3  \\\n",
              "0                                         NaN        NaN        NaN   \n",
              "1         Temas Exclusivos de Pronunciamentos        NaN        NaN   \n",
              "2                               Meio Ambiente        NaN        NaN   \n",
              "3  Soberania, Defesa Nacional e Ordem Pública        NaN        NaN   \n",
              "4                             Política Social        NaN        NaN   \n",
              "\n",
              "   DES_NIVEL4  \n",
              "0         NaN  \n",
              "1         NaN  \n",
              "2         NaN  \n",
              "3         NaN  \n",
              "4         NaN  "
            ],
            "text/html": [
              "\n",
              "  <div id=\"df-8215e7bb-ae26-4462-8255-9892bf7bb0f5\">\n",
              "    <div class=\"colab-df-container\">\n",
              "      <div>\n",
              "<style scoped>\n",
              "    .dataframe tbody tr th:only-of-type {\n",
              "        vertical-align: middle;\n",
              "    }\n",
              "\n",
              "    .dataframe tbody tr th {\n",
              "        vertical-align: top;\n",
              "    }\n",
              "\n",
              "    .dataframe thead th {\n",
              "        text-align: right;\n",
              "    }\n",
              "</style>\n",
              "<table border=\"1\" class=\"dataframe\">\n",
              "  <thead>\n",
              "    <tr style=\"text-align: right;\">\n",
              "      <th></th>\n",
              "      <th></th>\n",
              "      <th>COD_CLASSE</th>\n",
              "      <th>DES_NOME_PREFERIDO</th>\n",
              "      <th>COD_CLASSE_PAI</th>\n",
              "      <th>NUM_NIVEL</th>\n",
              "      <th>CYCLE</th>\n",
              "      <th>TREE</th>\n",
              "      <th>PATH</th>\n",
              "      <th>QTD_FILHOS</th>\n",
              "      <th>DES_NIVEL1</th>\n",
              "      <th>DES_NIVEL2</th>\n",
              "      <th>DES_NIVEL3</th>\n",
              "      <th>DES_NIVEL4</th>\n",
              "    </tr>\n",
              "  </thead>\n",
              "  <tbody>\n",
              "    <tr>\n",
              "      <th>0</th>\n",
              "      <td>1</td>\n",
              "      <td>33254494</td>\n",
              "      <td>Classificação Temática Unificada</td>\n",
              "      <td>NaN</td>\n",
              "      <td>1</td>\n",
              "      <td>0</td>\n",
              "      <td>Classificação Temática Unificada</td>\n",
              "      <td>Classificação Temática Unificada</td>\n",
              "      <td>202</td>\n",
              "      <td>NaN</td>\n",
              "      <td>NaN</td>\n",
              "      <td>NaN</td>\n",
              "      <td>NaN</td>\n",
              "    </tr>\n",
              "    <tr>\n",
              "      <th>1</th>\n",
              "      <td>2</td>\n",
              "      <td>33809814</td>\n",
              "      <td>Temas Exclusivos de Pronunciamentos</td>\n",
              "      <td>33254494.0</td>\n",
              "      <td>2</td>\n",
              "      <td>0</td>\n",
              "      <td>-- Temas Exclusivos de Pronunciamentos</td>\n",
              "      <td>Classificação Temática Unificada / Temas Exclu...</td>\n",
              "      <td>22</td>\n",
              "      <td>Temas Exclusivos de Pronunciamentos</td>\n",
              "      <td>NaN</td>\n",
              "      <td>NaN</td>\n",
              "      <td>NaN</td>\n",
              "    </tr>\n",
              "    <tr>\n",
              "      <th>2</th>\n",
              "      <td>3</td>\n",
              "      <td>33809634</td>\n",
              "      <td>Meio Ambiente</td>\n",
              "      <td>33254494.0</td>\n",
              "      <td>2</td>\n",
              "      <td>0</td>\n",
              "      <td>-- Meio Ambiente</td>\n",
              "      <td>Classificação Temática Unificada / Meio Ambiente</td>\n",
              "      <td>11</td>\n",
              "      <td>Meio Ambiente</td>\n",
              "      <td>NaN</td>\n",
              "      <td>NaN</td>\n",
              "      <td>NaN</td>\n",
              "    </tr>\n",
              "    <tr>\n",
              "      <th>3</th>\n",
              "      <td>4</td>\n",
              "      <td>33809514</td>\n",
              "      <td>Soberania, Defesa Nacional e Ordem Pública</td>\n",
              "      <td>33254494.0</td>\n",
              "      <td>2</td>\n",
              "      <td>0</td>\n",
              "      <td>-- Soberania, Defesa Nacional e Ordem Pública</td>\n",
              "      <td>Classificação Temática Unificada / Soberania, ...</td>\n",
              "      <td>7</td>\n",
              "      <td>Soberania, Defesa Nacional e Ordem Pública</td>\n",
              "      <td>NaN</td>\n",
              "      <td>NaN</td>\n",
              "      <td>NaN</td>\n",
              "    </tr>\n",
              "    <tr>\n",
              "      <th>4</th>\n",
              "      <td>5</td>\n",
              "      <td>33808912</td>\n",
              "      <td>Política Social</td>\n",
              "      <td>33254494.0</td>\n",
              "      <td>2</td>\n",
              "      <td>0</td>\n",
              "      <td>-- Política Social</td>\n",
              "      <td>Classificação Temática Unificada / Política So...</td>\n",
              "      <td>37</td>\n",
              "      <td>Política Social</td>\n",
              "      <td>NaN</td>\n",
              "      <td>NaN</td>\n",
              "      <td>NaN</td>\n",
              "    </tr>\n",
              "  </tbody>\n",
              "</table>\n",
              "</div>\n",
              "      <button class=\"colab-df-convert\" onclick=\"convertToInteractive('df-8215e7bb-ae26-4462-8255-9892bf7bb0f5')\"\n",
              "              title=\"Convert this dataframe to an interactive table.\"\n",
              "              style=\"display:none;\">\n",
              "        \n",
              "  <svg xmlns=\"http://www.w3.org/2000/svg\" height=\"24px\"viewBox=\"0 0 24 24\"\n",
              "       width=\"24px\">\n",
              "    <path d=\"M0 0h24v24H0V0z\" fill=\"none\"/>\n",
              "    <path d=\"M18.56 5.44l.94 2.06.94-2.06 2.06-.94-2.06-.94-.94-2.06-.94 2.06-2.06.94zm-11 1L8.5 8.5l.94-2.06 2.06-.94-2.06-.94L8.5 2.5l-.94 2.06-2.06.94zm10 10l.94 2.06.94-2.06 2.06-.94-2.06-.94-.94-2.06-.94 2.06-2.06.94z\"/><path d=\"M17.41 7.96l-1.37-1.37c-.4-.4-.92-.59-1.43-.59-.52 0-1.04.2-1.43.59L10.3 9.45l-7.72 7.72c-.78.78-.78 2.05 0 2.83L4 21.41c.39.39.9.59 1.41.59.51 0 1.02-.2 1.41-.59l7.78-7.78 2.81-2.81c.8-.78.8-2.07 0-2.86zM5.41 20L4 18.59l7.72-7.72 1.47 1.35L5.41 20z\"/>\n",
              "  </svg>\n",
              "      </button>\n",
              "      \n",
              "  <style>\n",
              "    .colab-df-container {\n",
              "      display:flex;\n",
              "      flex-wrap:wrap;\n",
              "      gap: 12px;\n",
              "    }\n",
              "\n",
              "    .colab-df-convert {\n",
              "      background-color: #E8F0FE;\n",
              "      border: none;\n",
              "      border-radius: 50%;\n",
              "      cursor: pointer;\n",
              "      display: none;\n",
              "      fill: #1967D2;\n",
              "      height: 32px;\n",
              "      padding: 0 0 0 0;\n",
              "      width: 32px;\n",
              "    }\n",
              "\n",
              "    .colab-df-convert:hover {\n",
              "      background-color: #E2EBFA;\n",
              "      box-shadow: 0px 1px 2px rgba(60, 64, 67, 0.3), 0px 1px 3px 1px rgba(60, 64, 67, 0.15);\n",
              "      fill: #174EA6;\n",
              "    }\n",
              "\n",
              "    [theme=dark] .colab-df-convert {\n",
              "      background-color: #3B4455;\n",
              "      fill: #D2E3FC;\n",
              "    }\n",
              "\n",
              "    [theme=dark] .colab-df-convert:hover {\n",
              "      background-color: #434B5C;\n",
              "      box-shadow: 0px 1px 3px 1px rgba(0, 0, 0, 0.15);\n",
              "      filter: drop-shadow(0px 1px 2px rgba(0, 0, 0, 0.3));\n",
              "      fill: #FFFFFF;\n",
              "    }\n",
              "  </style>\n",
              "\n",
              "      <script>\n",
              "        const buttonEl =\n",
              "          document.querySelector('#df-8215e7bb-ae26-4462-8255-9892bf7bb0f5 button.colab-df-convert');\n",
              "        buttonEl.style.display =\n",
              "          google.colab.kernel.accessAllowed ? 'block' : 'none';\n",
              "\n",
              "        async function convertToInteractive(key) {\n",
              "          const element = document.querySelector('#df-8215e7bb-ae26-4462-8255-9892bf7bb0f5');\n",
              "          const dataTable =\n",
              "            await google.colab.kernel.invokeFunction('convertToInteractive',\n",
              "                                                     [key], {});\n",
              "          if (!dataTable) return;\n",
              "\n",
              "          const docLinkHtml = 'Like what you see? Visit the ' +\n",
              "            '<a target=\"_blank\" href=https://colab.research.google.com/notebooks/data_table.ipynb>data table notebook</a>'\n",
              "            + ' to learn more about interactive tables.';\n",
              "          element.innerHTML = '';\n",
              "          dataTable['output_type'] = 'display_data';\n",
              "          await google.colab.output.renderOutput(dataTable, element);\n",
              "          const docLink = document.createElement('div');\n",
              "          docLink.innerHTML = docLinkHtml;\n",
              "          element.appendChild(docLink);\n",
              "        }\n",
              "      </script>\n",
              "    </div>\n",
              "  </div>\n",
              "  "
            ]
          },
          "metadata": {},
          "execution_count": 24
        }
      ],
      "source": [
        "classes_original = pd.read_excel(\"dados/SistemaDeClassificacao.xlsx\", \"Select viw_classificacao_arvore\")\n",
        "classes_original.head()"
      ]
    },
    {
      "cell_type": "markdown",
      "metadata": {
        "collapsed": false,
        "pycharm": {
          "name": "#%% md\n"
        },
        "id": "AOwa7iTg-W3y"
      },
      "source": [
        "Filtra o arquivo de classes original para exibir apenas aquelas que serão raiz na classificação da ementa.\n",
        "Essa classes possuem nível 2 na tabela original."
      ]
    },
    {
      "cell_type": "code",
      "execution_count": 25,
      "metadata": {
        "pycharm": {
          "name": "#%%\n"
        },
        "colab": {
          "base_uri": "https://localhost:8080/",
          "height": 394
        },
        "id": "14abx75D-W30",
        "outputId": "b3981c8c-7f89-4731-c9be-c9c6055d2709"
      },
      "outputs": [
        {
          "output_type": "execute_result",
          "data": {
            "text/plain": [
              "    COD_CLASSE                                  DES_CLASSE\n",
              "1     33809814         Temas Exclusivos de Pronunciamentos\n",
              "2     33809634                               Meio Ambiente\n",
              "3     33809514  Soberania, Defesa Nacional e Ordem Pública\n",
              "4     33808912                             Política Social\n",
              "5     33805362                                    Jurídico\n",
              "6     33805317                                  Honorífico\n",
              "7     33805137                              Infraestrutura\n",
              "8     33769167                  Economia e Desenvolvimento\n",
              "9     33768972                       Organização do Estado\n",
              "10    33685789                       Administração Pública\n",
              "11    33260515                           Orçamento Público"
            ],
            "text/html": [
              "\n",
              "  <div id=\"df-bd8c307f-e79c-46d4-9c74-8c42f4b9cbbd\">\n",
              "    <div class=\"colab-df-container\">\n",
              "      <div>\n",
              "<style scoped>\n",
              "    .dataframe tbody tr th:only-of-type {\n",
              "        vertical-align: middle;\n",
              "    }\n",
              "\n",
              "    .dataframe tbody tr th {\n",
              "        vertical-align: top;\n",
              "    }\n",
              "\n",
              "    .dataframe thead th {\n",
              "        text-align: right;\n",
              "    }\n",
              "</style>\n",
              "<table border=\"1\" class=\"dataframe\">\n",
              "  <thead>\n",
              "    <tr style=\"text-align: right;\">\n",
              "      <th></th>\n",
              "      <th>COD_CLASSE</th>\n",
              "      <th>DES_CLASSE</th>\n",
              "    </tr>\n",
              "  </thead>\n",
              "  <tbody>\n",
              "    <tr>\n",
              "      <th>1</th>\n",
              "      <td>33809814</td>\n",
              "      <td>Temas Exclusivos de Pronunciamentos</td>\n",
              "    </tr>\n",
              "    <tr>\n",
              "      <th>2</th>\n",
              "      <td>33809634</td>\n",
              "      <td>Meio Ambiente</td>\n",
              "    </tr>\n",
              "    <tr>\n",
              "      <th>3</th>\n",
              "      <td>33809514</td>\n",
              "      <td>Soberania, Defesa Nacional e Ordem Pública</td>\n",
              "    </tr>\n",
              "    <tr>\n",
              "      <th>4</th>\n",
              "      <td>33808912</td>\n",
              "      <td>Política Social</td>\n",
              "    </tr>\n",
              "    <tr>\n",
              "      <th>5</th>\n",
              "      <td>33805362</td>\n",
              "      <td>Jurídico</td>\n",
              "    </tr>\n",
              "    <tr>\n",
              "      <th>6</th>\n",
              "      <td>33805317</td>\n",
              "      <td>Honorífico</td>\n",
              "    </tr>\n",
              "    <tr>\n",
              "      <th>7</th>\n",
              "      <td>33805137</td>\n",
              "      <td>Infraestrutura</td>\n",
              "    </tr>\n",
              "    <tr>\n",
              "      <th>8</th>\n",
              "      <td>33769167</td>\n",
              "      <td>Economia e Desenvolvimento</td>\n",
              "    </tr>\n",
              "    <tr>\n",
              "      <th>9</th>\n",
              "      <td>33768972</td>\n",
              "      <td>Organização do Estado</td>\n",
              "    </tr>\n",
              "    <tr>\n",
              "      <th>10</th>\n",
              "      <td>33685789</td>\n",
              "      <td>Administração Pública</td>\n",
              "    </tr>\n",
              "    <tr>\n",
              "      <th>11</th>\n",
              "      <td>33260515</td>\n",
              "      <td>Orçamento Público</td>\n",
              "    </tr>\n",
              "  </tbody>\n",
              "</table>\n",
              "</div>\n",
              "      <button class=\"colab-df-convert\" onclick=\"convertToInteractive('df-bd8c307f-e79c-46d4-9c74-8c42f4b9cbbd')\"\n",
              "              title=\"Convert this dataframe to an interactive table.\"\n",
              "              style=\"display:none;\">\n",
              "        \n",
              "  <svg xmlns=\"http://www.w3.org/2000/svg\" height=\"24px\"viewBox=\"0 0 24 24\"\n",
              "       width=\"24px\">\n",
              "    <path d=\"M0 0h24v24H0V0z\" fill=\"none\"/>\n",
              "    <path d=\"M18.56 5.44l.94 2.06.94-2.06 2.06-.94-2.06-.94-.94-2.06-.94 2.06-2.06.94zm-11 1L8.5 8.5l.94-2.06 2.06-.94-2.06-.94L8.5 2.5l-.94 2.06-2.06.94zm10 10l.94 2.06.94-2.06 2.06-.94-2.06-.94-.94-2.06-.94 2.06-2.06.94z\"/><path d=\"M17.41 7.96l-1.37-1.37c-.4-.4-.92-.59-1.43-.59-.52 0-1.04.2-1.43.59L10.3 9.45l-7.72 7.72c-.78.78-.78 2.05 0 2.83L4 21.41c.39.39.9.59 1.41.59.51 0 1.02-.2 1.41-.59l7.78-7.78 2.81-2.81c.8-.78.8-2.07 0-2.86zM5.41 20L4 18.59l7.72-7.72 1.47 1.35L5.41 20z\"/>\n",
              "  </svg>\n",
              "      </button>\n",
              "      \n",
              "  <style>\n",
              "    .colab-df-container {\n",
              "      display:flex;\n",
              "      flex-wrap:wrap;\n",
              "      gap: 12px;\n",
              "    }\n",
              "\n",
              "    .colab-df-convert {\n",
              "      background-color: #E8F0FE;\n",
              "      border: none;\n",
              "      border-radius: 50%;\n",
              "      cursor: pointer;\n",
              "      display: none;\n",
              "      fill: #1967D2;\n",
              "      height: 32px;\n",
              "      padding: 0 0 0 0;\n",
              "      width: 32px;\n",
              "    }\n",
              "\n",
              "    .colab-df-convert:hover {\n",
              "      background-color: #E2EBFA;\n",
              "      box-shadow: 0px 1px 2px rgba(60, 64, 67, 0.3), 0px 1px 3px 1px rgba(60, 64, 67, 0.15);\n",
              "      fill: #174EA6;\n",
              "    }\n",
              "\n",
              "    [theme=dark] .colab-df-convert {\n",
              "      background-color: #3B4455;\n",
              "      fill: #D2E3FC;\n",
              "    }\n",
              "\n",
              "    [theme=dark] .colab-df-convert:hover {\n",
              "      background-color: #434B5C;\n",
              "      box-shadow: 0px 1px 3px 1px rgba(0, 0, 0, 0.15);\n",
              "      filter: drop-shadow(0px 1px 2px rgba(0, 0, 0, 0.3));\n",
              "      fill: #FFFFFF;\n",
              "    }\n",
              "  </style>\n",
              "\n",
              "      <script>\n",
              "        const buttonEl =\n",
              "          document.querySelector('#df-bd8c307f-e79c-46d4-9c74-8c42f4b9cbbd button.colab-df-convert');\n",
              "        buttonEl.style.display =\n",
              "          google.colab.kernel.accessAllowed ? 'block' : 'none';\n",
              "\n",
              "        async function convertToInteractive(key) {\n",
              "          const element = document.querySelector('#df-bd8c307f-e79c-46d4-9c74-8c42f4b9cbbd');\n",
              "          const dataTable =\n",
              "            await google.colab.kernel.invokeFunction('convertToInteractive',\n",
              "                                                     [key], {});\n",
              "          if (!dataTable) return;\n",
              "\n",
              "          const docLinkHtml = 'Like what you see? Visit the ' +\n",
              "            '<a target=\"_blank\" href=https://colab.research.google.com/notebooks/data_table.ipynb>data table notebook</a>'\n",
              "            + ' to learn more about interactive tables.';\n",
              "          element.innerHTML = '';\n",
              "          dataTable['output_type'] = 'display_data';\n",
              "          await google.colab.output.renderOutput(dataTable, element);\n",
              "          const docLink = document.createElement('div');\n",
              "          docLink.innerHTML = docLinkHtml;\n",
              "          element.appendChild(docLink);\n",
              "        }\n",
              "      </script>\n",
              "    </div>\n",
              "  </div>\n",
              "  "
            ]
          },
          "metadata": {},
          "execution_count": 25
        }
      ],
      "source": [
        "classes_raiz = classes_original.query(\"NUM_NIVEL == 2\").filter([\"COD_CLASSE\", \"DES_NOME_PREFERIDO\"])\n",
        "classes_raiz.rename(columns={\"DES_NOME_PREFERIDO\": \"DES_CLASSE\"}, inplace=True)\n",
        "classes_raiz"
      ]
    },
    {
      "cell_type": "markdown",
      "metadata": {
        "collapsed": false,
        "pycharm": {
          "name": "#%% md\n"
        },
        "id": "NVoIqffw-W33"
      },
      "source": [
        "Carrega o dataset contendo as leis que já foram classificadas. Com os dados carregados, cria uma coluna derivada (DES_CLASSE_RAIZ) a partir da árvore de classes (DES_CLASSE_HIERARQUIA), da qual a informação de classe raiz é extraída."
      ]
    },
    {
      "cell_type": "code",
      "execution_count": 26,
      "metadata": {
        "pycharm": {
          "name": "#%%\n"
        },
        "colab": {
          "base_uri": "https://localhost:8080/",
          "height": 206
        },
        "id": "Pb7bsLLm-W35",
        "outputId": "a5c2b0fe-7f10-4bf6-f2cb-479995c2b097"
      },
      "outputs": [
        {
          "output_type": "execute_result",
          "data": {
            "text/plain": [
              "        COD_PRC_DOC_TEMA  COD_PROCESSO_DOCUMENTO  COD_CLASSE  \\\n",
              "0    1          36155183                  386343    33805827   \n",
              "1    2          36192020                  386579    33805287   \n",
              "2    3          36155185                  387419    33805827   \n",
              "3    4          36192056                  387832    33805287   \n",
              "4    5          36155187                  388197    33805827   \n",
              "\n",
              "            DES_CLASSE                              DES_CLASSE_HIERARQUIA  \\\n",
              "0  Crédito Suplementar  Classificação Temática Unificada / Orçamento P...   \n",
              "1           Rádio e TV  Classificação Temática Unificada / Infraestrut...   \n",
              "2  Crédito Suplementar  Classificação Temática Unificada / Orçamento P...   \n",
              "3           Rádio e TV  Classificação Temática Unificada / Infraestrut...   \n",
              "4  Crédito Suplementar  Classificação Temática Unificada / Orçamento P...   \n",
              "\n",
              "     DES_CLASSE_RAIZ  \n",
              "0  Orçamento Público  \n",
              "1     Infraestrutura  \n",
              "2  Orçamento Público  \n",
              "3     Infraestrutura  \n",
              "4  Orçamento Público  "
            ],
            "text/html": [
              "\n",
              "  <div id=\"df-148a70a6-3036-4902-9969-82d5ad16a4b4\">\n",
              "    <div class=\"colab-df-container\">\n",
              "      <div>\n",
              "<style scoped>\n",
              "    .dataframe tbody tr th:only-of-type {\n",
              "        vertical-align: middle;\n",
              "    }\n",
              "\n",
              "    .dataframe tbody tr th {\n",
              "        vertical-align: top;\n",
              "    }\n",
              "\n",
              "    .dataframe thead th {\n",
              "        text-align: right;\n",
              "    }\n",
              "</style>\n",
              "<table border=\"1\" class=\"dataframe\">\n",
              "  <thead>\n",
              "    <tr style=\"text-align: right;\">\n",
              "      <th></th>\n",
              "      <th></th>\n",
              "      <th>COD_PRC_DOC_TEMA</th>\n",
              "      <th>COD_PROCESSO_DOCUMENTO</th>\n",
              "      <th>COD_CLASSE</th>\n",
              "      <th>DES_CLASSE</th>\n",
              "      <th>DES_CLASSE_HIERARQUIA</th>\n",
              "      <th>DES_CLASSE_RAIZ</th>\n",
              "    </tr>\n",
              "  </thead>\n",
              "  <tbody>\n",
              "    <tr>\n",
              "      <th>0</th>\n",
              "      <td>1</td>\n",
              "      <td>36155183</td>\n",
              "      <td>386343</td>\n",
              "      <td>33805827</td>\n",
              "      <td>Crédito Suplementar</td>\n",
              "      <td>Classificação Temática Unificada / Orçamento P...</td>\n",
              "      <td>Orçamento Público</td>\n",
              "    </tr>\n",
              "    <tr>\n",
              "      <th>1</th>\n",
              "      <td>2</td>\n",
              "      <td>36192020</td>\n",
              "      <td>386579</td>\n",
              "      <td>33805287</td>\n",
              "      <td>Rádio e TV</td>\n",
              "      <td>Classificação Temática Unificada / Infraestrut...</td>\n",
              "      <td>Infraestrutura</td>\n",
              "    </tr>\n",
              "    <tr>\n",
              "      <th>2</th>\n",
              "      <td>3</td>\n",
              "      <td>36155185</td>\n",
              "      <td>387419</td>\n",
              "      <td>33805827</td>\n",
              "      <td>Crédito Suplementar</td>\n",
              "      <td>Classificação Temática Unificada / Orçamento P...</td>\n",
              "      <td>Orçamento Público</td>\n",
              "    </tr>\n",
              "    <tr>\n",
              "      <th>3</th>\n",
              "      <td>4</td>\n",
              "      <td>36192056</td>\n",
              "      <td>387832</td>\n",
              "      <td>33805287</td>\n",
              "      <td>Rádio e TV</td>\n",
              "      <td>Classificação Temática Unificada / Infraestrut...</td>\n",
              "      <td>Infraestrutura</td>\n",
              "    </tr>\n",
              "    <tr>\n",
              "      <th>4</th>\n",
              "      <td>5</td>\n",
              "      <td>36155187</td>\n",
              "      <td>388197</td>\n",
              "      <td>33805827</td>\n",
              "      <td>Crédito Suplementar</td>\n",
              "      <td>Classificação Temática Unificada / Orçamento P...</td>\n",
              "      <td>Orçamento Público</td>\n",
              "    </tr>\n",
              "  </tbody>\n",
              "</table>\n",
              "</div>\n",
              "      <button class=\"colab-df-convert\" onclick=\"convertToInteractive('df-148a70a6-3036-4902-9969-82d5ad16a4b4')\"\n",
              "              title=\"Convert this dataframe to an interactive table.\"\n",
              "              style=\"display:none;\">\n",
              "        \n",
              "  <svg xmlns=\"http://www.w3.org/2000/svg\" height=\"24px\"viewBox=\"0 0 24 24\"\n",
              "       width=\"24px\">\n",
              "    <path d=\"M0 0h24v24H0V0z\" fill=\"none\"/>\n",
              "    <path d=\"M18.56 5.44l.94 2.06.94-2.06 2.06-.94-2.06-.94-.94-2.06-.94 2.06-2.06.94zm-11 1L8.5 8.5l.94-2.06 2.06-.94-2.06-.94L8.5 2.5l-.94 2.06-2.06.94zm10 10l.94 2.06.94-2.06 2.06-.94-2.06-.94-.94-2.06-.94 2.06-2.06.94z\"/><path d=\"M17.41 7.96l-1.37-1.37c-.4-.4-.92-.59-1.43-.59-.52 0-1.04.2-1.43.59L10.3 9.45l-7.72 7.72c-.78.78-.78 2.05 0 2.83L4 21.41c.39.39.9.59 1.41.59.51 0 1.02-.2 1.41-.59l7.78-7.78 2.81-2.81c.8-.78.8-2.07 0-2.86zM5.41 20L4 18.59l7.72-7.72 1.47 1.35L5.41 20z\"/>\n",
              "  </svg>\n",
              "      </button>\n",
              "      \n",
              "  <style>\n",
              "    .colab-df-container {\n",
              "      display:flex;\n",
              "      flex-wrap:wrap;\n",
              "      gap: 12px;\n",
              "    }\n",
              "\n",
              "    .colab-df-convert {\n",
              "      background-color: #E8F0FE;\n",
              "      border: none;\n",
              "      border-radius: 50%;\n",
              "      cursor: pointer;\n",
              "      display: none;\n",
              "      fill: #1967D2;\n",
              "      height: 32px;\n",
              "      padding: 0 0 0 0;\n",
              "      width: 32px;\n",
              "    }\n",
              "\n",
              "    .colab-df-convert:hover {\n",
              "      background-color: #E2EBFA;\n",
              "      box-shadow: 0px 1px 2px rgba(60, 64, 67, 0.3), 0px 1px 3px 1px rgba(60, 64, 67, 0.15);\n",
              "      fill: #174EA6;\n",
              "    }\n",
              "\n",
              "    [theme=dark] .colab-df-convert {\n",
              "      background-color: #3B4455;\n",
              "      fill: #D2E3FC;\n",
              "    }\n",
              "\n",
              "    [theme=dark] .colab-df-convert:hover {\n",
              "      background-color: #434B5C;\n",
              "      box-shadow: 0px 1px 3px 1px rgba(0, 0, 0, 0.15);\n",
              "      filter: drop-shadow(0px 1px 2px rgba(0, 0, 0, 0.3));\n",
              "      fill: #FFFFFF;\n",
              "    }\n",
              "  </style>\n",
              "\n",
              "      <script>\n",
              "        const buttonEl =\n",
              "          document.querySelector('#df-148a70a6-3036-4902-9969-82d5ad16a4b4 button.colab-df-convert');\n",
              "        buttonEl.style.display =\n",
              "          google.colab.kernel.accessAllowed ? 'block' : 'none';\n",
              "\n",
              "        async function convertToInteractive(key) {\n",
              "          const element = document.querySelector('#df-148a70a6-3036-4902-9969-82d5ad16a4b4');\n",
              "          const dataTable =\n",
              "            await google.colab.kernel.invokeFunction('convertToInteractive',\n",
              "                                                     [key], {});\n",
              "          if (!dataTable) return;\n",
              "\n",
              "          const docLinkHtml = 'Like what you see? Visit the ' +\n",
              "            '<a target=\"_blank\" href=https://colab.research.google.com/notebooks/data_table.ipynb>data table notebook</a>'\n",
              "            + ' to learn more about interactive tables.';\n",
              "          element.innerHTML = '';\n",
              "          dataTable['output_type'] = 'display_data';\n",
              "          await google.colab.output.renderOutput(dataTable, element);\n",
              "          const docLink = document.createElement('div');\n",
              "          docLink.innerHTML = docLinkHtml;\n",
              "          element.appendChild(docLink);\n",
              "        }\n",
              "      </script>\n",
              "    </div>\n",
              "  </div>\n",
              "  "
            ]
          },
          "metadata": {},
          "execution_count": 26
        }
      ],
      "source": [
        "leis_classificadas_original = pd.read_excel(\"dados/ClassificacaoDeLeisOrdinarias-LeisComplementares-e-DecretosNumerados-Desde1900.xlsx\", \"Select mvw_u03_prc_doc_tema\")\n",
        "leis_classificadas_original[\"DES_CLASSE_RAIZ\"] = leis_classificadas_original[\"DES_CLASSE_HIERARQUIA\"].apply(lambda hierarquia : hierarquia.split(\" / \")[1])\n",
        "leis_classificadas_original.head()"
      ]
    },
    {
      "cell_type": "markdown",
      "metadata": {
        "collapsed": false,
        "pycharm": {
          "name": "#%% md\n"
        },
        "id": "aoywk4vY-W37"
      },
      "source": [
        "Carrega os dados de todas as leis (classificadas e não classificadas) e aplica as transformações iniciais."
      ]
    },
    {
      "cell_type": "code",
      "execution_count": 27,
      "metadata": {
        "pycharm": {
          "name": "#%%\n"
        },
        "colab": {
          "base_uri": "https://localhost:8080/",
          "height": 206
        },
        "id": "99WcT2xr-W37",
        "outputId": "419b1064-0a98-4bff-ae08-af7707d2699b"
      },
      "outputs": [
        {
          "output_type": "execute_result",
          "data": {
            "text/plain": [
              "   COD_DOCUMENTO           DES_NOME_PREFERIDO DES_NOMES_ALTERNATIVOS  \\\n",
              "0       35345364  Lei nº 14.263 de 22/12/2021   LEI-14263-2021-12-22   \n",
              "1       26247104  Lei nº 13.486 de 03/10/2017   LEI-13486-2017-10-03   \n",
              "2       27445746  Lei nº 13.701 de 06/08/2018   LEI-13701-2018-08-06   \n",
              "3       36348502  Lei nº 14.447 de 09/09/2022   LEI-14447-2022-09-09   \n",
              "4       32103727  Lei nº 13.988 de 14/04/2020   LEI-13988-2020-04-14   \n",
              "\n",
              "                                          TXT_EMENTA  \n",
              "0  Abre ao Orçamento da Seguridade Social da Uniã...  \n",
              "1  Altera o art. 8º da Lei nº 8.078, de 11 de set...  \n",
              "2  Cria o cargo de natureza especial de Intervent...  \n",
              "3  Altera os limites da Floresta Nacional de Bras...  \n",
              "4  Dispõe sobre a transação nas hipóteses que esp...  "
            ],
            "text/html": [
              "\n",
              "  <div id=\"df-c91cb6cf-ec91-4ee7-97c5-8c00257d9928\">\n",
              "    <div class=\"colab-df-container\">\n",
              "      <div>\n",
              "<style scoped>\n",
              "    .dataframe tbody tr th:only-of-type {\n",
              "        vertical-align: middle;\n",
              "    }\n",
              "\n",
              "    .dataframe tbody tr th {\n",
              "        vertical-align: top;\n",
              "    }\n",
              "\n",
              "    .dataframe thead th {\n",
              "        text-align: right;\n",
              "    }\n",
              "</style>\n",
              "<table border=\"1\" class=\"dataframe\">\n",
              "  <thead>\n",
              "    <tr style=\"text-align: right;\">\n",
              "      <th></th>\n",
              "      <th>COD_DOCUMENTO</th>\n",
              "      <th>DES_NOME_PREFERIDO</th>\n",
              "      <th>DES_NOMES_ALTERNATIVOS</th>\n",
              "      <th>TXT_EMENTA</th>\n",
              "    </tr>\n",
              "  </thead>\n",
              "  <tbody>\n",
              "    <tr>\n",
              "      <th>0</th>\n",
              "      <td>35345364</td>\n",
              "      <td>Lei nº 14.263 de 22/12/2021</td>\n",
              "      <td>LEI-14263-2021-12-22</td>\n",
              "      <td>Abre ao Orçamento da Seguridade Social da Uniã...</td>\n",
              "    </tr>\n",
              "    <tr>\n",
              "      <th>1</th>\n",
              "      <td>26247104</td>\n",
              "      <td>Lei nº 13.486 de 03/10/2017</td>\n",
              "      <td>LEI-13486-2017-10-03</td>\n",
              "      <td>Altera o art. 8º da Lei nº 8.078, de 11 de set...</td>\n",
              "    </tr>\n",
              "    <tr>\n",
              "      <th>2</th>\n",
              "      <td>27445746</td>\n",
              "      <td>Lei nº 13.701 de 06/08/2018</td>\n",
              "      <td>LEI-13701-2018-08-06</td>\n",
              "      <td>Cria o cargo de natureza especial de Intervent...</td>\n",
              "    </tr>\n",
              "    <tr>\n",
              "      <th>3</th>\n",
              "      <td>36348502</td>\n",
              "      <td>Lei nº 14.447 de 09/09/2022</td>\n",
              "      <td>LEI-14447-2022-09-09</td>\n",
              "      <td>Altera os limites da Floresta Nacional de Bras...</td>\n",
              "    </tr>\n",
              "    <tr>\n",
              "      <th>4</th>\n",
              "      <td>32103727</td>\n",
              "      <td>Lei nº 13.988 de 14/04/2020</td>\n",
              "      <td>LEI-13988-2020-04-14</td>\n",
              "      <td>Dispõe sobre a transação nas hipóteses que esp...</td>\n",
              "    </tr>\n",
              "  </tbody>\n",
              "</table>\n",
              "</div>\n",
              "      <button class=\"colab-df-convert\" onclick=\"convertToInteractive('df-c91cb6cf-ec91-4ee7-97c5-8c00257d9928')\"\n",
              "              title=\"Convert this dataframe to an interactive table.\"\n",
              "              style=\"display:none;\">\n",
              "        \n",
              "  <svg xmlns=\"http://www.w3.org/2000/svg\" height=\"24px\"viewBox=\"0 0 24 24\"\n",
              "       width=\"24px\">\n",
              "    <path d=\"M0 0h24v24H0V0z\" fill=\"none\"/>\n",
              "    <path d=\"M18.56 5.44l.94 2.06.94-2.06 2.06-.94-2.06-.94-.94-2.06-.94 2.06-2.06.94zm-11 1L8.5 8.5l.94-2.06 2.06-.94-2.06-.94L8.5 2.5l-.94 2.06-2.06.94zm10 10l.94 2.06.94-2.06 2.06-.94-2.06-.94-.94-2.06-.94 2.06-2.06.94z\"/><path d=\"M17.41 7.96l-1.37-1.37c-.4-.4-.92-.59-1.43-.59-.52 0-1.04.2-1.43.59L10.3 9.45l-7.72 7.72c-.78.78-.78 2.05 0 2.83L4 21.41c.39.39.9.59 1.41.59.51 0 1.02-.2 1.41-.59l7.78-7.78 2.81-2.81c.8-.78.8-2.07 0-2.86zM5.41 20L4 18.59l7.72-7.72 1.47 1.35L5.41 20z\"/>\n",
              "  </svg>\n",
              "      </button>\n",
              "      \n",
              "  <style>\n",
              "    .colab-df-container {\n",
              "      display:flex;\n",
              "      flex-wrap:wrap;\n",
              "      gap: 12px;\n",
              "    }\n",
              "\n",
              "    .colab-df-convert {\n",
              "      background-color: #E8F0FE;\n",
              "      border: none;\n",
              "      border-radius: 50%;\n",
              "      cursor: pointer;\n",
              "      display: none;\n",
              "      fill: #1967D2;\n",
              "      height: 32px;\n",
              "      padding: 0 0 0 0;\n",
              "      width: 32px;\n",
              "    }\n",
              "\n",
              "    .colab-df-convert:hover {\n",
              "      background-color: #E2EBFA;\n",
              "      box-shadow: 0px 1px 2px rgba(60, 64, 67, 0.3), 0px 1px 3px 1px rgba(60, 64, 67, 0.15);\n",
              "      fill: #174EA6;\n",
              "    }\n",
              "\n",
              "    [theme=dark] .colab-df-convert {\n",
              "      background-color: #3B4455;\n",
              "      fill: #D2E3FC;\n",
              "    }\n",
              "\n",
              "    [theme=dark] .colab-df-convert:hover {\n",
              "      background-color: #434B5C;\n",
              "      box-shadow: 0px 1px 3px 1px rgba(0, 0, 0, 0.15);\n",
              "      filter: drop-shadow(0px 1px 2px rgba(0, 0, 0, 0.3));\n",
              "      fill: #FFFFFF;\n",
              "    }\n",
              "  </style>\n",
              "\n",
              "      <script>\n",
              "        const buttonEl =\n",
              "          document.querySelector('#df-c91cb6cf-ec91-4ee7-97c5-8c00257d9928 button.colab-df-convert');\n",
              "        buttonEl.style.display =\n",
              "          google.colab.kernel.accessAllowed ? 'block' : 'none';\n",
              "\n",
              "        async function convertToInteractive(key) {\n",
              "          const element = document.querySelector('#df-c91cb6cf-ec91-4ee7-97c5-8c00257d9928');\n",
              "          const dataTable =\n",
              "            await google.colab.kernel.invokeFunction('convertToInteractive',\n",
              "                                                     [key], {});\n",
              "          if (!dataTable) return;\n",
              "\n",
              "          const docLinkHtml = 'Like what you see? Visit the ' +\n",
              "            '<a target=\"_blank\" href=https://colab.research.google.com/notebooks/data_table.ipynb>data table notebook</a>'\n",
              "            + ' to learn more about interactive tables.';\n",
              "          element.innerHTML = '';\n",
              "          dataTable['output_type'] = 'display_data';\n",
              "          await google.colab.output.renderOutput(dataTable, element);\n",
              "          const docLink = document.createElement('div');\n",
              "          docLink.innerHTML = docLinkHtml;\n",
              "          element.appendChild(docLink);\n",
              "        }\n",
              "      </script>\n",
              "    </div>\n",
              "  </div>\n",
              "  "
            ]
          },
          "metadata": {},
          "execution_count": 27
        }
      ],
      "source": [
        "leis_original = pd.read_excel(\"dados/LeisOrdinarias-LeisComplementare-e-DecretosNumeradosComClassificacaoDesde1900.xlsx\", \"Select mvw_s01_documento\")\n",
        "leis_original.rename(columns={\"DBMS_LOB.SUBSTR(S01.TXT_EMENTA\": \"TXT_EMENTA\"}, inplace=True)\n",
        "leis_original.drop(columns=\"   \", inplace=True)\n",
        "leis_original.head()"
      ]
    },
    {
      "cell_type": "code",
      "execution_count": 28,
      "metadata": {
        "pycharm": {
          "name": "#%%\n"
        },
        "colab": {
          "base_uri": "https://localhost:8080/"
        },
        "id": "uA3a-dLW-W39",
        "outputId": "e0747de9-86f5-4f51-8209-582a5b4faee7"
      },
      "outputs": [
        {
          "output_type": "execute_result",
          "data": {
            "text/plain": [
              "26959"
            ]
          },
          "metadata": {},
          "execution_count": 28
        }
      ],
      "source": [
        "leis_original.shape[0]"
      ]
    },
    {
      "cell_type": "markdown",
      "metadata": {
        "collapsed": false,
        "pycharm": {
          "name": "#%% md\n"
        },
        "id": "iZdcAWfz-W3-"
      },
      "source": [
        "Com os datasets necessários já carregados, cria-se um novo dataset a partir do dataset contendo todas as leis, incluindo-se a informação das classes contidadas nas leis do dataset de leis classificadas."
      ]
    },
    {
      "cell_type": "code",
      "execution_count": 29,
      "metadata": {
        "pycharm": {
          "name": "#%%\n"
        },
        "colab": {
          "base_uri": "https://localhost:8080/",
          "height": 206
        },
        "id": "It8d5H_k-W3-",
        "outputId": "3000176e-1d68-488a-e372-9490a3bb74b4"
      },
      "outputs": [
        {
          "output_type": "execute_result",
          "data": {
            "text/plain": [
              "   COD_DOCUMENTO           DES_NOME_PREFERIDO DES_NOMES_ALTERNATIVOS  \\\n",
              "0       35345364  Lei nº 14.263 de 22/12/2021   LEI-14263-2021-12-22   \n",
              "1       26247104  Lei nº 13.486 de 03/10/2017   LEI-13486-2017-10-03   \n",
              "2       27445746  Lei nº 13.701 de 06/08/2018   LEI-13701-2018-08-06   \n",
              "3       36348502  Lei nº 14.447 de 09/09/2022   LEI-14447-2022-09-09   \n",
              "4       36348502  Lei nº 14.447 de 09/09/2022   LEI-14447-2022-09-09   \n",
              "\n",
              "                                          TXT_EMENTA  COD_CLASSE  \\\n",
              "0  Abre ao Orçamento da Seguridade Social da Uniã...  33260515.0   \n",
              "1  Altera o art. 8º da Lei nº 8.078, de 11 de set...  33808912.0   \n",
              "2  Cria o cargo de natureza especial de Intervent...  33768972.0   \n",
              "3  Altera os limites da Floresta Nacional de Bras...  33685789.0   \n",
              "4  Altera os limites da Floresta Nacional de Bras...  33809634.0   \n",
              "\n",
              "              DES_CLASSE  \n",
              "0      Orçamento Público  \n",
              "1        Política Social  \n",
              "2  Organização do Estado  \n",
              "3  Administração Pública  \n",
              "4          Meio Ambiente  "
            ],
            "text/html": [
              "\n",
              "  <div id=\"df-2a47bbd8-6ef6-4ca0-8f08-888e8336e577\">\n",
              "    <div class=\"colab-df-container\">\n",
              "      <div>\n",
              "<style scoped>\n",
              "    .dataframe tbody tr th:only-of-type {\n",
              "        vertical-align: middle;\n",
              "    }\n",
              "\n",
              "    .dataframe tbody tr th {\n",
              "        vertical-align: top;\n",
              "    }\n",
              "\n",
              "    .dataframe thead th {\n",
              "        text-align: right;\n",
              "    }\n",
              "</style>\n",
              "<table border=\"1\" class=\"dataframe\">\n",
              "  <thead>\n",
              "    <tr style=\"text-align: right;\">\n",
              "      <th></th>\n",
              "      <th>COD_DOCUMENTO</th>\n",
              "      <th>DES_NOME_PREFERIDO</th>\n",
              "      <th>DES_NOMES_ALTERNATIVOS</th>\n",
              "      <th>TXT_EMENTA</th>\n",
              "      <th>COD_CLASSE</th>\n",
              "      <th>DES_CLASSE</th>\n",
              "    </tr>\n",
              "  </thead>\n",
              "  <tbody>\n",
              "    <tr>\n",
              "      <th>0</th>\n",
              "      <td>35345364</td>\n",
              "      <td>Lei nº 14.263 de 22/12/2021</td>\n",
              "      <td>LEI-14263-2021-12-22</td>\n",
              "      <td>Abre ao Orçamento da Seguridade Social da Uniã...</td>\n",
              "      <td>33260515.0</td>\n",
              "      <td>Orçamento Público</td>\n",
              "    </tr>\n",
              "    <tr>\n",
              "      <th>1</th>\n",
              "      <td>26247104</td>\n",
              "      <td>Lei nº 13.486 de 03/10/2017</td>\n",
              "      <td>LEI-13486-2017-10-03</td>\n",
              "      <td>Altera o art. 8º da Lei nº 8.078, de 11 de set...</td>\n",
              "      <td>33808912.0</td>\n",
              "      <td>Política Social</td>\n",
              "    </tr>\n",
              "    <tr>\n",
              "      <th>2</th>\n",
              "      <td>27445746</td>\n",
              "      <td>Lei nº 13.701 de 06/08/2018</td>\n",
              "      <td>LEI-13701-2018-08-06</td>\n",
              "      <td>Cria o cargo de natureza especial de Intervent...</td>\n",
              "      <td>33768972.0</td>\n",
              "      <td>Organização do Estado</td>\n",
              "    </tr>\n",
              "    <tr>\n",
              "      <th>3</th>\n",
              "      <td>36348502</td>\n",
              "      <td>Lei nº 14.447 de 09/09/2022</td>\n",
              "      <td>LEI-14447-2022-09-09</td>\n",
              "      <td>Altera os limites da Floresta Nacional de Bras...</td>\n",
              "      <td>33685789.0</td>\n",
              "      <td>Administração Pública</td>\n",
              "    </tr>\n",
              "    <tr>\n",
              "      <th>4</th>\n",
              "      <td>36348502</td>\n",
              "      <td>Lei nº 14.447 de 09/09/2022</td>\n",
              "      <td>LEI-14447-2022-09-09</td>\n",
              "      <td>Altera os limites da Floresta Nacional de Bras...</td>\n",
              "      <td>33809634.0</td>\n",
              "      <td>Meio Ambiente</td>\n",
              "    </tr>\n",
              "  </tbody>\n",
              "</table>\n",
              "</div>\n",
              "      <button class=\"colab-df-convert\" onclick=\"convertToInteractive('df-2a47bbd8-6ef6-4ca0-8f08-888e8336e577')\"\n",
              "              title=\"Convert this dataframe to an interactive table.\"\n",
              "              style=\"display:none;\">\n",
              "        \n",
              "  <svg xmlns=\"http://www.w3.org/2000/svg\" height=\"24px\"viewBox=\"0 0 24 24\"\n",
              "       width=\"24px\">\n",
              "    <path d=\"M0 0h24v24H0V0z\" fill=\"none\"/>\n",
              "    <path d=\"M18.56 5.44l.94 2.06.94-2.06 2.06-.94-2.06-.94-.94-2.06-.94 2.06-2.06.94zm-11 1L8.5 8.5l.94-2.06 2.06-.94-2.06-.94L8.5 2.5l-.94 2.06-2.06.94zm10 10l.94 2.06.94-2.06 2.06-.94-2.06-.94-.94-2.06-.94 2.06-2.06.94z\"/><path d=\"M17.41 7.96l-1.37-1.37c-.4-.4-.92-.59-1.43-.59-.52 0-1.04.2-1.43.59L10.3 9.45l-7.72 7.72c-.78.78-.78 2.05 0 2.83L4 21.41c.39.39.9.59 1.41.59.51 0 1.02-.2 1.41-.59l7.78-7.78 2.81-2.81c.8-.78.8-2.07 0-2.86zM5.41 20L4 18.59l7.72-7.72 1.47 1.35L5.41 20z\"/>\n",
              "  </svg>\n",
              "      </button>\n",
              "      \n",
              "  <style>\n",
              "    .colab-df-container {\n",
              "      display:flex;\n",
              "      flex-wrap:wrap;\n",
              "      gap: 12px;\n",
              "    }\n",
              "\n",
              "    .colab-df-convert {\n",
              "      background-color: #E8F0FE;\n",
              "      border: none;\n",
              "      border-radius: 50%;\n",
              "      cursor: pointer;\n",
              "      display: none;\n",
              "      fill: #1967D2;\n",
              "      height: 32px;\n",
              "      padding: 0 0 0 0;\n",
              "      width: 32px;\n",
              "    }\n",
              "\n",
              "    .colab-df-convert:hover {\n",
              "      background-color: #E2EBFA;\n",
              "      box-shadow: 0px 1px 2px rgba(60, 64, 67, 0.3), 0px 1px 3px 1px rgba(60, 64, 67, 0.15);\n",
              "      fill: #174EA6;\n",
              "    }\n",
              "\n",
              "    [theme=dark] .colab-df-convert {\n",
              "      background-color: #3B4455;\n",
              "      fill: #D2E3FC;\n",
              "    }\n",
              "\n",
              "    [theme=dark] .colab-df-convert:hover {\n",
              "      background-color: #434B5C;\n",
              "      box-shadow: 0px 1px 3px 1px rgba(0, 0, 0, 0.15);\n",
              "      filter: drop-shadow(0px 1px 2px rgba(0, 0, 0, 0.3));\n",
              "      fill: #FFFFFF;\n",
              "    }\n",
              "  </style>\n",
              "\n",
              "      <script>\n",
              "        const buttonEl =\n",
              "          document.querySelector('#df-2a47bbd8-6ef6-4ca0-8f08-888e8336e577 button.colab-df-convert');\n",
              "        buttonEl.style.display =\n",
              "          google.colab.kernel.accessAllowed ? 'block' : 'none';\n",
              "\n",
              "        async function convertToInteractive(key) {\n",
              "          const element = document.querySelector('#df-2a47bbd8-6ef6-4ca0-8f08-888e8336e577');\n",
              "          const dataTable =\n",
              "            await google.colab.kernel.invokeFunction('convertToInteractive',\n",
              "                                                     [key], {});\n",
              "          if (!dataTable) return;\n",
              "\n",
              "          const docLinkHtml = 'Like what you see? Visit the ' +\n",
              "            '<a target=\"_blank\" href=https://colab.research.google.com/notebooks/data_table.ipynb>data table notebook</a>'\n",
              "            + ' to learn more about interactive tables.';\n",
              "          element.innerHTML = '';\n",
              "          dataTable['output_type'] = 'display_data';\n",
              "          await google.colab.output.renderOutput(dataTable, element);\n",
              "          const docLink = document.createElement('div');\n",
              "          docLink.innerHTML = docLinkHtml;\n",
              "          element.appendChild(docLink);\n",
              "        }\n",
              "      </script>\n",
              "    </div>\n",
              "  </div>\n",
              "  "
            ]
          },
          "metadata": {},
          "execution_count": 29
        }
      ],
      "source": [
        "leis = leis_original.merge(leis_classificadas_original.filter([\"COD_PROCESSO_DOCUMENTO\",\"DES_CLASSE_RAIZ\"]), left_on=\"COD_DOCUMENTO\", right_on=\"COD_PROCESSO_DOCUMENTO\", how=\"left\")\n",
        "leis = leis.merge(classes_raiz, left_on=\"DES_CLASSE_RAIZ\", right_on=\"DES_CLASSE\", how=\"left\")\n",
        "leis.drop(columns=[\"COD_PROCESSO_DOCUMENTO\", \"DES_CLASSE_RAIZ\"], inplace=True)\n",
        "leis.head()"
      ]
    },
    {
      "cell_type": "code",
      "execution_count": 30,
      "metadata": {
        "pycharm": {
          "name": "#%%\n"
        },
        "colab": {
          "base_uri": "https://localhost:8080/"
        },
        "id": "OvJPhgFL-W3_",
        "outputId": "6545313b-3162-46d7-ec9f-ebc7983ccdf3"
      },
      "outputs": [
        {
          "output_type": "execute_result",
          "data": {
            "text/plain": [
              "27743"
            ]
          },
          "metadata": {},
          "execution_count": 30
        }
      ],
      "source": [
        "leis.shape[0]"
      ]
    },
    {
      "cell_type": "markdown",
      "metadata": {
        "collapsed": false,
        "pycharm": {
          "name": "#%% md\n"
        },
        "id": "EMchuNd0-W4A"
      },
      "source": [
        "Limpa os registros duplicados de leis que possuem mais de uma classe folha, mas que tenham mesma classe raiz e exibe as leis que possuem mais de uma classe folha, mas que tenham classes raiz diferentes."
      ]
    },
    {
      "cell_type": "code",
      "execution_count": 31,
      "metadata": {
        "pycharm": {
          "name": "#%%\n"
        },
        "colab": {
          "base_uri": "https://localhost:8080/",
          "height": 424
        },
        "id": "GlSS1zFx-W4C",
        "outputId": "463532dd-0bde-413a-b5e7-284a638da480"
      },
      "outputs": [
        {
          "output_type": "execute_result",
          "data": {
            "text/plain": [
              "       COD_DOCUMENTO  COD_CLASSE                                  DES_CLASSE\n",
              "3           36348502  33685789.0                       Administração Pública\n",
              "4           36348502  33809634.0                               Meio Ambiente\n",
              "5           36348502  33769167.0                  Economia e Desenvolvimento\n",
              "20          36062349  33808912.0                             Política Social\n",
              "21          36062349  33769167.0                  Economia e Desenvolvimento\n",
              "...              ...         ...                                         ...\n",
              "27349       36032872  33808912.0                             Política Social\n",
              "27350       35556312  33685789.0                       Administração Pública\n",
              "27351       35556312  33808912.0                             Política Social\n",
              "27359       35396946  33809514.0  Soberania, Defesa Nacional e Ordem Pública\n",
              "27360       35396946  33769167.0                  Economia e Desenvolvimento\n",
              "\n",
              "[630 rows x 3 columns]"
            ],
            "text/html": [
              "\n",
              "  <div id=\"df-7d73f078-e3f3-4ce0-b63a-ed570a2728c6\">\n",
              "    <div class=\"colab-df-container\">\n",
              "      <div>\n",
              "<style scoped>\n",
              "    .dataframe tbody tr th:only-of-type {\n",
              "        vertical-align: middle;\n",
              "    }\n",
              "\n",
              "    .dataframe tbody tr th {\n",
              "        vertical-align: top;\n",
              "    }\n",
              "\n",
              "    .dataframe thead th {\n",
              "        text-align: right;\n",
              "    }\n",
              "</style>\n",
              "<table border=\"1\" class=\"dataframe\">\n",
              "  <thead>\n",
              "    <tr style=\"text-align: right;\">\n",
              "      <th></th>\n",
              "      <th>COD_DOCUMENTO</th>\n",
              "      <th>COD_CLASSE</th>\n",
              "      <th>DES_CLASSE</th>\n",
              "    </tr>\n",
              "  </thead>\n",
              "  <tbody>\n",
              "    <tr>\n",
              "      <th>3</th>\n",
              "      <td>36348502</td>\n",
              "      <td>33685789.0</td>\n",
              "      <td>Administração Pública</td>\n",
              "    </tr>\n",
              "    <tr>\n",
              "      <th>4</th>\n",
              "      <td>36348502</td>\n",
              "      <td>33809634.0</td>\n",
              "      <td>Meio Ambiente</td>\n",
              "    </tr>\n",
              "    <tr>\n",
              "      <th>5</th>\n",
              "      <td>36348502</td>\n",
              "      <td>33769167.0</td>\n",
              "      <td>Economia e Desenvolvimento</td>\n",
              "    </tr>\n",
              "    <tr>\n",
              "      <th>20</th>\n",
              "      <td>36062349</td>\n",
              "      <td>33808912.0</td>\n",
              "      <td>Política Social</td>\n",
              "    </tr>\n",
              "    <tr>\n",
              "      <th>21</th>\n",
              "      <td>36062349</td>\n",
              "      <td>33769167.0</td>\n",
              "      <td>Economia e Desenvolvimento</td>\n",
              "    </tr>\n",
              "    <tr>\n",
              "      <th>...</th>\n",
              "      <td>...</td>\n",
              "      <td>...</td>\n",
              "      <td>...</td>\n",
              "    </tr>\n",
              "    <tr>\n",
              "      <th>27349</th>\n",
              "      <td>36032872</td>\n",
              "      <td>33808912.0</td>\n",
              "      <td>Política Social</td>\n",
              "    </tr>\n",
              "    <tr>\n",
              "      <th>27350</th>\n",
              "      <td>35556312</td>\n",
              "      <td>33685789.0</td>\n",
              "      <td>Administração Pública</td>\n",
              "    </tr>\n",
              "    <tr>\n",
              "      <th>27351</th>\n",
              "      <td>35556312</td>\n",
              "      <td>33808912.0</td>\n",
              "      <td>Política Social</td>\n",
              "    </tr>\n",
              "    <tr>\n",
              "      <th>27359</th>\n",
              "      <td>35396946</td>\n",
              "      <td>33809514.0</td>\n",
              "      <td>Soberania, Defesa Nacional e Ordem Pública</td>\n",
              "    </tr>\n",
              "    <tr>\n",
              "      <th>27360</th>\n",
              "      <td>35396946</td>\n",
              "      <td>33769167.0</td>\n",
              "      <td>Economia e Desenvolvimento</td>\n",
              "    </tr>\n",
              "  </tbody>\n",
              "</table>\n",
              "<p>630 rows × 3 columns</p>\n",
              "</div>\n",
              "      <button class=\"colab-df-convert\" onclick=\"convertToInteractive('df-7d73f078-e3f3-4ce0-b63a-ed570a2728c6')\"\n",
              "              title=\"Convert this dataframe to an interactive table.\"\n",
              "              style=\"display:none;\">\n",
              "        \n",
              "  <svg xmlns=\"http://www.w3.org/2000/svg\" height=\"24px\"viewBox=\"0 0 24 24\"\n",
              "       width=\"24px\">\n",
              "    <path d=\"M0 0h24v24H0V0z\" fill=\"none\"/>\n",
              "    <path d=\"M18.56 5.44l.94 2.06.94-2.06 2.06-.94-2.06-.94-.94-2.06-.94 2.06-2.06.94zm-11 1L8.5 8.5l.94-2.06 2.06-.94-2.06-.94L8.5 2.5l-.94 2.06-2.06.94zm10 10l.94 2.06.94-2.06 2.06-.94-2.06-.94-.94-2.06-.94 2.06-2.06.94z\"/><path d=\"M17.41 7.96l-1.37-1.37c-.4-.4-.92-.59-1.43-.59-.52 0-1.04.2-1.43.59L10.3 9.45l-7.72 7.72c-.78.78-.78 2.05 0 2.83L4 21.41c.39.39.9.59 1.41.59.51 0 1.02-.2 1.41-.59l7.78-7.78 2.81-2.81c.8-.78.8-2.07 0-2.86zM5.41 20L4 18.59l7.72-7.72 1.47 1.35L5.41 20z\"/>\n",
              "  </svg>\n",
              "      </button>\n",
              "      \n",
              "  <style>\n",
              "    .colab-df-container {\n",
              "      display:flex;\n",
              "      flex-wrap:wrap;\n",
              "      gap: 12px;\n",
              "    }\n",
              "\n",
              "    .colab-df-convert {\n",
              "      background-color: #E8F0FE;\n",
              "      border: none;\n",
              "      border-radius: 50%;\n",
              "      cursor: pointer;\n",
              "      display: none;\n",
              "      fill: #1967D2;\n",
              "      height: 32px;\n",
              "      padding: 0 0 0 0;\n",
              "      width: 32px;\n",
              "    }\n",
              "\n",
              "    .colab-df-convert:hover {\n",
              "      background-color: #E2EBFA;\n",
              "      box-shadow: 0px 1px 2px rgba(60, 64, 67, 0.3), 0px 1px 3px 1px rgba(60, 64, 67, 0.15);\n",
              "      fill: #174EA6;\n",
              "    }\n",
              "\n",
              "    [theme=dark] .colab-df-convert {\n",
              "      background-color: #3B4455;\n",
              "      fill: #D2E3FC;\n",
              "    }\n",
              "\n",
              "    [theme=dark] .colab-df-convert:hover {\n",
              "      background-color: #434B5C;\n",
              "      box-shadow: 0px 1px 3px 1px rgba(0, 0, 0, 0.15);\n",
              "      filter: drop-shadow(0px 1px 2px rgba(0, 0, 0, 0.3));\n",
              "      fill: #FFFFFF;\n",
              "    }\n",
              "  </style>\n",
              "\n",
              "      <script>\n",
              "        const buttonEl =\n",
              "          document.querySelector('#df-7d73f078-e3f3-4ce0-b63a-ed570a2728c6 button.colab-df-convert');\n",
              "        buttonEl.style.display =\n",
              "          google.colab.kernel.accessAllowed ? 'block' : 'none';\n",
              "\n",
              "        async function convertToInteractive(key) {\n",
              "          const element = document.querySelector('#df-7d73f078-e3f3-4ce0-b63a-ed570a2728c6');\n",
              "          const dataTable =\n",
              "            await google.colab.kernel.invokeFunction('convertToInteractive',\n",
              "                                                     [key], {});\n",
              "          if (!dataTable) return;\n",
              "\n",
              "          const docLinkHtml = 'Like what you see? Visit the ' +\n",
              "            '<a target=\"_blank\" href=https://colab.research.google.com/notebooks/data_table.ipynb>data table notebook</a>'\n",
              "            + ' to learn more about interactive tables.';\n",
              "          element.innerHTML = '';\n",
              "          dataTable['output_type'] = 'display_data';\n",
              "          await google.colab.output.renderOutput(dataTable, element);\n",
              "          const docLink = document.createElement('div');\n",
              "          docLink.innerHTML = docLinkHtml;\n",
              "          element.appendChild(docLink);\n",
              "        }\n",
              "      </script>\n",
              "    </div>\n",
              "  </div>\n",
              "  "
            ]
          },
          "metadata": {},
          "execution_count": 31
        }
      ],
      "source": [
        "leis.drop_duplicates(inplace=True)\n",
        "temp = leis[[\"COD_DOCUMENTO\", \"COD_CLASSE\", \"DES_CLASSE\"]].groupby(\"COD_DOCUMENTO\")\n",
        "temp.filter(lambda x: len(x) > 1)"
      ]
    },
    {
      "cell_type": "markdown",
      "metadata": {
        "collapsed": false,
        "pycharm": {
          "name": "#%% md\n"
        },
        "id": "hd7pIQuI-W4E"
      },
      "source": [
        "Tamanho da base tratada de leis."
      ]
    },
    {
      "cell_type": "code",
      "execution_count": 32,
      "metadata": {
        "pycharm": {
          "name": "#%%\n"
        },
        "colab": {
          "base_uri": "https://localhost:8080/"
        },
        "id": "qcgon74c-W4F",
        "outputId": "137abc42-9592-4f77-abf3-db4706bb9f40"
      },
      "outputs": [
        {
          "output_type": "execute_result",
          "data": {
            "text/plain": [
              "27294"
            ]
          },
          "metadata": {},
          "execution_count": 32
        }
      ],
      "source": [
        "leis.shape[0]"
      ]
    },
    {
      "cell_type": "markdown",
      "metadata": {
        "collapsed": false,
        "pycharm": {
          "name": "#%% md\n"
        },
        "id": "sAA3U1Yz-W4G"
      },
      "source": [
        "Total de classificações feitas em leis."
      ]
    },
    {
      "cell_type": "code",
      "execution_count": 33,
      "metadata": {
        "pycharm": {
          "name": "#%%\n"
        },
        "colab": {
          "base_uri": "https://localhost:8080/"
        },
        "id": "qZ7-vaV5-W4H",
        "outputId": "d465bb5e-26d2-4201-fb17-4d8cec9b06c0"
      },
      "outputs": [
        {
          "output_type": "execute_result",
          "data": {
            "text/plain": [
              "17438"
            ]
          },
          "metadata": {},
          "execution_count": 33
        }
      ],
      "source": [
        "leis_classificadas = leis.query(\"not COD_CLASSE.isnull()\", engine=\"python\")\n",
        "quantidade_classificacoes = leis_classificadas.shape[0]\n",
        "quantidade_classificacoes"
      ]
    },
    {
      "cell_type": "markdown",
      "metadata": {
        "collapsed": false,
        "pycharm": {
          "name": "#%% md\n"
        },
        "id": "3TJgvEFW-W4J"
      },
      "source": [
        "Número distinto de leis classificadas."
      ]
    },
    {
      "cell_type": "code",
      "execution_count": 34,
      "metadata": {
        "pycharm": {
          "name": "#%%\n"
        },
        "colab": {
          "base_uri": "https://localhost:8080/"
        },
        "id": "FFfNVkE_-W4L",
        "outputId": "5d115aac-4ca6-4986-bb81-f2e0516d7fbc"
      },
      "outputs": [
        {
          "output_type": "execute_result",
          "data": {
            "text/plain": [
              "17103"
            ]
          },
          "metadata": {},
          "execution_count": 34
        }
      ],
      "source": [
        "len(leis_classificadas[\"COD_DOCUMENTO\"].unique())"
      ]
    },
    {
      "cell_type": "markdown",
      "metadata": {
        "collapsed": false,
        "pycharm": {
          "name": "#%% md\n"
        },
        "id": "fOJyuL06-W4M"
      },
      "source": [
        "Quantidade de leis a classificar."
      ]
    },
    {
      "cell_type": "code",
      "execution_count": 36,
      "metadata": {
        "pycharm": {
          "name": "#%%\n"
        },
        "colab": {
          "base_uri": "https://localhost:8080/"
        },
        "id": "1nZZtKLH-W4N",
        "outputId": "e40d7ccd-8798-48d3-916d-3d56986d7b65"
      },
      "outputs": [
        {
          "output_type": "execute_result",
          "data": {
            "text/plain": [
              "9856"
            ]
          },
          "metadata": {},
          "execution_count": 36
        }
      ],
      "source": [
        "leis_nao_classificadas = leis.query(\"COD_CLASSE.isnull()\", engine=\"python\")\n",
        "leis_nao_classificadas.shape[0]"
      ]
    },
    {
      "cell_type": "markdown",
      "metadata": {
        "collapsed": false,
        "pycharm": {
          "name": "#%% md\n"
        },
        "id": "tFthJkX4-W4N"
      },
      "source": [
        "Verificação da distribuição das classes (em %)."
      ]
    },
    {
      "cell_type": "code",
      "execution_count": 37,
      "metadata": {
        "pycharm": {
          "name": "#%%\n"
        },
        "colab": {
          "base_uri": "https://localhost:8080/",
          "height": 394
        },
        "id": "v-8cKPEg-W4O",
        "outputId": "49ad2b31-7f78-49eb-a428-d27def6c7c0c"
      },
      "outputs": [
        {
          "output_type": "execute_result",
          "data": {
            "text/plain": [
              "                                            COD_CLASSE\n",
              "DES_CLASSE                                            \n",
              "Orçamento Público                            64.181672\n",
              "Infraestrutura                               14.382383\n",
              "Política Social                               5.029246\n",
              "Administração Pública                         4.490194\n",
              "Honorífico                                    3.847918\n",
              "Economia e Desenvolvimento                    3.693084\n",
              "Jurídico                                      2.184884\n",
              "Soberania, Defesa Nacional e Ordem Pública    0.951944\n",
              "Organização do Estado                         0.745498\n",
              "Meio Ambiente                                 0.493176"
            ],
            "text/html": [
              "\n",
              "  <div id=\"df-6d550b34-3a48-4ca4-8c62-e2ead98fd56f\">\n",
              "    <div class=\"colab-df-container\">\n",
              "      <div>\n",
              "<style scoped>\n",
              "    .dataframe tbody tr th:only-of-type {\n",
              "        vertical-align: middle;\n",
              "    }\n",
              "\n",
              "    .dataframe tbody tr th {\n",
              "        vertical-align: top;\n",
              "    }\n",
              "\n",
              "    .dataframe thead th {\n",
              "        text-align: right;\n",
              "    }\n",
              "</style>\n",
              "<table border=\"1\" class=\"dataframe\">\n",
              "  <thead>\n",
              "    <tr style=\"text-align: right;\">\n",
              "      <th></th>\n",
              "      <th>COD_CLASSE</th>\n",
              "    </tr>\n",
              "    <tr>\n",
              "      <th>DES_CLASSE</th>\n",
              "      <th></th>\n",
              "    </tr>\n",
              "  </thead>\n",
              "  <tbody>\n",
              "    <tr>\n",
              "      <th>Orçamento Público</th>\n",
              "      <td>64.181672</td>\n",
              "    </tr>\n",
              "    <tr>\n",
              "      <th>Infraestrutura</th>\n",
              "      <td>14.382383</td>\n",
              "    </tr>\n",
              "    <tr>\n",
              "      <th>Política Social</th>\n",
              "      <td>5.029246</td>\n",
              "    </tr>\n",
              "    <tr>\n",
              "      <th>Administração Pública</th>\n",
              "      <td>4.490194</td>\n",
              "    </tr>\n",
              "    <tr>\n",
              "      <th>Honorífico</th>\n",
              "      <td>3.847918</td>\n",
              "    </tr>\n",
              "    <tr>\n",
              "      <th>Economia e Desenvolvimento</th>\n",
              "      <td>3.693084</td>\n",
              "    </tr>\n",
              "    <tr>\n",
              "      <th>Jurídico</th>\n",
              "      <td>2.184884</td>\n",
              "    </tr>\n",
              "    <tr>\n",
              "      <th>Soberania, Defesa Nacional e Ordem Pública</th>\n",
              "      <td>0.951944</td>\n",
              "    </tr>\n",
              "    <tr>\n",
              "      <th>Organização do Estado</th>\n",
              "      <td>0.745498</td>\n",
              "    </tr>\n",
              "    <tr>\n",
              "      <th>Meio Ambiente</th>\n",
              "      <td>0.493176</td>\n",
              "    </tr>\n",
              "  </tbody>\n",
              "</table>\n",
              "</div>\n",
              "      <button class=\"colab-df-convert\" onclick=\"convertToInteractive('df-6d550b34-3a48-4ca4-8c62-e2ead98fd56f')\"\n",
              "              title=\"Convert this dataframe to an interactive table.\"\n",
              "              style=\"display:none;\">\n",
              "        \n",
              "  <svg xmlns=\"http://www.w3.org/2000/svg\" height=\"24px\"viewBox=\"0 0 24 24\"\n",
              "       width=\"24px\">\n",
              "    <path d=\"M0 0h24v24H0V0z\" fill=\"none\"/>\n",
              "    <path d=\"M18.56 5.44l.94 2.06.94-2.06 2.06-.94-2.06-.94-.94-2.06-.94 2.06-2.06.94zm-11 1L8.5 8.5l.94-2.06 2.06-.94-2.06-.94L8.5 2.5l-.94 2.06-2.06.94zm10 10l.94 2.06.94-2.06 2.06-.94-2.06-.94-.94-2.06-.94 2.06-2.06.94z\"/><path d=\"M17.41 7.96l-1.37-1.37c-.4-.4-.92-.59-1.43-.59-.52 0-1.04.2-1.43.59L10.3 9.45l-7.72 7.72c-.78.78-.78 2.05 0 2.83L4 21.41c.39.39.9.59 1.41.59.51 0 1.02-.2 1.41-.59l7.78-7.78 2.81-2.81c.8-.78.8-2.07 0-2.86zM5.41 20L4 18.59l7.72-7.72 1.47 1.35L5.41 20z\"/>\n",
              "  </svg>\n",
              "      </button>\n",
              "      \n",
              "  <style>\n",
              "    .colab-df-container {\n",
              "      display:flex;\n",
              "      flex-wrap:wrap;\n",
              "      gap: 12px;\n",
              "    }\n",
              "\n",
              "    .colab-df-convert {\n",
              "      background-color: #E8F0FE;\n",
              "      border: none;\n",
              "      border-radius: 50%;\n",
              "      cursor: pointer;\n",
              "      display: none;\n",
              "      fill: #1967D2;\n",
              "      height: 32px;\n",
              "      padding: 0 0 0 0;\n",
              "      width: 32px;\n",
              "    }\n",
              "\n",
              "    .colab-df-convert:hover {\n",
              "      background-color: #E2EBFA;\n",
              "      box-shadow: 0px 1px 2px rgba(60, 64, 67, 0.3), 0px 1px 3px 1px rgba(60, 64, 67, 0.15);\n",
              "      fill: #174EA6;\n",
              "    }\n",
              "\n",
              "    [theme=dark] .colab-df-convert {\n",
              "      background-color: #3B4455;\n",
              "      fill: #D2E3FC;\n",
              "    }\n",
              "\n",
              "    [theme=dark] .colab-df-convert:hover {\n",
              "      background-color: #434B5C;\n",
              "      box-shadow: 0px 1px 3px 1px rgba(0, 0, 0, 0.15);\n",
              "      filter: drop-shadow(0px 1px 2px rgba(0, 0, 0, 0.3));\n",
              "      fill: #FFFFFF;\n",
              "    }\n",
              "  </style>\n",
              "\n",
              "      <script>\n",
              "        const buttonEl =\n",
              "          document.querySelector('#df-6d550b34-3a48-4ca4-8c62-e2ead98fd56f button.colab-df-convert');\n",
              "        buttonEl.style.display =\n",
              "          google.colab.kernel.accessAllowed ? 'block' : 'none';\n",
              "\n",
              "        async function convertToInteractive(key) {\n",
              "          const element = document.querySelector('#df-6d550b34-3a48-4ca4-8c62-e2ead98fd56f');\n",
              "          const dataTable =\n",
              "            await google.colab.kernel.invokeFunction('convertToInteractive',\n",
              "                                                     [key], {});\n",
              "          if (!dataTable) return;\n",
              "\n",
              "          const docLinkHtml = 'Like what you see? Visit the ' +\n",
              "            '<a target=\"_blank\" href=https://colab.research.google.com/notebooks/data_table.ipynb>data table notebook</a>'\n",
              "            + ' to learn more about interactive tables.';\n",
              "          element.innerHTML = '';\n",
              "          dataTable['output_type'] = 'display_data';\n",
              "          await google.colab.output.renderOutput(dataTable, element);\n",
              "          const docLink = document.createElement('div');\n",
              "          docLink.innerHTML = docLinkHtml;\n",
              "          element.appendChild(docLink);\n",
              "        }\n",
              "      </script>\n",
              "    </div>\n",
              "  </div>\n",
              "  "
            ]
          },
          "metadata": {},
          "execution_count": 37
        }
      ],
      "source": [
        "distribuicao_classes = leis_classificadas[[\"COD_CLASSE\", \"DES_CLASSE\"]].groupby(\"DES_CLASSE\").count() / quantidade_classificacoes * 100\n",
        "distribuicao_classes.sort_values(by=\"COD_CLASSE\", ascending=False)"
      ]
    },
    {
      "cell_type": "code",
      "execution_count": 39,
      "metadata": {
        "colab": {
          "base_uri": "https://localhost:8080/"
        },
        "id": "mix3tWg0-W4R",
        "outputId": "1fbf4970-b7ad-447d-8f0c-ba313ec3d1d0"
      },
      "outputs": [
        {
          "output_type": "stream",
          "name": "stdout",
          "text": [
            "4        Altera os limites da Floresta Nacional de Bras...\n",
            "16       Altera as Leis nºs 12.651, de 25 de maio de 20...\n",
            "200      Altera a categoria da unidade de conservação P...\n",
            "366      Altera o art. 25 da Lei nº 9.605, de 12 de fev...\n",
            "375      Altera a Lei nº 6.938, de 31 de agosto de 1981...\n",
            "                               ...                        \n",
            "25622    Dispõe sobre o Plano Nacional de Contingência ...\n",
            "25648    Determina a suspensão da permissão do emprego ...\n",
            "26889    Altera a Lei nº 9.605, de 12 de fevereiro de 1...\n",
            "27122    Altera a Lei nº 11.445, de 5 de janeiro de 200...\n",
            "27352    Altera o Decreto nº 9.888, de 27 de junho de 2...\n",
            "Name: TXT_EMENTA, Length: 86, dtype: object\n"
          ]
        }
      ],
      "source": [
        "leis_classificadas_aumentadas = leis_classificadas.copy()\n",
        "leis_meio_ambiente = leis_classificadas_aumentadas.query(\"DES_CLASSE == 'Meio Ambiente'\")\n",
        "print(leis_meio_ambiente[\"TXT_EMENTA\"])\n"
      ]
    },
    {
      "cell_type": "code",
      "execution_count": 41,
      "metadata": {
        "colab": {
          "base_uri": "https://localhost:8080/"
        },
        "id": "jFGKywIY-W4S",
        "outputId": "bc4ba6b8-34d6-42a4-f4a6-3b5c46c74d70"
      },
      "outputs": [
        {
          "output_type": "stream",
          "name": "stdout",
          "text": [
            "16       Altera as Leis nºs 12.651, de 25 de maio de 20...\n",
            "366      Altera o art. 25 da Lei nº 9.605, de 12 de fev...\n",
            "375      Altera a Lei nº 6.938, de 31 de agosto de 1981...\n",
            "2160     Altera a Lei nº 12.651, de 25 de maio de 2012,...\n",
            "4441     Altera o art. 2º da Lei nº 9.433, de 8 de jane...\n",
            "5323     Altera a Lei nº 8.001, de 13 de março de 1990,...\n",
            "7538     Altera o Decreto nº 6.514, de 22 de julho de 2...\n",
            "9621     Altera as Leis nºs 11.516, de 28 de agosto de ...\n",
            "10068    Altera o Decreto nº 8.772, de 11 de maio de 20...\n",
            "10597    Altera a Lei nº 11.445, de 5 de janeiro de 200...\n",
            "12160    Altera a Lei nº 9.795, de 27 de abril de 1999,...\n",
            "13005    Altera a Lei nº 12.651, de 25 de maio de 2012,...\n",
            "13384    Altera a Lei nº 6.938, de 31 de agosto de 1981...\n",
            "16874    Altera a Lei nº 12.651, de 25 de maio de 2012,...\n",
            "18506    Altera a Lei nº 11.445, de 5 de janeiro de 200...\n",
            "24278    Altera a Lei nº 12.651, de 25 de maio de 2012,...\n",
            "24779    Altera o Decreto nº 9.829, de 10 de junho de 2...\n",
            "26889    Altera a Lei nº 9.605, de 12 de fevereiro de 1...\n",
            "27122    Altera a Lei nº 11.445, de 5 de janeiro de 200...\n",
            "27352    Altera o Decreto nº 9.888, de 27 de junho de 2...\n",
            "Name: TXT_EMENTA, dtype: object\n"
          ]
        },
        {
          "output_type": "execute_result",
          "data": {
            "text/plain": [
              "20"
            ]
          },
          "metadata": {},
          "execution_count": 41
        }
      ],
      "source": [
        "leis_meio_ambiente_altera_lei = leis_meio_ambiente.query('TXT_EMENTA.str.contains(\"Altera a Lei\") or TXT_EMENTA.str.contains(\"Altera as Leis\") or TXT_EMENTA.str.contains(\"Altera o Decreto\") or TXT_EMENTA.str.contains(\"Altera o art.\")', engine=\"python\")\n",
        "print(leis_meio_ambiente_altera_lei[\"TXT_EMENTA\"])\n",
        "leis_meio_ambiente_altera_lei.shape[0]"
      ]
    },
    {
      "cell_type": "code",
      "execution_count": 42,
      "metadata": {
        "id": "GbmWX6Yh-W4T"
      },
      "outputs": [],
      "source": [
        "import re\n",
        "def cleanAlteraALei(ementa):\n",
        "    if re.search('', ementa):\n",
        " # Extract the position of beginning of pattern\n",
        "        pos = re.search('\\(.*', ementa).start()\n",
        "  \n",
        "        # return the cleaned name\n",
        "        return ementa[:pos]\n",
        "  \n",
        "    else:\n",
        "        # if clean up needed return the same name\n",
        "        return ementa  "
      ]
    },
    {
      "cell_type": "markdown",
      "metadata": {
        "collapsed": false,
        "pycharm": {
          "name": "#%% md\n"
        },
        "id": "2voJtyZt-W4V"
      },
      "source": [
        "## 2 - Estruturação do texto\n",
        "***"
      ]
    },
    {
      "cell_type": "markdown",
      "metadata": {
        "collapsed": false,
        "pycharm": {
          "name": "#%% md\n"
        },
        "id": "nQ5oqomB-W4V"
      },
      "source": [
        "Separação em datasets de treino e teste."
      ]
    },
    {
      "cell_type": "code",
      "execution_count": 62,
      "metadata": {
        "pycharm": {
          "name": "#%%\n"
        },
        "id": "rZqJEk5E-W4W"
      },
      "outputs": [],
      "source": [
        "from sklearn import preprocessing\n",
        "le = preprocessing.LabelEncoder()\n",
        "le.fit(leis_classificadas[\"DES_CLASSE\"])\n",
        "\n",
        "X = leis_classificadas.drop(columns=[\"COD_CLASSE\", \"DES_CLASSE\"])\n",
        "y = le.transform(leis_classificadas[\"DES_CLASSE\"])\n",
        "\n",
        "\n",
        "X_treino, X_teste, y_treino, y_teste = train_test_split(X, y, test_size=0.3, stratify=y, random_state=42)"
      ]
    },
    {
      "cell_type": "markdown",
      "metadata": {
        "id": "cULynAlt-W4P"
      },
      "source": [
        "# Desbalanceamento\n",
        "\n",
        "É possível verificar que há um desbalanceamento grande entre as classes, o que prejudica o processo de aprendizado. Vamos tentar atacá-lo utilizando a técnica SMOTE:"
      ]
    },
    {
      "cell_type": "code",
      "source": [
        "from sklearn.feature_extraction.text import TfidfVectorizer\n",
        "from nltk.corpus import stopwords\n",
        "vectorizer = TfidfVectorizer(stop_words=stopwords.words('portuguese'), ngram_range = (1,2))\n",
        "vectorizer.fit(X_treino['TXT_EMENTA'])\n",
        "X_tfidf_treino = vectorizer.transform(X_treino['TXT_EMENTA'])\n",
        "X_tfidf_teste = vectorizer.transform(X_teste['TXT_EMENTA'])\n",
        "print(X_tfidf_treino.shape)"
      ],
      "metadata": {
        "id": "8GglY4RFKjoL",
        "outputId": "0d7d9ed3-17a5-4621-d1fa-aa4c2d419ef5",
        "colab": {
          "base_uri": "https://localhost:8080/"
        }
      },
      "execution_count": 83,
      "outputs": [
        {
          "output_type": "stream",
          "name": "stdout",
          "text": [
            "(12206, 57993)\n"
          ]
        }
      ]
    },
    {
      "cell_type": "code",
      "execution_count": 84,
      "metadata": {
        "colab": {
          "base_uri": "https://localhost:8080/"
        },
        "id": "ZMg8unJK-W4Q",
        "outputId": "3894bcf9-9064-4153-8550-0ecd4a0e8fb6"
      },
      "outputs": [
        {
          "output_type": "stream",
          "name": "stdout",
          "text": [
            "Classe=Orçamento Público, 7, n=7834 (10.000%)\n",
            "Classe=Política Social, 8, n=7834 (10.000%)\n",
            "Classe=Infraestrutura, 3, n=7834 (10.000%)\n",
            "Classe=Economia e Desenvolvimento, 1, n=7834 (10.000%)\n",
            "Classe=Honorífico, 2, n=7834 (10.000%)\n",
            "Classe=Administração Pública, 0, n=7834 (10.000%)\n",
            "Classe=Meio Ambiente, 5, n=7834 (10.000%)\n",
            "Classe=Soberania, Defesa Nacional e Ordem Pública, 9, n=7834 (10.000%)\n",
            "Classe=Jurídico, 4, n=7834 (10.000%)\n",
            "Classe=Organização do Estado, 6, n=7834 (10.000%)\n"
          ]
        }
      ],
      "source": [
        "from imblearn.over_sampling import SMOTE\n",
        "from sklearn.preprocessing import LabelEncoder\n",
        "from numpy import where\n",
        "\n",
        "\n",
        "def printClasses(classes):\n",
        "\tcounter = Counter(classes)\n",
        "\tfor k,v in counter.items():\n",
        "\t\tper = v / len(classes) * 100\n",
        "\t\tprint('Classe=%s, %s, n=%d (%.3f%%)' % (le.inverse_transform([k])[0], k, v, per))\n",
        "\n",
        "oversample = SMOTE()\n",
        "X_smote_treino, y_smote_treino = oversample.fit_resample(X_tfidf_treino, y_treino)\n",
        "printClasses(y_smote_treino)\n"
      ]
    },
    {
      "cell_type": "code",
      "execution_count": 85,
      "metadata": {
        "colab": {
          "base_uri": "https://localhost:8080/"
        },
        "id": "HydtJ5iQ-W4X",
        "outputId": "5de5f16d-bc62-4a20-a632-75c4ff0d1e23"
      },
      "outputs": [
        {
          "output_type": "execute_result",
          "data": {
            "text/plain": [
              "(78340, 57993)"
            ]
          },
          "metadata": {},
          "execution_count": 85
        }
      ],
      "source": [
        "X_smote_treino.shape\n",
        "\n"
      ]
    },
    {
      "cell_type": "code",
      "source": [
        "lr = LogisticRegression(max_iter=3000)\n",
        "lr.fit(X_smote_treino, y_smote_treino)\n",
        "classe_prevista_lr = lr.predict(X_tfidf_teste)"
      ],
      "metadata": {
        "id": "z8Db_10hQQPa"
      },
      "execution_count": 86,
      "outputs": []
    },
    {
      "cell_type": "code",
      "source": [
        "acuracia_lr = metrics.accuracy_score(y_teste, classe_prevista_lr)\n",
        "print(\"Acurácia LinearRegressor:\",  round(acuracia_lr, 2))\n",
        "\n",
        "cr_lr = classification_report(y_teste, classe_prevista_lr)\n",
        "\n",
        "print(cr_lr)"
      ],
      "metadata": {
        "id": "qFvIURd0VP_d",
        "outputId": "082ea2ad-3eb9-4448-87cf-0f17d26db710",
        "colab": {
          "base_uri": "https://localhost:8080/"
        }
      },
      "execution_count": 87,
      "outputs": [
        {
          "output_type": "stream",
          "name": "stdout",
          "text": [
            "Acurácia LinearRegressor: 0.92\n",
            "              precision    recall  f1-score   support\n",
            "\n",
            "           0       0.63      0.66      0.65       235\n",
            "           1       0.53      0.61      0.57       193\n",
            "           2       0.93      0.96      0.94       201\n",
            "           3       0.98      0.95      0.96       753\n",
            "           4       0.58      0.62      0.60       114\n",
            "           5       0.47      0.31      0.37        26\n",
            "           6       0.31      0.28      0.30        39\n",
            "           7       1.00      0.99      0.99      3358\n",
            "           8       0.64      0.68      0.66       263\n",
            "           9       0.48      0.42      0.45        50\n",
            "\n",
            "    accuracy                           0.92      5232\n",
            "   macro avg       0.66      0.65      0.65      5232\n",
            "weighted avg       0.92      0.92      0.92      5232\n",
            "\n"
          ]
        }
      ]
    },
    {
      "cell_type": "code",
      "source": [
        "from sklearn.ensemble import RandomForestClassifier\n",
        "from sklearn.datasets import make_classification\n",
        "rf = RandomForestClassifier(max_depth=50, n_estimators=100, random_state=0, n_jobs=10)\n",
        "rf.fit(X_smote_treino, y_smote_treino)\n",
        "classe_prevista_rf = rf.predict(X_tfidf_teste)\n",
        "\n"
      ],
      "metadata": {
        "id": "itT-CzUOZEOk"
      },
      "execution_count": 95,
      "outputs": []
    },
    {
      "cell_type": "code",
      "source": [
        "acuracia_rf = metrics.accuracy_score(y_teste, classe_prevista_rf)\n",
        "print(\"Acurácia RandomForest:\",  round(acuracia_rf, 2))\n",
        "\n",
        "cr_rf = classification_report(y_teste, classe_prevista_rf)\n",
        "\n",
        "print(cr_rf)"
      ],
      "metadata": {
        "id": "SrVbzZy3Zume",
        "outputId": "d0c0b388-ec40-4c61-ad46-c9a01ee96120",
        "colab": {
          "base_uri": "https://localhost:8080/"
        }
      },
      "execution_count": 96,
      "outputs": [
        {
          "output_type": "stream",
          "name": "stdout",
          "text": [
            "Acurácia RandomForest: 0.89\n",
            "              precision    recall  f1-score   support\n",
            "\n",
            "           0       0.68      0.57      0.62       235\n",
            "           1       0.61      0.40      0.49       193\n",
            "           2       0.60      0.96      0.74       201\n",
            "           3       0.99      0.94      0.96       753\n",
            "           4       0.56      0.47      0.51       114\n",
            "           5       0.45      0.19      0.27        26\n",
            "           6       0.40      0.21      0.27        39\n",
            "           7       1.00      0.98      0.99      3358\n",
            "           8       0.41      0.63      0.50       263\n",
            "           9       0.54      0.28      0.37        50\n",
            "\n",
            "    accuracy                           0.89      5232\n",
            "   macro avg       0.62      0.56      0.57      5232\n",
            "weighted avg       0.90      0.89      0.89      5232\n",
            "\n"
          ]
        }
      ]
    },
    {
      "cell_type": "code",
      "source": [
        "import numpy as np\n",
        "from sklearn.pipeline import make_pipeline\n",
        "from sklearn.preprocessing import StandardScaler\n",
        "from sklearn.svm import SVC\n",
        "svc = SVC(gamma='auto')\n",
        "svc.fit(X_smote_treino, y_smote_treino)\n",
        "classe_prevista_svc = svc.predict(y_teste)"
      ],
      "metadata": {
        "id": "DEJbd0QHbpX-"
      },
      "execution_count": null,
      "outputs": []
    },
    {
      "cell_type": "code",
      "source": [
        "acuracia_svc = metrics.accuracy_score(y_teste, classe_prevista_svc)\n",
        "print(\"Acurácia SVC:\",  round(acuracia_svc, 2))\n",
        "\n",
        "cr_svc = classification_report(y_teste, classe_prevista_svc)\n",
        "\n",
        "print(cr_svc)"
      ],
      "metadata": {
        "id": "mEijWsaXbrCc"
      },
      "execution_count": null,
      "outputs": []
    },
    {
      "cell_type": "code",
      "source": [
        "from sklearn.neural_network import MLPClassifier\n",
        "from sklearn.datasets import make_classification\n",
        "from sklearn.model_selection import train_test_split\n",
        "mlp = MLPClassifier(random_state=1, max_iter=300).fit(X_smote_treino, y_smote_treino)\n",
        "classe_prevista_mlp = mlp.predict(X_teste)\n"
      ],
      "metadata": {
        "id": "SXQjt2sJejXx"
      },
      "execution_count": null,
      "outputs": []
    },
    {
      "cell_type": "code",
      "source": [
        "acuracia_mlp = metrics.accuracy_score(y_teste, classe_prevista_mlp)\n",
        "print(\"Acurácia MLP:\",  round(acuracia_mlp, 2))\n",
        "\n",
        "cr_mlp = classification_report(y_teste, classe_prevista_mlp)\n",
        "\n",
        "print(cr_mlp)"
      ],
      "metadata": {
        "id": "7DMFn2puejvm"
      },
      "execution_count": null,
      "outputs": []
    },
    {
      "cell_type": "code",
      "source": [
        "X_teste['Previsto_lr'] = classe_prevista_lr"
      ],
      "metadata": {
        "id": "ODYgz1zodeX4"
      },
      "execution_count": null,
      "outputs": []
    },
    {
      "cell_type": "markdown",
      "source": [
        "Classe=Administração Pública, 0, n=7834 (10.000%)\n",
        "\n",
        "Classe=Economia e Desenvolvimento, 1, n=7834 (10.000%)\n",
        "\n",
        "Classe=Honorífico, 2, n=7834 (10.000%)\n",
        "\n",
        "Classe=Infraestrutura, 3, n=7834 (10.000%)\n",
        "\n",
        "Classe=Jurídico, 4, n=7834 (10.000%)\n",
        "\n",
        "Classe=Meio Ambiente, 5, n=7834 (10.000%)\n",
        "\n",
        "Classe=Organização do Estado, 6, n=7834 (10.000%)\n",
        "\n",
        "Classe=Orçamento Público, 7, n=7834 (10.000%)\n",
        "\n",
        "Classe=Política Social, 8, n=7834 (10.000%)\n",
        "\n",
        "Classe=Soberania, Defesa Nacional e Ordem Pública, 9, n=7834 (10.000%)\n",
        "\n",
        "Fim\n",
        "Acurácia DummyClassifier: 0.64\n",
        "Acurácia LinearRegressor: 0.9\n",
        "                                            precision    recall  f1-score   support\n",
        "\n",
        "                     Administração Pública       0.60      0.57      0.59       235\n",
        "                Economia e Desenvolvimento       0.57      0.53      0.55       193\n",
        "                                Honorífico       0.94      0.90      0.92       201\n",
        "                            Infraestrutura       0.94      0.97      0.95       753\n",
        "                                  Jurídico       0.50      0.47      0.48       114\n",
        "                             Meio Ambiente       0.45      0.38      0.42        26\n",
        "                     Organização do Estado       0.20      0.21      0.20        39\n",
        "                         Orçamento Público       0.99      0.99      0.99      3358\n",
        "                           Política Social       0.62      0.62      0.62       263\n",
        "Soberania, Defesa Nacional e Ordem Pública       0.29      0.30      0.29        50\n",
        "\n",
        "                                  accuracy                           0.90      5232\n",
        "                                 macro avg       0.61      0.59      0.60      5232\n",
        "                              weighted avg       0.90      0.90      0.90      5232"
      ],
      "metadata": {
        "id": "XnHnHyDQVSca"
      }
    },
    {
      "cell_type": "markdown",
      "metadata": {
        "collapsed": false,
        "pycharm": {
          "name": "#%% md\n"
        },
        "id": "3pYKybB4-W4X"
      },
      "source": [
        "Definição das funções para a tarefa de criação das matrizes de documentos (texto da ementa)"
      ]
    },
    {
      "cell_type": "code",
      "execution_count": 44,
      "metadata": {
        "pycharm": {
          "name": "#%%\n"
        },
        "id": "_rq8YCVE-W4Y"
      },
      "outputs": [],
      "source": [
        "# Divide um texto em tokens utilizando a biblioteca de NLP nltk\n",
        "def tokenizador(texto):\n",
        "    texto = texto.lower()\n",
        "    lista_alfanumerica = []\n",
        "\n",
        "    for token_valido in nltk.word_tokenize(texto, language=\"portuguese\"):\n",
        "        # Se for caracter de pontuação ou for stopword\n",
        "        if token_valido in string.punctuation:\n",
        "            continue\n",
        "        # elif token_valido in nltk.corpus.stopwords.words('portuguese'):\n",
        "        #     continue\n",
        "\n",
        "        lista_alfanumerica.append(token_valido)\n",
        "\n",
        "    return lista_alfanumerica"
      ]
    },
    {
      "cell_type": "code",
      "execution_count": 45,
      "metadata": {
        "pycharm": {
          "name": "#%%\n"
        },
        "id": "naRIO4sU-W4Y"
      },
      "outputs": [],
      "source": [
        "# Combinação de vetores por soma\n",
        "def combinacao_vetores(palavras_numeros, vocabulario):\n",
        "    vetor_resultante = np.zeros(300)\n",
        "\n",
        "    for pn in palavras_numeros:\n",
        "        try:\n",
        "            vetor_resultante += vocabulario.get_vector(pn)\n",
        "        except KeyError:\n",
        "            if pn.isnumeric():\n",
        "                pn = \"0\" * len(pn) # \"0, 00, 000, 0000, etc. dependendo do tamanho de caracteres do número\n",
        "                vetor_resultante += vocabulario.get_vector(pn)\n",
        "            else:\n",
        "                vetor_resultante += vocabulario.get_vector(\"unknown\")\n",
        "\n",
        "    return vetor_resultante"
      ]
    },
    {
      "cell_type": "code",
      "execution_count": 46,
      "metadata": {
        "pycharm": {
          "name": "#%%\n"
        },
        "id": "OyPuTd3o-W4Z"
      },
      "outputs": [],
      "source": [
        "def matriz_vetores(textos, vocabulario):\n",
        "    x = len(textos)\n",
        "    y = 300 # número de dimensões do vocabulário skip300\n",
        "    matriz = np.zeros((x, y))\n",
        "\n",
        "    for i in range(x):\n",
        "        palavras_numeros = tokenizador(textos.iloc[i])\n",
        "        matriz[i] = combinacao_vetores(palavras_numeros, vocabulario)\n",
        "\n",
        "    return matriz"
      ]
    },
    {
      "cell_type": "markdown",
      "metadata": {
        "collapsed": false,
        "pycharm": {
          "name": "#%% md\n"
        },
        "id": "0NBTsjjt-W4a"
      },
      "source": [
        "Carrega o vocabulário Word Embeddings (Word2Vec - Skipgram) pré-treinado pelo NILC (Núcleo Interinstitucional de Linguística Computacional)."
      ]
    },
    {
      "cell_type": "code",
      "execution_count": 47,
      "metadata": {
        "pycharm": {
          "name": "#%%\n"
        },
        "colab": {
          "base_uri": "https://localhost:8080/",
          "height": 329
        },
        "id": "ky13wnKz-W4a",
        "outputId": "d0508fbe-d441-47d4-a045-8fb3ec4d4a40"
      },
      "outputs": [
        {
          "output_type": "error",
          "ename": "FileNotFoundError",
          "evalue": "ignored",
          "traceback": [
            "\u001b[0;31m---------------------------------------------------------------------------\u001b[0m",
            "\u001b[0;31mFileNotFoundError\u001b[0m                         Traceback (most recent call last)",
            "\u001b[0;32m<ipython-input-47-bfe9331c4222>\u001b[0m in \u001b[0;36m<module>\u001b[0;34m\u001b[0m\n\u001b[1;32m      1\u001b[0m \u001b[0;31m# Carrega vocabulário Skipgram\u001b[0m\u001b[0;34m\u001b[0m\u001b[0;34m\u001b[0m\u001b[0;34m\u001b[0m\u001b[0m\n\u001b[0;32m----> 2\u001b[0;31m \u001b[0mvocabulario_skipgram\u001b[0m \u001b[0;34m=\u001b[0m \u001b[0mKeyedVectors\u001b[0m\u001b[0;34m.\u001b[0m\u001b[0mload_word2vec_format\u001b[0m\u001b[0;34m(\u001b[0m\u001b[0;34m\"dados/skip_s300.txt\"\u001b[0m\u001b[0;34m)\u001b[0m\u001b[0;34m\u001b[0m\u001b[0;34m\u001b[0m\u001b[0m\n\u001b[0m",
            "\u001b[0;32m/usr/local/lib/python3.7/dist-packages/gensim/models/keyedvectors.py\u001b[0m in \u001b[0;36mload_word2vec_format\u001b[0;34m(cls, fname, fvocab, binary, encoding, unicode_errors, limit, datatype)\u001b[0m\n\u001b[1;32m   1436\u001b[0m         return _load_word2vec_format(\n\u001b[1;32m   1437\u001b[0m             \u001b[0mcls\u001b[0m\u001b[0;34m,\u001b[0m \u001b[0mfname\u001b[0m\u001b[0;34m,\u001b[0m \u001b[0mfvocab\u001b[0m\u001b[0;34m=\u001b[0m\u001b[0mfvocab\u001b[0m\u001b[0;34m,\u001b[0m \u001b[0mbinary\u001b[0m\u001b[0;34m=\u001b[0m\u001b[0mbinary\u001b[0m\u001b[0;34m,\u001b[0m \u001b[0mencoding\u001b[0m\u001b[0;34m=\u001b[0m\u001b[0mencoding\u001b[0m\u001b[0;34m,\u001b[0m \u001b[0municode_errors\u001b[0m\u001b[0;34m=\u001b[0m\u001b[0municode_errors\u001b[0m\u001b[0;34m,\u001b[0m\u001b[0;34m\u001b[0m\u001b[0;34m\u001b[0m\u001b[0m\n\u001b[0;32m-> 1438\u001b[0;31m             limit=limit, datatype=datatype)\n\u001b[0m\u001b[1;32m   1439\u001b[0m \u001b[0;34m\u001b[0m\u001b[0m\n\u001b[1;32m   1440\u001b[0m     \u001b[0;32mdef\u001b[0m \u001b[0mget_keras_embedding\u001b[0m\u001b[0;34m(\u001b[0m\u001b[0mself\u001b[0m\u001b[0;34m,\u001b[0m \u001b[0mtrain_embeddings\u001b[0m\u001b[0;34m=\u001b[0m\u001b[0;32mFalse\u001b[0m\u001b[0;34m)\u001b[0m\u001b[0;34m:\u001b[0m\u001b[0;34m\u001b[0m\u001b[0;34m\u001b[0m\u001b[0m\n",
            "\u001b[0;32m/usr/local/lib/python3.7/dist-packages/gensim/models/utils_any2vec.py\u001b[0m in \u001b[0;36m_load_word2vec_format\u001b[0;34m(cls, fname, fvocab, binary, encoding, unicode_errors, limit, datatype)\u001b[0m\n\u001b[1;32m    169\u001b[0m \u001b[0;34m\u001b[0m\u001b[0m\n\u001b[1;32m    170\u001b[0m     \u001b[0mlogger\u001b[0m\u001b[0;34m.\u001b[0m\u001b[0minfo\u001b[0m\u001b[0;34m(\u001b[0m\u001b[0;34m\"loading projection weights from %s\"\u001b[0m\u001b[0;34m,\u001b[0m \u001b[0mfname\u001b[0m\u001b[0;34m)\u001b[0m\u001b[0;34m\u001b[0m\u001b[0;34m\u001b[0m\u001b[0m\n\u001b[0;32m--> 171\u001b[0;31m     \u001b[0;32mwith\u001b[0m \u001b[0mutils\u001b[0m\u001b[0;34m.\u001b[0m\u001b[0msmart_open\u001b[0m\u001b[0;34m(\u001b[0m\u001b[0mfname\u001b[0m\u001b[0;34m)\u001b[0m \u001b[0;32mas\u001b[0m \u001b[0mfin\u001b[0m\u001b[0;34m:\u001b[0m\u001b[0;34m\u001b[0m\u001b[0;34m\u001b[0m\u001b[0m\n\u001b[0m\u001b[1;32m    172\u001b[0m         \u001b[0mheader\u001b[0m \u001b[0;34m=\u001b[0m \u001b[0mutils\u001b[0m\u001b[0;34m.\u001b[0m\u001b[0mto_unicode\u001b[0m\u001b[0;34m(\u001b[0m\u001b[0mfin\u001b[0m\u001b[0;34m.\u001b[0m\u001b[0mreadline\u001b[0m\u001b[0;34m(\u001b[0m\u001b[0;34m)\u001b[0m\u001b[0;34m,\u001b[0m \u001b[0mencoding\u001b[0m\u001b[0;34m=\u001b[0m\u001b[0mencoding\u001b[0m\u001b[0;34m)\u001b[0m\u001b[0;34m\u001b[0m\u001b[0;34m\u001b[0m\u001b[0m\n\u001b[1;32m    173\u001b[0m         \u001b[0mvocab_size\u001b[0m\u001b[0;34m,\u001b[0m \u001b[0mvector_size\u001b[0m \u001b[0;34m=\u001b[0m \u001b[0;34m(\u001b[0m\u001b[0mint\u001b[0m\u001b[0;34m(\u001b[0m\u001b[0mx\u001b[0m\u001b[0;34m)\u001b[0m \u001b[0;32mfor\u001b[0m \u001b[0mx\u001b[0m \u001b[0;32min\u001b[0m \u001b[0mheader\u001b[0m\u001b[0;34m.\u001b[0m\u001b[0msplit\u001b[0m\u001b[0;34m(\u001b[0m\u001b[0;34m)\u001b[0m\u001b[0;34m)\u001b[0m  \u001b[0;31m# throws for invalid file format\u001b[0m\u001b[0;34m\u001b[0m\u001b[0;34m\u001b[0m\u001b[0m\n",
            "\u001b[0;32m/usr/local/lib/python3.7/dist-packages/smart_open/smart_open_lib.py\u001b[0m in \u001b[0;36msmart_open\u001b[0;34m(***failed resolving arguments***)\u001b[0m\n\u001b[1;32m    496\u001b[0m     \u001b[0mignore_ext\u001b[0m \u001b[0;34m=\u001b[0m \u001b[0mignore_extension\u001b[0m\u001b[0;34m\u001b[0m\u001b[0;34m\u001b[0m\u001b[0m\n\u001b[1;32m    497\u001b[0m     \u001b[0;32mdel\u001b[0m \u001b[0mkwargs\u001b[0m\u001b[0;34m,\u001b[0m \u001b[0murl\u001b[0m\u001b[0;34m,\u001b[0m \u001b[0mmessage\u001b[0m\u001b[0;34m,\u001b[0m \u001b[0mignore_extension\u001b[0m\u001b[0;34m\u001b[0m\u001b[0;34m\u001b[0m\u001b[0m\n\u001b[0;32m--> 498\u001b[0;31m     \u001b[0;32mreturn\u001b[0m \u001b[0mopen\u001b[0m\u001b[0;34m(\u001b[0m\u001b[0;34m**\u001b[0m\u001b[0mlocals\u001b[0m\u001b[0;34m(\u001b[0m\u001b[0;34m)\u001b[0m\u001b[0;34m)\u001b[0m\u001b[0;34m\u001b[0m\u001b[0;34m\u001b[0m\u001b[0m\n\u001b[0m\u001b[1;32m    499\u001b[0m \u001b[0;34m\u001b[0m\u001b[0m\n\u001b[1;32m    500\u001b[0m \u001b[0;34m\u001b[0m\u001b[0m\n",
            "\u001b[0;32m/usr/local/lib/python3.7/dist-packages/smart_open/smart_open_lib.py\u001b[0m in \u001b[0;36mopen\u001b[0;34m(uri, mode, buffering, encoding, errors, newline, closefd, opener, ignore_ext, compression, transport_params)\u001b[0m\n\u001b[1;32m    193\u001b[0m         \u001b[0mencoding\u001b[0m\u001b[0;34m=\u001b[0m\u001b[0mencoding\u001b[0m\u001b[0;34m,\u001b[0m\u001b[0;34m\u001b[0m\u001b[0;34m\u001b[0m\u001b[0m\n\u001b[1;32m    194\u001b[0m         \u001b[0merrors\u001b[0m\u001b[0;34m=\u001b[0m\u001b[0merrors\u001b[0m\u001b[0;34m,\u001b[0m\u001b[0;34m\u001b[0m\u001b[0;34m\u001b[0m\u001b[0m\n\u001b[0;32m--> 195\u001b[0;31m         \u001b[0mnewline\u001b[0m\u001b[0;34m=\u001b[0m\u001b[0mnewline\u001b[0m\u001b[0;34m,\u001b[0m\u001b[0;34m\u001b[0m\u001b[0;34m\u001b[0m\u001b[0m\n\u001b[0m\u001b[1;32m    196\u001b[0m     )\n\u001b[1;32m    197\u001b[0m     \u001b[0;32mif\u001b[0m \u001b[0mfobj\u001b[0m \u001b[0;32mis\u001b[0m \u001b[0;32mnot\u001b[0m \u001b[0;32mNone\u001b[0m\u001b[0;34m:\u001b[0m\u001b[0;34m\u001b[0m\u001b[0;34m\u001b[0m\u001b[0m\n",
            "\u001b[0;32m/usr/local/lib/python3.7/dist-packages/smart_open/smart_open_lib.py\u001b[0m in \u001b[0;36m_shortcut_open\u001b[0;34m(uri, mode, compression, buffering, encoding, errors, newline)\u001b[0m\n\u001b[1;32m    359\u001b[0m         \u001b[0mopen_kwargs\u001b[0m\u001b[0;34m[\u001b[0m\u001b[0;34m'errors'\u001b[0m\u001b[0;34m]\u001b[0m \u001b[0;34m=\u001b[0m \u001b[0merrors\u001b[0m\u001b[0;34m\u001b[0m\u001b[0;34m\u001b[0m\u001b[0m\n\u001b[1;32m    360\u001b[0m \u001b[0;34m\u001b[0m\u001b[0m\n\u001b[0;32m--> 361\u001b[0;31m     \u001b[0;32mreturn\u001b[0m \u001b[0m_builtin_open\u001b[0m\u001b[0;34m(\u001b[0m\u001b[0mlocal_path\u001b[0m\u001b[0;34m,\u001b[0m \u001b[0mmode\u001b[0m\u001b[0;34m,\u001b[0m \u001b[0mbuffering\u001b[0m\u001b[0;34m=\u001b[0m\u001b[0mbuffering\u001b[0m\u001b[0;34m,\u001b[0m \u001b[0;34m**\u001b[0m\u001b[0mopen_kwargs\u001b[0m\u001b[0;34m)\u001b[0m\u001b[0;34m\u001b[0m\u001b[0;34m\u001b[0m\u001b[0m\n\u001b[0m\u001b[1;32m    362\u001b[0m \u001b[0;34m\u001b[0m\u001b[0m\n\u001b[1;32m    363\u001b[0m \u001b[0;34m\u001b[0m\u001b[0m\n",
            "\u001b[0;31mFileNotFoundError\u001b[0m: [Errno 2] No such file or directory: 'dados/skip_s300.txt'"
          ]
        }
      ],
      "source": [
        "# Carrega vocabulário Skipgram\n",
        "vocabulario_skipgram = KeyedVectors.load_word2vec_format(\"dados/skip_s300.txt\")"
      ]
    },
    {
      "cell_type": "markdown",
      "metadata": {
        "collapsed": false,
        "pycharm": {
          "name": "#%% md\n"
        },
        "id": "zlbasAZO-W4b"
      },
      "source": [
        "Criação da matriz de documentos do corpus (conjunto de ementas), aqui representada por matrizes por vetores (cada ementa é vetorizada assim como o vocabulário)."
      ]
    },
    {
      "cell_type": "code",
      "execution_count": 48,
      "metadata": {
        "pycharm": {
          "name": "#%%\n"
        },
        "colab": {
          "base_uri": "https://localhost:8080/",
          "height": 184
        },
        "id": "sqAlswE1-W4b",
        "outputId": "b5bafb1c-c1cd-4268-fb92-15477c35fccb"
      },
      "outputs": [
        {
          "output_type": "error",
          "ename": "NameError",
          "evalue": "ignored",
          "traceback": [
            "\u001b[0;31m---------------------------------------------------------------------------\u001b[0m",
            "\u001b[0;31mNameError\u001b[0m                                 Traceback (most recent call last)",
            "\u001b[0;32m<ipython-input-48-a7eaa8b202a2>\u001b[0m in \u001b[0;36m<module>\u001b[0;34m\u001b[0m\n\u001b[0;32m----> 1\u001b[0;31m \u001b[0mmatriz_vetores_treino\u001b[0m \u001b[0;34m=\u001b[0m \u001b[0mmatriz_vetores\u001b[0m\u001b[0;34m(\u001b[0m\u001b[0mX_treino\u001b[0m\u001b[0;34m[\u001b[0m\u001b[0;34m\"TXT_EMENTA\"\u001b[0m\u001b[0;34m]\u001b[0m\u001b[0;34m,\u001b[0m \u001b[0mvocabulario_skipgram\u001b[0m\u001b[0;34m)\u001b[0m\u001b[0;34m\u001b[0m\u001b[0;34m\u001b[0m\u001b[0m\n\u001b[0m\u001b[1;32m      2\u001b[0m \u001b[0mmatriz_vetores_teste\u001b[0m \u001b[0;34m=\u001b[0m \u001b[0mmatriz_vetores\u001b[0m\u001b[0;34m(\u001b[0m\u001b[0mX_teste\u001b[0m\u001b[0;34m[\u001b[0m\u001b[0;34m\"TXT_EMENTA\"\u001b[0m\u001b[0;34m]\u001b[0m\u001b[0;34m,\u001b[0m \u001b[0mvocabulario_skipgram\u001b[0m\u001b[0;34m)\u001b[0m\u001b[0;34m\u001b[0m\u001b[0;34m\u001b[0m\u001b[0m\n",
            "\u001b[0;31mNameError\u001b[0m: name 'vocabulario_skipgram' is not defined"
          ]
        }
      ],
      "source": [
        "matriz_vetores_treino = matriz_vetores(X_treino[\"TXT_EMENTA\"], vocabulario_skipgram)\n",
        "matriz_vetores_teste = matriz_vetores(X_teste[\"TXT_EMENTA\"], vocabulario_skipgram)"
      ]
    },
    {
      "cell_type": "code",
      "execution_count": null,
      "metadata": {
        "id": "L7svFt1v-W4c"
      },
      "outputs": [],
      "source": []
    },
    {
      "cell_type": "markdown",
      "metadata": {
        "collapsed": false,
        "pycharm": {
          "name": "#%% md\n"
        },
        "id": "hFxKudoN-W4c"
      },
      "source": [
        "## 3 - Treinamento e predição do modelo de Machine Learning"
      ]
    },
    {
      "cell_type": "markdown",
      "metadata": {
        "collapsed": false,
        "pycharm": {
          "name": "#%% md\n"
        },
        "id": "uXYs1n3N-W4c"
      },
      "source": [
        "Treinamento e predição do classificador dummy."
      ]
    },
    {
      "cell_type": "code",
      "execution_count": null,
      "metadata": {
        "pycharm": {
          "name": "#%%\n"
        },
        "id": "Nra4jLET-W4d"
      },
      "outputs": [],
      "source": [
        "dc = DummyClassifier()\n",
        "dc.fit(matriz_vetores_treino, y_treino)\n",
        "classe_prevista_dc = dc.predict(matriz_vetores_teste)"
      ]
    },
    {
      "cell_type": "markdown",
      "metadata": {
        "collapsed": false,
        "pycharm": {
          "name": "#%% md\n"
        },
        "id": "3W69IAqM-W4d"
      },
      "source": [
        "Treinamento e predição do classificador por Regressão Logística."
      ]
    },
    {
      "cell_type": "code",
      "execution_count": null,
      "metadata": {
        "pycharm": {
          "name": "#%%\n"
        },
        "id": "eMrSQEyl-W4e"
      },
      "outputs": [],
      "source": [
        "lr = LogisticRegression(max_iter=3000)\n",
        "lr.fit(matriz_vetores_treino, y_treino)\n",
        "classe_prevista_lr = lr.predict(matriz_vetores_teste)"
      ]
    },
    {
      "cell_type": "markdown",
      "metadata": {
        "collapsed": false,
        "pycharm": {
          "name": "#%% md\n"
        },
        "id": "E6lIaRnJ-W4e"
      },
      "source": [
        "## 4 - Avaliando o modelo"
      ]
    },
    {
      "cell_type": "markdown",
      "metadata": {
        "collapsed": false,
        "pycharm": {
          "name": "#%% md\n"
        },
        "id": "pQrGmuBQ-W4e"
      },
      "source": [
        "Exibe os relatórios de desempenho do modelo do classificador dummy e do de Regressão Logística no dataset de testes"
      ]
    },
    {
      "cell_type": "code",
      "execution_count": 49,
      "metadata": {
        "pycharm": {
          "name": "#%%\n"
        },
        "colab": {
          "base_uri": "https://localhost:8080/",
          "height": 236
        },
        "id": "WqK__8qW-W4f",
        "outputId": "dbaeb9e0-26bd-4176-c58c-95d37ad86802"
      },
      "outputs": [
        {
          "output_type": "error",
          "ename": "NameError",
          "evalue": "ignored",
          "traceback": [
            "\u001b[0;31m---------------------------------------------------------------------------\u001b[0m",
            "\u001b[0;31mNameError\u001b[0m                                 Traceback (most recent call last)",
            "\u001b[0;32m<ipython-input-49-9d6a00cc1d07>\u001b[0m in \u001b[0;36m<module>\u001b[0;34m\u001b[0m\n\u001b[0;32m----> 1\u001b[0;31m \u001b[0macuracia_dc\u001b[0m \u001b[0;34m=\u001b[0m \u001b[0mmetrics\u001b[0m\u001b[0;34m.\u001b[0m\u001b[0maccuracy_score\u001b[0m\u001b[0;34m(\u001b[0m\u001b[0my_teste\u001b[0m\u001b[0;34m,\u001b[0m \u001b[0mclasse_prevista_dc\u001b[0m\u001b[0;34m)\u001b[0m\u001b[0;34m\u001b[0m\u001b[0;34m\u001b[0m\u001b[0m\n\u001b[0m\u001b[1;32m      2\u001b[0m \u001b[0macuracia_lr\u001b[0m \u001b[0;34m=\u001b[0m \u001b[0mmetrics\u001b[0m\u001b[0;34m.\u001b[0m\u001b[0maccuracy_score\u001b[0m\u001b[0;34m(\u001b[0m\u001b[0my_teste\u001b[0m\u001b[0;34m,\u001b[0m \u001b[0mclasse_prevista_lr\u001b[0m\u001b[0;34m)\u001b[0m\u001b[0;34m\u001b[0m\u001b[0;34m\u001b[0m\u001b[0m\n\u001b[1;32m      3\u001b[0m \u001b[0mprint\u001b[0m\u001b[0;34m(\u001b[0m\u001b[0;34m\"Acurácia DummyClassifier:\"\u001b[0m\u001b[0;34m,\u001b[0m  \u001b[0mround\u001b[0m\u001b[0;34m(\u001b[0m\u001b[0macuracia_dc\u001b[0m\u001b[0;34m,\u001b[0m \u001b[0;36m2\u001b[0m\u001b[0;34m)\u001b[0m\u001b[0;34m)\u001b[0m\u001b[0;34m\u001b[0m\u001b[0;34m\u001b[0m\u001b[0m\n\u001b[1;32m      4\u001b[0m \u001b[0mprint\u001b[0m\u001b[0;34m(\u001b[0m\u001b[0;34m\"Acurácia LinearRegressor:\"\u001b[0m\u001b[0;34m,\u001b[0m  \u001b[0mround\u001b[0m\u001b[0;34m(\u001b[0m\u001b[0macuracia_lr\u001b[0m\u001b[0;34m,\u001b[0m \u001b[0;36m2\u001b[0m\u001b[0;34m)\u001b[0m\u001b[0;34m)\u001b[0m\u001b[0;34m\u001b[0m\u001b[0;34m\u001b[0m\u001b[0m\n\u001b[1;32m      5\u001b[0m \u001b[0;34m\u001b[0m\u001b[0m\n",
            "\u001b[0;31mNameError\u001b[0m: name 'classe_prevista_dc' is not defined"
          ]
        }
      ],
      "source": [
        "acuracia_dc = metrics.accuracy_score(y_teste, classe_prevista_dc)\n",
        "acuracia_lr = metrics.accuracy_score(y_teste, classe_prevista_lr)\n",
        "print(\"Acurácia DummyClassifier:\",  round(acuracia_dc, 2))\n",
        "print(\"Acurácia LinearRegressor:\",  round(acuracia_lr, 2))\n",
        "\n",
        "cr_lr = classification_report(y_teste, classe_prevista_lr)\n",
        "\n",
        "print(cr_lr)"
      ]
    }
  ],
  "metadata": {
    "kernelspec": {
      "display_name": "Python 3.9.12 ('mdenv')",
      "language": "python",
      "name": "python3"
    },
    "language_info": {
      "codemirror_mode": {
        "name": "ipython",
        "version": 3
      },
      "file_extension": ".py",
      "mimetype": "text/x-python",
      "name": "python",
      "nbconvert_exporter": "python",
      "pygments_lexer": "ipython3",
      "version": "3.9.12"
    },
    "vscode": {
      "interpreter": {
        "hash": "bb26a599782b3853c870df2c7a4979ed6ea3ce3b4ae25b1f6e4fc2e40113204d"
      }
    },
    "colab": {
      "provenance": [],
      "include_colab_link": true
    }
  },
  "nbformat": 4,
  "nbformat_minor": 0
}